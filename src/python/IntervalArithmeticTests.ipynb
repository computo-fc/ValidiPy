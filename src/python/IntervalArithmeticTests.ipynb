{
 "metadata": {
  "name": ""
 },
 "nbformat": 3,
 "nbformat_minor": 0,
 "worksheets": [
  {
   "cells": [
    {
     "cell_type": "heading",
     "level": 1,
     "metadata": {},
     "source": [
      "Interval arithmetic"
     ]
    },
    {
     "cell_type": "code",
     "collapsed": false,
     "input": [
      "from intervalo import *"
     ],
     "language": "python",
     "metadata": {},
     "outputs": [],
     "prompt_number": 1
    },
    {
     "cell_type": "code",
     "collapsed": false,
     "input": [
      "%whos"
     ],
     "language": "python",
     "metadata": {},
     "outputs": [
      {
       "output_type": "stream",
       "stream": "stdout",
       "text": [
        "Variable           Type                          Data/Info\n",
        "----------------------------------------------------------\n",
        "Intervalo          type                          <class 'intervalo.Intervalo'>\n",
        "MemGlobal          type                          <class 'global_funcs.MemGlobal'>\n",
        "RoundDown          int                           3\n",
        "RoundUp            int                           2\n",
        "calc_inf           function                      <function calc_inf at 0x108e7a7d0>\n",
        "calc_pi            function                      <function calc_pi at 0x108e7a668>\n",
        "cos                function                      <function cos at 0x108e7aa28>\n",
        "ctx                gmpy2 context                 context(precision=53, rea<...>     allow_complex=False)\n",
        "exp                function                      <function exp at 0x108e7a848>\n",
        "gmpy2              module                        <module 'gmpy2' from '/us<...>/site-packages/gmpy2.so'>\n",
        "log                function                      <function log at 0x108e7a8c0>\n",
        "mem                MemGlobal                     <global_funcs.MemGlobal object at 0x108e70e10>\n",
        "mpfr               builtin_function_or_method    <built-in function mpfr>\n",
        "mpfr_type          type                          <type 'mpfr'>\n",
        "mpq                builtin_function_or_method    <built-in function mpq>\n",
        "mpz                builtin_function_or_method    <built-in function mpz>\n",
        "np                 module                        <module 'numpy' from '/us<...>ages/numpy/__init__.pyc'>\n",
        "plot_interval_f    function                      <function plot_interval_f at 0x108e835f0>\n",
        "plt                module                        <module 'matplotlib.pyplo<...>s/matplotlib/pyplot.pyc'>\n",
        "random_interval    function                      <function random_interval at 0x108e7ab18>\n",
        "range_interval_f   function                      <function range_interval_f at 0x108e83578>\n",
        "sin                function                      <function sin at 0x108e7a9b0>\n",
        "split_interval     function                      <function split_interval at 0x108e83500>\n",
        "sqrt               function                      <function sqrt at 0x108e7a938>\n",
        "tan                function                      <function tan at 0x108e7aaa0>\n"
       ]
      }
     ],
     "prompt_number": 2
    },
    {
     "cell_type": "code",
     "collapsed": false,
     "input": [
      "i = Intervalo(1, 2)\n",
      "j = Intervalo(2, 3)"
     ],
     "language": "python",
     "metadata": {},
     "outputs": [],
     "prompt_number": 3
    },
    {
     "cell_type": "code",
     "collapsed": false,
     "input": [
      "print abs(i), j.abs()"
     ],
     "language": "python",
     "metadata": {},
     "outputs": [
      {
       "output_type": "stream",
       "stream": "stdout",
       "text": [
        "[mpfr('1.0'),mpfr('2.0')] [mpfr('2.0'),mpfr('3.0')]\n"
       ]
      }
     ],
     "prompt_number": 4
    },
    {
     "cell_type": "code",
     "collapsed": false,
     "input": [
      "i=Intervalo(-2,1)\n",
      "print abs(i), i.mig(), i.mag()"
     ],
     "language": "python",
     "metadata": {},
     "outputs": [
      {
       "output_type": "stream",
       "stream": "stdout",
       "text": [
        "[mpfr('0.0'),mpfr('2.0')] 0 2.0\n"
       ]
      }
     ],
     "prompt_number": 5
    },
    {
     "cell_type": "code",
     "collapsed": false,
     "input": [
      "print max(abs(i.lo-j.lo),abs(i.hi-j.hi))\n",
      "print i.dist(j)"
     ],
     "language": "python",
     "metadata": {},
     "outputs": [
      {
       "output_type": "stream",
       "stream": "stdout",
       "text": [
        "4.0\n",
        "4.0\n"
       ]
      }
     ],
     "prompt_number": 6
    },
    {
     "cell_type": "code",
     "collapsed": false,
     "input": [
      "print Intervalo(-1), abs(Intervalo(-1.0)), abs(-1)"
     ],
     "language": "python",
     "metadata": {},
     "outputs": [
      {
       "output_type": "stream",
       "stream": "stdout",
       "text": [
        "[mpfr('-1.0'),mpfr('-1.0')] [mpfr('1.0'),mpfr('1.0')] 1\n"
       ]
      }
     ],
     "prompt_number": 7
    },
    {
     "cell_type": "code",
     "collapsed": false,
     "input": [
      "#pretty=False\n",
      "Intervalo(0.1)"
     ],
     "language": "python",
     "metadata": {},
     "outputs": [
      {
       "html": [
        "Intervalo[mpfr('0.099999999999999992'), mpfr('0.10000000000000001')]"
       ],
       "latex": [
        "$[mpfr('0.099999999999999992'), mpfr('0.10000000000000001')]$"
       ],
       "metadata": {},
       "output_type": "pyout",
       "prompt_number": 6,
       "text": [
        "Intervalo[mpfr('0.099999999999999992'), mpfr('0.10000000000000001')]"
       ]
      }
     ],
     "prompt_number": 6
    },
    {
     "cell_type": "code",
     "collapsed": false,
     "input": [
      "Intervalo(0.1)+Intervalo(0.1)"
     ],
     "language": "python",
     "metadata": {},
     "outputs": [
      {
       "html": [
        "Intervalo[mpfr('0.19999999999999998'), mpfr('0.20000000000000001')]"
       ],
       "latex": [
        "$[mpfr('0.19999999999999998'), mpfr('0.20000000000000001')]$"
       ],
       "metadata": {},
       "output_type": "pyout",
       "prompt_number": 7,
       "text": [
        "Intervalo[mpfr('0.19999999999999998'), mpfr('0.20000000000000001')]"
       ]
      }
     ],
     "prompt_number": 7
    },
    {
     "cell_type": "code",
     "collapsed": false,
     "input": [
      "Intervalo(0.2)"
     ],
     "language": "python",
     "metadata": {},
     "outputs": [
      {
       "html": [
        "Intervalo[mpfr('0.19999999999999998'), mpfr('0.20000000000000001')]"
       ],
       "latex": [
        "$[mpfr('0.19999999999999998'), mpfr('0.20000000000000001')]$"
       ],
       "metadata": {},
       "output_type": "pyout",
       "prompt_number": 8,
       "text": [
        "Intervalo[mpfr('0.19999999999999998'), mpfr('0.20000000000000001')]"
       ]
      }
     ],
     "prompt_number": 8
    },
    {
     "cell_type": "code",
     "collapsed": false,
     "input": [
      "i"
     ],
     "language": "python",
     "metadata": {},
     "outputs": [
      {
       "html": [
        "Intervalo[mpfr('-2.0'), mpfr('1.0')]"
       ],
       "latex": [
        "$[mpfr('-2.0'), mpfr('1.0')]$"
       ],
       "metadata": {},
       "output_type": "pyout",
       "prompt_number": 9,
       "text": [
        "Intervalo[mpfr('-2.0'), mpfr('1.0')]"
       ]
      }
     ],
     "prompt_number": 9
    },
    {
     "cell_type": "code",
     "collapsed": false,
     "input": [
      "j"
     ],
     "language": "python",
     "metadata": {},
     "outputs": [
      {
       "html": [
        "Intervalo[mpfr('2.0'), mpfr('3.0')]"
       ],
       "latex": [
        "$[mpfr('2.0'), mpfr('3.0')]$"
       ],
       "metadata": {},
       "output_type": "pyout",
       "prompt_number": 10,
       "text": [
        "Intervalo[mpfr('2.0'), mpfr('3.0')]"
       ]
      }
     ],
     "prompt_number": 10
    },
    {
     "cell_type": "code",
     "collapsed": false,
     "input": [
      "i > 0, j > 0"
     ],
     "language": "python",
     "metadata": {},
     "outputs": [
      {
       "metadata": {},
       "output_type": "pyout",
       "prompt_number": 11,
       "text": [
        "(False, True)"
       ]
      }
     ],
     "prompt_number": 11
    },
    {
     "cell_type": "code",
     "collapsed": false,
     "input": [
      "i + j"
     ],
     "language": "python",
     "metadata": {},
     "outputs": [
      {
       "html": [
        "Intervalo[mpfr('-0.0'), mpfr('4.0')]"
       ],
       "latex": [
        "$[mpfr('-0.0'), mpfr('4.0')]$"
       ],
       "metadata": {},
       "output_type": "pyout",
       "prompt_number": 21,
       "text": [
        "Intervalo[mpfr('-0.0'), mpfr('4.0')]"
       ]
      }
     ],
     "prompt_number": 21
    },
    {
     "cell_type": "code",
     "collapsed": false,
     "input": [
      "i - j"
     ],
     "language": "python",
     "metadata": {},
     "outputs": [
      {
       "html": [
        "Intervalo[mpfr('-5.0'), mpfr('-1.0')]"
       ],
       "latex": [
        "$[mpfr('-5.0'), mpfr('-1.0')]$"
       ],
       "metadata": {},
       "output_type": "pyout",
       "prompt_number": 22,
       "text": [
        "Intervalo[mpfr('-5.0'), mpfr('-1.0')]"
       ]
      }
     ],
     "prompt_number": 22
    },
    {
     "cell_type": "code",
     "collapsed": false,
     "input": [
      "i * j"
     ],
     "language": "python",
     "metadata": {},
     "outputs": [
      {
       "html": [
        "Intervalo[mpfr('-6.0'), mpfr('3.0')]"
       ],
       "latex": [
        "$[mpfr('-6.0'), mpfr('3.0')]$"
       ],
       "metadata": {},
       "output_type": "pyout",
       "prompt_number": 23,
       "text": [
        "Intervalo[mpfr('-6.0'), mpfr('3.0')]"
       ]
      }
     ],
     "prompt_number": 23
    },
    {
     "cell_type": "code",
     "collapsed": false,
     "input": [
      "a = Intervalo(1, 2)\n",
      "b = Intervalo(3, 4)"
     ],
     "language": "python",
     "metadata": {},
     "outputs": [],
     "prompt_number": 24
    },
    {
     "cell_type": "code",
     "collapsed": false,
     "input": [
      "a * b"
     ],
     "language": "python",
     "metadata": {},
     "outputs": [
      {
       "html": [
        "Intervalo[mpfr('3.0'), mpfr('8.0')]"
       ],
       "latex": [
        "$[mpfr('3.0'), mpfr('8.0')]$"
       ],
       "metadata": {},
       "output_type": "pyout",
       "prompt_number": 25,
       "text": [
        "Intervalo[mpfr('3.0'), mpfr('8.0')]"
       ]
      }
     ],
     "prompt_number": 25
    },
    {
     "cell_type": "code",
     "collapsed": false,
     "input": [
      "a*b > 0"
     ],
     "language": "python",
     "metadata": {},
     "outputs": [
      {
       "metadata": {},
       "output_type": "pyout",
       "prompt_number": 26,
       "text": [
        "True"
       ]
      }
     ],
     "prompt_number": 26
    },
    {
     "cell_type": "markdown",
     "metadata": {},
     "source": [
      "El siguiente producto aparentemente funciona..., pero **NO**"
     ]
    },
    {
     "cell_type": "code",
     "collapsed": false,
     "input": [
      "b*4.3"
     ],
     "language": "python",
     "metadata": {},
     "outputs": [
      {
       "html": [
        "Intervalo[mpfr('12.899999999999999'), mpfr('17.200000000000003')]"
       ],
       "latex": [
        "$[mpfr('12.899999999999999'), mpfr('17.200000000000003')]$"
       ],
       "metadata": {},
       "output_type": "pyout",
       "prompt_number": 27,
       "text": [
        "Intervalo[mpfr('12.899999999999999'), mpfr('17.200000000000003')]"
       ]
      }
     ],
     "prompt_number": 27
    },
    {
     "cell_type": "code",
     "collapsed": false,
     "input": [
      "4.3*b"
     ],
     "language": "python",
     "metadata": {},
     "outputs": [
      {
       "html": [
        "Intervalo[mpfr('12.899999999999999'), mpfr('17.200000000000003')]"
       ],
       "latex": [
        "$[mpfr('12.899999999999999'), mpfr('17.200000000000003')]$"
       ],
       "metadata": {},
       "output_type": "pyout",
       "prompt_number": 28,
       "text": [
        "Intervalo[mpfr('12.899999999999999'), mpfr('17.200000000000003')]"
       ]
      }
     ],
     "prompt_number": 28
    },
    {
     "cell_type": "code",
     "collapsed": false,
     "input": [
      "print repr(b*4.3), repr(4.3*b)"
     ],
     "language": "python",
     "metadata": {},
     "outputs": [
      {
       "output_type": "stream",
       "stream": "stdout",
       "text": [
        "Intervalo[mpfr('12.899999999999999'), mpfr('17.200000000000003')] Intervalo[mpfr('12.899999999999999'), mpfr('17.200000000000003')]\n"
       ]
      }
     ],
     "prompt_number": 29
    },
    {
     "cell_type": "code",
     "collapsed": false,
     "input": [
      "(4.3*b).lo == mpfr('12.9')"
     ],
     "language": "python",
     "metadata": {},
     "outputs": [
      {
       "metadata": {},
       "output_type": "pyout",
       "prompt_number": 31,
       "text": [
        "False"
       ]
      }
     ],
     "prompt_number": 31
    },
    {
     "cell_type": "code",
     "collapsed": false,
     "input": [
      "print mp"
     ],
     "language": "python",
     "metadata": {},
     "outputs": [
      {
       "ename": "NameError",
       "evalue": "name 'mp' is not defined",
       "output_type": "pyerr",
       "traceback": [
        "\u001b[0;31m---------------------------------------------------------------------------\u001b[0m\n\u001b[0;31mNameError\u001b[0m                                 Traceback (most recent call last)",
        "\u001b[0;32m<ipython-input-33-f80345107578>\u001b[0m in \u001b[0;36m<module>\u001b[0;34m()\u001b[0m\n\u001b[0;32m----> 1\u001b[0;31m \u001b[0;32mprint\u001b[0m \u001b[0mmp\u001b[0m\u001b[0;34m\u001b[0m\u001b[0m\n\u001b[0m",
        "\u001b[0;31mNameError\u001b[0m: name 'mp' is not defined"
       ]
      }
     ],
     "prompt_number": 33
    },
    {
     "cell_type": "code",
     "collapsed": false,
     "input": [
      "mp.dps=80\n",
      "print (4.3*b).lo == mpfr('12.9')\n",
      "print (b*4.3).lo == mpfr('12.9')"
     ],
     "language": "python",
     "metadata": {},
     "outputs": [
      {
       "ename": "NameError",
       "evalue": "name 'mp' is not defined",
       "output_type": "pyerr",
       "traceback": [
        "\u001b[0;31m---------------------------------------------------------------------------\u001b[0m\n\u001b[0;31mNameError\u001b[0m                                 Traceback (most recent call last)",
        "\u001b[0;32m<ipython-input-35-0b4d0874e044>\u001b[0m in \u001b[0;36m<module>\u001b[0;34m()\u001b[0m\n\u001b[0;32m----> 1\u001b[0;31m \u001b[0mmp\u001b[0m\u001b[0;34m.\u001b[0m\u001b[0mdps\u001b[0m\u001b[0;34m=\u001b[0m\u001b[0;36m80\u001b[0m\u001b[0;34m\u001b[0m\u001b[0m\n\u001b[0m\u001b[1;32m      2\u001b[0m \u001b[0;32mprint\u001b[0m \u001b[0;34m(\u001b[0m\u001b[0;36m4.3\u001b[0m\u001b[0;34m*\u001b[0m\u001b[0mb\u001b[0m\u001b[0;34m)\u001b[0m\u001b[0;34m.\u001b[0m\u001b[0mlo\u001b[0m \u001b[0;34m==\u001b[0m \u001b[0mmpfr\u001b[0m\u001b[0;34m(\u001b[0m\u001b[0;34m'12.9'\u001b[0m\u001b[0;34m)\u001b[0m\u001b[0;34m\u001b[0m\u001b[0m\n\u001b[1;32m      3\u001b[0m \u001b[0;32mprint\u001b[0m \u001b[0;34m(\u001b[0m\u001b[0mb\u001b[0m\u001b[0;34m*\u001b[0m\u001b[0;36m4.3\u001b[0m\u001b[0;34m)\u001b[0m\u001b[0;34m.\u001b[0m\u001b[0mlo\u001b[0m \u001b[0;34m==\u001b[0m \u001b[0mmpfr\u001b[0m\u001b[0;34m(\u001b[0m\u001b[0;34m'12.9'\u001b[0m\u001b[0;34m)\u001b[0m\u001b[0;34m\u001b[0m\u001b[0m\n",
        "\u001b[0;31mNameError\u001b[0m: name 'mp' is not defined"
       ]
      }
     ],
     "prompt_number": 35
    },
    {
     "cell_type": "markdown",
     "metadata": {},
     "source": [
      "Pasamos a otra cosa..."
     ]
    },
    {
     "cell_type": "code",
     "collapsed": false,
     "input": [
      "mp.dps=15\n",
      "print mp"
     ],
     "language": "python",
     "metadata": {},
     "outputs": [
      {
       "ename": "NameError",
       "evalue": "name 'mp' is not defined",
       "output_type": "pyerr",
       "traceback": [
        "\u001b[0;31m---------------------------------------------------------------------------\u001b[0m\n\u001b[0;31mNameError\u001b[0m                                 Traceback (most recent call last)",
        "\u001b[0;32m<ipython-input-36-e034ce6cecbc>\u001b[0m in \u001b[0;36m<module>\u001b[0;34m()\u001b[0m\n\u001b[0;32m----> 1\u001b[0;31m \u001b[0mmp\u001b[0m\u001b[0;34m.\u001b[0m\u001b[0mdps\u001b[0m\u001b[0;34m=\u001b[0m\u001b[0;36m15\u001b[0m\u001b[0;34m\u001b[0m\u001b[0m\n\u001b[0m\u001b[1;32m      2\u001b[0m \u001b[0;32mprint\u001b[0m \u001b[0mmp\u001b[0m\u001b[0;34m\u001b[0m\u001b[0m\n",
        "\u001b[0;31mNameError\u001b[0m: name 'mp' is not defined"
       ]
      }
     ],
     "prompt_number": 36
    },
    {
     "cell_type": "code",
     "collapsed": false,
     "input": [
      "a / b"
     ],
     "language": "python",
     "metadata": {},
     "outputs": [
      {
       "html": [
        "[0.25, 0.666666666666667]"
       ],
       "latex": [
        "$[0.25, 0.666666666666667]$"
       ],
       "metadata": {},
       "output_type": "pyout",
       "prompt_number": 26,
       "text": [
        "Intervalo [mpf('0.25'),mpf('0.66666666666666663')]"
       ]
      }
     ],
     "prompt_number": 26
    },
    {
     "cell_type": "code",
     "collapsed": false,
     "input": [
      "a.reciprocal()"
     ],
     "language": "python",
     "metadata": {},
     "outputs": [
      {
       "html": [
        "[0.5, 1.0]"
       ],
       "latex": [
        "$[0.5, 1.0]$"
       ],
       "metadata": {},
       "output_type": "pyout",
       "prompt_number": 27,
       "text": [
        "Intervalo [mpf('0.5'),mpf('1.0')]"
       ]
      }
     ],
     "prompt_number": 27
    },
    {
     "cell_type": "code",
     "collapsed": false,
     "input": [
      "c = Intervalo(-1, 1)"
     ],
     "language": "python",
     "metadata": {},
     "outputs": [],
     "prompt_number": 28
    },
    {
     "cell_type": "code",
     "collapsed": false,
     "input": [
      "c.reciprocal()"
     ],
     "language": "python",
     "metadata": {},
     "outputs": [
      {
       "html": [
        "[-&infin;, +&infin;]"
       ],
       "latex": [
        "$[-inf, +inf]$"
       ],
       "metadata": {},
       "output_type": "pyout",
       "prompt_number": 29,
       "text": [
        "Intervalo [mpf('-inf'),mpf('+inf')]"
       ]
      }
     ],
     "prompt_number": 29
    },
    {
     "cell_type": "code",
     "collapsed": false,
     "input": [
      "Intervalo(1./3)"
     ],
     "language": "python",
     "metadata": {},
     "outputs": [
      {
       "html": [
        "[0.333333333333, 0.333333333333]"
       ],
       "latex": [
        "$[0.333333333333, 0.333333333333]$"
       ],
       "metadata": {},
       "output_type": "pyout",
       "prompt_number": 30,
       "text": [
        "Intervalo [mpf('0.33333333333300003'),mpf('0.33333333333300003')]"
       ]
      }
     ],
     "prompt_number": 30
    },
    {
     "cell_type": "code",
     "collapsed": false,
     "input": [
      "c**Intervalo(1./3)"
     ],
     "language": "python",
     "metadata": {},
     "outputs": [
      {
       "output_type": "stream",
       "stream": "stdout",
       "text": [
        "\n",
        "WARNING: Interval [-1.0,1.0] contains 0.\n",
        "\n",
        "Restricting to the intersection with the natural domain of **, i.e. [0.0,1.0]\n",
        "\n"
       ]
      },
      {
       "html": [
        "[0.0, 1.0]"
       ],
       "latex": [
        "$[0.0, 1.0]$"
       ],
       "metadata": {},
       "output_type": "pyout",
       "prompt_number": 31,
       "text": [
        "Intervalo [mpf('0.0'),mpf('1.0')]"
       ]
      }
     ],
     "prompt_number": 31
    },
    {
     "cell_type": "code",
     "collapsed": false,
     "input": [
      "cc=(mpf('-1'))**(mpf('1.0')/3)\n",
      "print cc"
     ],
     "language": "python",
     "metadata": {},
     "outputs": [
      {
       "output_type": "stream",
       "stream": "stdout",
       "text": [
        "(0.5 + 0.866025403784439j)\n"
       ]
      }
     ],
     "prompt_number": 32
    },
    {
     "cell_type": "code",
     "collapsed": false,
     "input": [
      "print cc**3\n",
      "print cc.real**3 - 3*cc.real*cc.imag**2\n",
      "print 3*cc.real**2*cc.imag - cc.imag**3"
     ],
     "language": "python",
     "metadata": {},
     "outputs": [
      {
       "output_type": "stream",
       "stream": "stdout",
       "text": [
        "(-1.0 + 7.52631316635518e-17j)\n",
        "-1.0\n",
        "1.11022302462516e-16\n"
       ]
      }
     ],
     "prompt_number": 33
    },
    {
     "cell_type": "code",
     "collapsed": false,
     "input": [
      "a = Intervalo(-2,5)\n",
      "b = Intervalo(0,5)\n",
      "log(a)"
     ],
     "language": "python",
     "metadata": {},
     "outputs": [
      {
       "output_type": "stream",
       "stream": "stdout",
       "text": [
        "\n",
        "WARNING: Interval [-2.0,5.0] contains 0 or negative numbers.\n",
        "\n",
        "Restricting to the intersection with the natural domain of log(x), i.e. [0.0,5.0]\n",
        "\n"
       ]
      },
      {
       "html": [
        "[-&infin;, 1.6094379124341]"
       ],
       "latex": [
        "$[-inf, 1.6094379124341]$"
       ],
       "metadata": {},
       "output_type": "pyout",
       "prompt_number": 34,
       "text": [
        "Intervalo [mpf('-inf'),mpf('1.6094379124341003')]"
       ]
      }
     ],
     "prompt_number": 34
    },
    {
     "cell_type": "code",
     "collapsed": false,
     "input": [
      "a**2.5"
     ],
     "language": "python",
     "metadata": {},
     "outputs": [
      {
       "output_type": "stream",
       "stream": "stdout",
       "text": [
        "\n",
        "WARNING: Interval [-2.0,5.0] contains 0.\n",
        "\n",
        "Restricting to the intersection with the natural domain of **, i.e. [0.0,5.0]\n",
        "\n"
       ]
      },
      {
       "html": [
        "[0.0, 55.9016994374947]"
       ],
       "latex": [
        "$[0.0, 55.9016994374947]$"
       ],
       "metadata": {},
       "output_type": "pyout",
       "prompt_number": 35,
       "text": [
        "Intervalo [mpf('0.0'),mpf('55.901699437494742')]"
       ]
      }
     ],
     "prompt_number": 35
    },
    {
     "cell_type": "code",
     "collapsed": false,
     "input": [
      "#pretty=False\n",
      "print a, b"
     ],
     "language": "python",
     "metadata": {},
     "outputs": [
      {
       "output_type": "stream",
       "stream": "stdout",
       "text": [
        "[-2.0,5.0] [0.0,5.0]\n"
       ]
      }
     ],
     "prompt_number": 36
    },
    {
     "cell_type": "code",
     "collapsed": false,
     "input": [
      "print repr( (mpf('2.5')*a.log()).exp() )"
     ],
     "language": "python",
     "metadata": {},
     "outputs": [
      {
       "output_type": "stream",
       "stream": "stdout",
       "text": [
        "\n",
        "WARNING: Interval [-2.0,5.0] contains 0 or negative numbers.\n",
        "\n",
        "Restricting to the intersection with the natural domain of log(x), i.e. [0.0,5.0]\n",
        "\n",
        "Intervalo [mpf('0.0'),mpf('55.901699437494734')]\n"
       ]
      }
     ],
     "prompt_number": 37
    },
    {
     "cell_type": "code",
     "collapsed": false,
     "input": [
      "print repr( b**mpf('2.5') )"
     ],
     "language": "python",
     "metadata": {},
     "outputs": [
      {
       "output_type": "stream",
       "stream": "stdout",
       "text": [
        "\n",
        "WARNING: Interval [0.0,5.0] contains 0.\n",
        "\n",
        "Restricting to the intersection with the natural domain of **, i.e. [0.0,5.0]\n",
        "\n",
        "Intervalo [mpf('0.0'),mpf('55.901699437494742')]\n"
       ]
      }
     ],
     "prompt_number": 38
    },
    {
     "cell_type": "code",
     "collapsed": false,
     "input": [
      "print repr( mpf('5')**mpf('2.5') ), repr( mp.exp( mpf('2.5')*mp.log(mpf('5'))) )"
     ],
     "language": "python",
     "metadata": {},
     "outputs": [
      {
       "output_type": "stream",
       "stream": "stdout",
       "text": [
        "mpf('55.901699437494742') mpf('55.901699437494734')\n"
       ]
      }
     ],
     "prompt_number": 39
    },
    {
     "cell_type": "code",
     "collapsed": false,
     "input": [
      "mp.exp(4.02359478108525)"
     ],
     "language": "python",
     "metadata": {},
     "outputs": [
      {
       "metadata": {},
       "output_type": "pyout",
       "prompt_number": 40,
       "text": [
        "mpf('55.901699437494685')"
       ]
      }
     ],
     "prompt_number": 40
    },
    {
     "cell_type": "code",
     "collapsed": false,
     "input": [
      "1.5 in a"
     ],
     "language": "python",
     "metadata": {},
     "outputs": [
      {
       "metadata": {},
       "output_type": "pyout",
       "prompt_number": 41,
       "text": [
        "True"
       ]
      }
     ],
     "prompt_number": 41
    },
    {
     "cell_type": "code",
     "collapsed": false,
     "input": [
      "1 in a"
     ],
     "language": "python",
     "metadata": {},
     "outputs": [
      {
       "metadata": {},
       "output_type": "pyout",
       "prompt_number": 42,
       "text": [
        "True"
       ]
      }
     ],
     "prompt_number": 42
    },
    {
     "cell_type": "code",
     "collapsed": false,
     "input": [
      "0.9 in a"
     ],
     "language": "python",
     "metadata": {},
     "outputs": [
      {
       "metadata": {},
       "output_type": "pyout",
       "prompt_number": 43,
       "text": [
        "True"
       ]
      }
     ],
     "prompt_number": 43
    },
    {
     "cell_type": "code",
     "collapsed": false,
     "input": [
      "3 in a"
     ],
     "language": "python",
     "metadata": {},
     "outputs": [
      {
       "metadata": {},
       "output_type": "pyout",
       "prompt_number": 44,
       "text": [
        "True"
       ]
      }
     ],
     "prompt_number": 44
    },
    {
     "cell_type": "code",
     "collapsed": false,
     "input": [
      "2.1 in a"
     ],
     "language": "python",
     "metadata": {},
     "outputs": [
      {
       "metadata": {},
       "output_type": "pyout",
       "prompt_number": 45,
       "text": [
        "True"
       ]
      }
     ],
     "prompt_number": 45
    },
    {
     "cell_type": "code",
     "collapsed": false,
     "input": [
      "Intervalo(3, 4) in Intervalo(3,5)"
     ],
     "language": "python",
     "metadata": {},
     "outputs": [
      {
       "metadata": {},
       "output_type": "pyout",
       "prompt_number": 47,
       "text": [
        "True"
       ]
      }
     ],
     "prompt_number": 47
    },
    {
     "cell_type": "code",
     "collapsed": false,
     "input": [
      "Intervalo(-3.5, 7.2)"
     ],
     "language": "python",
     "metadata": {},
     "outputs": [
      {
       "html": [
        "[-3.5, 7.2]"
       ],
       "latex": [
        "$[-3.5, 7.2]$"
       ],
       "metadata": {},
       "output_type": "pyout",
       "prompt_number": 48,
       "text": [
        "Intervalo [mpf('-3.5'),mpf('7.2000000000000002')]"
       ]
      }
     ],
     "prompt_number": 48
    },
    {
     "cell_type": "code",
     "collapsed": false,
     "input": [
      "from sympy.mpmath import mp, mpf, sqrt"
     ],
     "language": "python",
     "metadata": {},
     "outputs": [],
     "prompt_number": 49
    },
    {
     "cell_type": "code",
     "collapsed": false,
     "input": [
      "Intervalo(mpf(\"-1.\"), sqrt(2))"
     ],
     "language": "python",
     "metadata": {},
     "outputs": [
      {
       "html": [
        "[-1.0, 1.4142135623731]"
       ],
       "latex": [
        "$[-1.0, 1.4142135623731]$"
       ],
       "metadata": {},
       "output_type": "pyout",
       "prompt_number": 50,
       "text": [
        "Intervalo [mpf('-1.0'),mpf('1.4142135623730951')]"
       ]
      }
     ],
     "prompt_number": 50
    },
    {
     "cell_type": "code",
     "collapsed": false,
     "input": [
      "mp.pretty = False"
     ],
     "language": "python",
     "metadata": {},
     "outputs": [],
     "prompt_number": 51
    },
    {
     "cell_type": "code",
     "collapsed": false,
     "input": [
      "Intervalo(mpf(\"0.1\"), sqrt(2))"
     ],
     "language": "python",
     "metadata": {},
     "outputs": [
      {
       "html": [
        "[0.1, 1.4142135623731]"
       ],
       "latex": [
        "$[0.1, 1.4142135623731]$"
       ],
       "metadata": {},
       "output_type": "pyout",
       "prompt_number": 52,
       "text": [
        "Intervalo [mpf('0.10000000000000001'),mpf('1.4142135623730951')]"
       ]
      }
     ],
     "prompt_number": 52
    },
    {
     "cell_type": "code",
     "collapsed": false,
     "input": [
      "Intervalo(4, -3)"
     ],
     "language": "python",
     "metadata": {},
     "outputs": [
      {
       "html": [
        "[-3.0, 4.0]"
       ],
       "latex": [
        "$[-3.0, 4.0]$"
       ],
       "metadata": {},
       "output_type": "pyout",
       "prompt_number": 53,
       "text": [
        "Intervalo [mpf('-3.0'),mpf('4.0')]"
       ]
      }
     ],
     "prompt_number": 53
    },
    {
     "cell_type": "code",
     "collapsed": false,
     "input": [
      "mp.dps = 100"
     ],
     "language": "python",
     "metadata": {},
     "outputs": [],
     "prompt_number": 54
    },
    {
     "cell_type": "code",
     "collapsed": false,
     "input": [
      "def f(x):\n",
      "    return x**2"
     ],
     "language": "python",
     "metadata": {},
     "outputs": [],
     "prompt_number": 55
    },
    {
     "cell_type": "code",
     "collapsed": false,
     "input": [
      "f(3)"
     ],
     "language": "python",
     "metadata": {},
     "outputs": [
      {
       "metadata": {},
       "output_type": "pyout",
       "prompt_number": 56,
       "text": [
        "9"
       ]
      }
     ],
     "prompt_number": 56
    },
    {
     "cell_type": "code",
     "collapsed": false,
     "input": [
      "i"
     ],
     "language": "python",
     "metadata": {},
     "outputs": [
      {
       "html": [
        "[-2.0, 1.0]"
       ],
       "latex": [
        "$[-2.0, 1.0]$"
       ],
       "metadata": {},
       "output_type": "pyout",
       "prompt_number": 57,
       "text": [
        "Intervalo [mpf('-2.0'),mpf('1.0')]"
       ]
      }
     ],
     "prompt_number": 57
    },
    {
     "cell_type": "code",
     "collapsed": false,
     "input": [
      "f(i)"
     ],
     "language": "python",
     "metadata": {},
     "outputs": [
      {
       "html": [
        "[0.0, 4.0]"
       ],
       "latex": [
        "$[0.0, 4.0]$"
       ],
       "metadata": {},
       "output_type": "pyout",
       "prompt_number": 58,
       "text": [
        "Intervalo [mpf('0.0'),mpf('4.0')]"
       ]
      }
     ],
     "prompt_number": 58
    },
    {
     "cell_type": "code",
     "collapsed": false,
     "input": [
      "a"
     ],
     "language": "python",
     "metadata": {},
     "outputs": [
      {
       "html": [
        "[-2.0, 5.0]"
       ],
       "latex": [
        "$[-2.0, 5.0]$"
       ],
       "metadata": {},
       "output_type": "pyout",
       "prompt_number": 59,
       "text": [
        "Intervalo [mpf('-2.0'),mpf('5.0')]"
       ]
      }
     ],
     "prompt_number": 59
    },
    {
     "cell_type": "code",
     "collapsed": false,
     "input": [
      "-i"
     ],
     "language": "python",
     "metadata": {},
     "outputs": [
      {
       "html": [
        "[-1.0, 2.0]"
       ],
       "latex": [
        "$[-1.0, 2.0]$"
       ],
       "metadata": {},
       "output_type": "pyout",
       "prompt_number": 60,
       "text": [
        "Intervalo [mpf('-1.0'),mpf('2.0')]"
       ]
      }
     ],
     "prompt_number": 60
    },
    {
     "cell_type": "code",
     "collapsed": false,
     "input": [
      "str(2.3)"
     ],
     "language": "python",
     "metadata": {},
     "outputs": [
      {
       "metadata": {},
       "output_type": "pyout",
       "prompt_number": 61,
       "text": [
        "'2.3'"
       ]
      }
     ],
     "prompt_number": 61
    },
    {
     "cell_type": "code",
     "collapsed": false,
     "input": [
      "mpf(str(2.3))"
     ],
     "language": "python",
     "metadata": {},
     "outputs": [
      {
       "metadata": {},
       "output_type": "pyout",
       "prompt_number": 62,
       "text": [
        "mpf('2.299999999999999999999999999999999999999999999999999999999999999999999999999999999999999999999999999994')"
       ]
      }
     ],
     "prompt_number": 62
    },
    {
     "cell_type": "code",
     "collapsed": false,
     "input": [
      "Intervalo(\"2.3\")"
     ],
     "language": "python",
     "metadata": {},
     "outputs": [
      {
       "html": [
        "[2.3, 2.3]"
       ],
       "latex": [
        "$[2.3, 2.3]$"
       ],
       "metadata": {},
       "output_type": "pyout",
       "prompt_number": 63,
       "text": [
        "Intervalo [mpf('2.299999999999999999999999999999999999999999999999999999999999999999999999999999999999999999999999999994'),mpf('2.299999999999999999999999999999999999999999999999999999999999999999999999999999999999999999999999999994')]"
       ]
      }
     ],
     "prompt_number": 63
    },
    {
     "cell_type": "code",
     "collapsed": false,
     "input": [
      "i + 2.3"
     ],
     "language": "python",
     "metadata": {},
     "outputs": [
      {
       "html": [
        "[0.3, 3.3]"
       ],
       "latex": [
        "$[0.3, 3.3]$"
       ],
       "metadata": {},
       "output_type": "pyout",
       "prompt_number": 64,
       "text": [
        "Intervalo [mpf('0.2999999999999999999999999999999999999999999999999999999999999999999999999999999999999999999999999999943'),mpf('3.299999999999999999999999999999999999999999999999999999999999999999999999999999999999999999999999999994')]"
       ]
      }
     ],
     "prompt_number": 64
    },
    {
     "cell_type": "code",
     "collapsed": false,
     "input": [
      "i"
     ],
     "language": "python",
     "metadata": {},
     "outputs": [
      {
       "html": [
        "[-2.0, 1.0]"
       ],
       "latex": [
        "$[-2.0, 1.0]$"
       ],
       "metadata": {},
       "output_type": "pyout",
       "prompt_number": 65,
       "text": [
        "Intervalo [mpf('-2.0'),mpf('1.0')]"
       ]
      }
     ],
     "prompt_number": 65
    },
    {
     "cell_type": "code",
     "collapsed": false,
     "input": [
      "2.3 + i"
     ],
     "language": "python",
     "metadata": {},
     "outputs": [
      {
       "html": [
        "[0.3, 3.3]"
       ],
       "latex": [
        "$[0.3, 3.3]$"
       ],
       "metadata": {},
       "output_type": "pyout",
       "prompt_number": 68,
       "text": [
        "Intervalo [mpf('0.2999999999999999999999999999999999999999999999999999999999999999999999999999999999999999999999999999943'),mpf('3.299999999999999999999999999999999999999999999999999999999999999999999999999999999999999999999999999994')]"
       ]
      }
     ],
     "prompt_number": 68
    },
    {
     "cell_type": "code",
     "collapsed": false,
     "input": [
      "a"
     ],
     "language": "python",
     "metadata": {},
     "outputs": [
      {
       "html": [
        "[-2.0, 5.0]"
       ],
       "latex": [
        "$[-2.0, 5.0]$"
       ],
       "metadata": {},
       "output_type": "pyout",
       "prompt_number": 69,
       "text": [
        "Intervalo [mpf('-2.0'),mpf('5.0')]"
       ]
      }
     ],
     "prompt_number": 69
    },
    {
     "cell_type": "code",
     "collapsed": false,
     "input": [
      "a = Intervalo(2, 3)"
     ],
     "language": "python",
     "metadata": {},
     "outputs": [],
     "prompt_number": 70
    },
    {
     "cell_type": "code",
     "collapsed": false,
     "input": [
      "a"
     ],
     "language": "python",
     "metadata": {},
     "outputs": [
      {
       "html": [
        "[2.0, 3.0]"
       ],
       "latex": [
        "$[2.0, 3.0]$"
       ],
       "metadata": {},
       "output_type": "pyout",
       "prompt_number": 71,
       "text": [
        "Intervalo [mpf('2.0'),mpf('3.0')]"
       ]
      }
     ],
     "prompt_number": 71
    },
    {
     "cell_type": "code",
     "collapsed": false,
     "input": [
      "b"
     ],
     "language": "python",
     "metadata": {},
     "outputs": [
      {
       "html": [
        "[0.0, 5.0]"
       ],
       "latex": [
        "$[0.0, 5.0]$"
       ],
       "metadata": {},
       "output_type": "pyout",
       "prompt_number": 72,
       "text": [
        "Intervalo [mpf('0.0'),mpf('5.0')]"
       ]
      }
     ],
     "prompt_number": 72
    },
    {
     "cell_type": "code",
     "collapsed": false,
     "input": [
      "a + b"
     ],
     "language": "python",
     "metadata": {},
     "outputs": [
      {
       "html": [
        "[2.0, 8.0]"
       ],
       "latex": [
        "$[2.0, 8.0]$"
       ],
       "metadata": {},
       "output_type": "pyout",
       "prompt_number": 73,
       "text": [
        "Intervalo [mpf('2.0'),mpf('8.0')]"
       ]
      }
     ],
     "prompt_number": 73
    },
    {
     "cell_type": "code",
     "collapsed": false,
     "input": [
      "a+b"
     ],
     "language": "python",
     "metadata": {},
     "outputs": [
      {
       "html": [
        "[2.0, 8.0]"
       ],
       "latex": [
        "$[2.0, 8.0]$"
       ],
       "metadata": {},
       "output_type": "pyout",
       "prompt_number": 74,
       "text": [
        "Intervalo [mpf('2.0'),mpf('8.0')]"
       ]
      }
     ],
     "prompt_number": 74
    },
    {
     "cell_type": "code",
     "collapsed": false,
     "input": [
      "1 - b"
     ],
     "language": "python",
     "metadata": {},
     "outputs": [
      {
       "html": [
        "[-4.0, 1.0]"
       ],
       "latex": [
        "$[-4.0, 1.0]$"
       ],
       "metadata": {},
       "output_type": "pyout",
       "prompt_number": 75,
       "text": [
        "Intervalo [mpf('-4.0'),mpf('1.0')]"
       ]
      }
     ],
     "prompt_number": 75
    },
    {
     "cell_type": "code",
     "collapsed": false,
     "input": [
      "1-b"
     ],
     "language": "python",
     "metadata": {},
     "outputs": [
      {
       "html": [
        "[-4.0, 1.0]"
       ],
       "latex": [
        "$[-4.0, 1.0]$"
       ],
       "metadata": {},
       "output_type": "pyout",
       "prompt_number": 76,
       "text": [
        "Intervalo [mpf('-4.0'),mpf('1.0')]"
       ]
      }
     ],
     "prompt_number": 76
    },
    {
     "cell_type": "code",
     "collapsed": false,
     "input": [
      "1 + b"
     ],
     "language": "python",
     "metadata": {},
     "outputs": [
      {
       "html": [
        "[1.0, 6.0]"
       ],
       "latex": [
        "$[1.0, 6.0]$"
       ],
       "metadata": {},
       "output_type": "pyout",
       "prompt_number": 77,
       "text": [
        "Intervalo [mpf('1.0'),mpf('6.0')]"
       ]
      }
     ],
     "prompt_number": 77
    },
    {
     "cell_type": "code",
     "collapsed": false,
     "input": [
      "b, b - 1"
     ],
     "language": "python",
     "metadata": {},
     "outputs": [
      {
       "metadata": {},
       "output_type": "pyout",
       "prompt_number": 78,
       "text": [
        "(Intervalo [mpf('0.0'),mpf('5.0')], Intervalo [mpf('-1.0'),mpf('4.0')])"
       ]
      }
     ],
     "prompt_number": 78
    },
    {
     "cell_type": "code",
     "collapsed": false,
     "input": [
      "b-1"
     ],
     "language": "python",
     "metadata": {},
     "outputs": [
      {
       "html": [
        "[-1.0, 4.0]"
       ],
       "latex": [
        "$[-1.0, 4.0]$"
       ],
       "metadata": {},
       "output_type": "pyout",
       "prompt_number": 79,
       "text": [
        "Intervalo [mpf('-1.0'),mpf('4.0')]"
       ]
      }
     ],
     "prompt_number": 79
    },
    {
     "cell_type": "code",
     "collapsed": false,
     "input": [
      "d = Intervalo(3, \"inf\")\n",
      "d"
     ],
     "language": "python",
     "metadata": {},
     "outputs": [
      {
       "html": [
        "[3.0, +&infin;]"
       ],
       "latex": [
        "$[3.0, +inf]$"
       ],
       "metadata": {},
       "output_type": "pyout",
       "prompt_number": 80,
       "text": [
        "Intervalo [mpf('3.0'),mpf('+inf')]"
       ]
      }
     ],
     "prompt_number": 80
    },
    {
     "cell_type": "code",
     "collapsed": false,
     "input": [
      "d.exp()"
     ],
     "language": "python",
     "metadata": {},
     "outputs": [
      {
       "html": [
        "[20.0855369231876677409285296545817178969879078385541501443789342296988458780919737312044971602530177, +&infin;]"
       ],
       "latex": [
        "$[20.0855369231876677409285296545817178969879078385541501443789342296988458780919737312044971602530177, +inf]$"
       ],
       "metadata": {},
       "output_type": "pyout",
       "prompt_number": 81,
       "text": [
        "Intervalo [mpf('20.08553692318766774092852965458171789698790783855415014437893422969884587809197373120449716025301770223'),mpf('+inf')]"
       ]
      }
     ],
     "prompt_number": 81
    },
    {
     "cell_type": "code",
     "collapsed": false,
     "input": [
      "mp.exp(\"inf\")"
     ],
     "language": "python",
     "metadata": {},
     "outputs": [
      {
       "metadata": {},
       "output_type": "pyout",
       "prompt_number": 82,
       "text": [
        "mpf('+inf')"
       ]
      }
     ],
     "prompt_number": 82
    },
    {
     "cell_type": "code",
     "collapsed": false,
     "input": [
      "i"
     ],
     "language": "python",
     "metadata": {},
     "outputs": [
      {
       "html": [
        "[-2.0, 1.0]"
       ],
       "latex": [
        "$[-2.0, 1.0]$"
       ],
       "metadata": {},
       "output_type": "pyout",
       "prompt_number": 83,
       "text": [
        "Intervalo [mpf('-2.0'),mpf('1.0')]"
       ]
      }
     ],
     "prompt_number": 83
    },
    {
     "cell_type": "code",
     "collapsed": false,
     "input": [
      "3 * i"
     ],
     "language": "python",
     "metadata": {},
     "outputs": [
      {
       "html": [
        "[-6.0, 3.0]"
       ],
       "latex": [
        "$[-6.0, 3.0]$"
       ],
       "metadata": {},
       "output_type": "pyout",
       "prompt_number": 84,
       "text": [
        "Intervalo [mpf('-6.0'),mpf('3.0')]"
       ]
      }
     ],
     "prompt_number": 84
    },
    {
     "cell_type": "code",
     "collapsed": false,
     "input": [
      "i * 3"
     ],
     "language": "python",
     "metadata": {},
     "outputs": [
      {
       "html": [
        "[-6.0, 3.0]"
       ],
       "latex": [
        "$[-6.0, 3.0]$"
       ],
       "metadata": {},
       "output_type": "pyout",
       "prompt_number": 85,
       "text": [
        "Intervalo [mpf('-6.0'),mpf('3.0')]"
       ]
      }
     ],
     "prompt_number": 85
    },
    {
     "cell_type": "code",
     "collapsed": false,
     "input": [
      "i / 3"
     ],
     "language": "python",
     "metadata": {},
     "outputs": [
      {
       "html": [
        "[-0.6666666666666666666666666666666666666666666666666666666666666666666666666666666666666666666666666667, 0.3333333333333333333333333333333333333333333333333333333333333333333333333333333333333333333333333333]"
       ],
       "latex": [
        "$[-0.6666666666666666666666666666666666666666666666666666666666666666666666666666666666666666666666666667, 0.3333333333333333333333333333333333333333333333333333333333333333333333333333333333333333333333333333]$"
       ],
       "metadata": {},
       "output_type": "pyout",
       "prompt_number": 86,
       "text": [
        "Intervalo [mpf('-0.666666666666666666666666666666666666666666666666666666666666666666666666666666666666666666666666666669'),mpf('0.3333333333333333333333333333333333333333333333333333333333333333333333333333333333333333333333333333345')]"
       ]
      }
     ],
     "prompt_number": 86
    },
    {
     "cell_type": "code",
     "collapsed": false,
     "input": [
      "i / Intervalo(3., 3.)"
     ],
     "language": "python",
     "metadata": {},
     "outputs": [
      {
       "html": [
        "[-0.6666666666666666666666666666666666666666666666666666666666666666666666666666666666666666666666666667, 0.3333333333333333333333333333333333333333333333333333333333333333333333333333333333333333333333333333]"
       ],
       "latex": [
        "$[-0.6666666666666666666666666666666666666666666666666666666666666666666666666666666666666666666666666667, 0.3333333333333333333333333333333333333333333333333333333333333333333333333333333333333333333333333333]$"
       ],
       "metadata": {},
       "output_type": "pyout",
       "prompt_number": 87,
       "text": [
        "Intervalo [mpf('-0.666666666666666666666666666666666666666666666666666666666666666666666666666666666666666666666666666669'),mpf('0.3333333333333333333333333333333333333333333333333333333333333333333333333333333333333333333333333333345')]"
       ]
      }
     ],
     "prompt_number": 87
    },
    {
     "cell_type": "code",
     "collapsed": false,
     "input": [
      "j = Intervalo(3.)\n",
      "j"
     ],
     "language": "python",
     "metadata": {},
     "outputs": [
      {
       "html": [
        "[3.0, 3.0]"
       ],
       "latex": [
        "$[3.0, 3.0]$"
       ],
       "metadata": {},
       "output_type": "pyout",
       "prompt_number": 88,
       "text": [
        "Intervalo [mpf('3.0'),mpf('3.0')]"
       ]
      }
     ],
     "prompt_number": 88
    },
    {
     "cell_type": "code",
     "collapsed": false,
     "input": [
      "j.reciprocal()"
     ],
     "language": "python",
     "metadata": {},
     "outputs": [
      {
       "html": [
        "[0.3333333333333333333333333333333333333333333333333333333333333333333333333333333333333333333333333333, 0.3333333333333333333333333333333333333333333333333333333333333333333333333333333333333333333333333333]"
       ],
       "latex": [
        "$[0.3333333333333333333333333333333333333333333333333333333333333333333333333333333333333333333333333333, 0.3333333333333333333333333333333333333333333333333333333333333333333333333333333333333333333333333333]$"
       ],
       "metadata": {},
       "output_type": "pyout",
       "prompt_number": 89,
       "text": [
        "Intervalo [mpf('0.3333333333333333333333333333333333333333333333333333333333333333333333333333333333333333333333333333345'),mpf('0.3333333333333333333333333333333333333333333333333333333333333333333333333333333333333333333333333333345')]"
       ]
      }
     ],
     "prompt_number": 89
    },
    {
     "cell_type": "code",
     "collapsed": false,
     "input": [
      "a"
     ],
     "language": "python",
     "metadata": {},
     "outputs": [
      {
       "html": [
        "[2.0, 3.0]"
       ],
       "latex": [
        "$[2.0, 3.0]$"
       ],
       "metadata": {},
       "output_type": "pyout",
       "prompt_number": 90,
       "text": [
        "Intervalo [mpf('2.0'),mpf('3.0')]"
       ]
      }
     ],
     "prompt_number": 90
    },
    {
     "cell_type": "code",
     "collapsed": false,
     "input": [
      "b"
     ],
     "language": "python",
     "metadata": {},
     "outputs": [
      {
       "html": [
        "[0.0, 5.0]"
       ],
       "latex": [
        "$[0.0, 5.0]$"
       ],
       "metadata": {},
       "output_type": "pyout",
       "prompt_number": 91,
       "text": [
        "Intervalo [mpf('0.0'),mpf('5.0')]"
       ]
      }
     ],
     "prompt_number": 91
    },
    {
     "cell_type": "code",
     "collapsed": false,
     "input": [
      "a * b"
     ],
     "language": "python",
     "metadata": {},
     "outputs": [
      {
       "html": [
        "[0.0, 15.0]"
       ],
       "latex": [
        "$[0.0, 15.0]$"
       ],
       "metadata": {},
       "output_type": "pyout",
       "prompt_number": 92,
       "text": [
        "Intervalo [mpf('0.0'),mpf('15.0')]"
       ]
      }
     ],
     "prompt_number": 92
    },
    {
     "cell_type": "code",
     "collapsed": false,
     "input": [
      "a / b"
     ],
     "language": "python",
     "metadata": {},
     "outputs": [
      {
       "output_type": "stream",
       "stream": "stdout",
       "text": [
        "To divide by an interval containining 0, we need to implement extended intervals!\n"
       ]
      }
     ],
     "prompt_number": 90
    },
    {
     "cell_type": "code",
     "collapsed": false,
     "input": [
      "a / 3"
     ],
     "language": "python",
     "metadata": {},
     "outputs": [
      {
       "html": [
        "[0.6666666666666666666666666666666666666666666666666666666666666666666666666666666666666666666666666667, 1.0]"
       ],
       "latex": [
        "$[0.6666666666666666666666666666666666666666666666666666666666666666666666666666666666666666666666666667, 1.0]$"
       ],
       "metadata": {},
       "output_type": "pyout",
       "prompt_number": 92,
       "text": [
        "Intervalo [mpf('0.666666666666666666666666666666666666666666666666666666666666666666666666666666666666666666666666666669'),mpf('1.0')]"
       ]
      }
     ],
     "prompt_number": 92
    },
    {
     "cell_type": "code",
     "collapsed": false,
     "input": [
      "mp.dps = 15"
     ],
     "language": "python",
     "metadata": {},
     "outputs": [],
     "prompt_number": 93
    },
    {
     "cell_type": "code",
     "collapsed": false,
     "input": [
      "a / 3"
     ],
     "language": "python",
     "metadata": {},
     "outputs": [
      {
       "html": [
        "[0.666666666666667, 1.0]"
       ],
       "latex": [
        "$[0.666666666666667, 1.0]$"
       ],
       "metadata": {},
       "output_type": "pyout",
       "prompt_number": 94,
       "text": [
        "Intervalo [mpf('0.66666666666666663'),mpf('1.0')]"
       ]
      }
     ],
     "prompt_number": 94
    },
    {
     "cell_type": "code",
     "collapsed": false,
     "input": [
      "a"
     ],
     "language": "python",
     "metadata": {},
     "outputs": [
      {
       "html": [
        "[2.0, 3.0]"
       ],
       "latex": [
        "$[2.0, 3.0]$"
       ],
       "metadata": {},
       "output_type": "pyout",
       "prompt_number": 95,
       "text": [
        "Intervalo [mpf('2.0'),mpf('3.0')]"
       ]
      }
     ],
     "prompt_number": 95
    },
    {
     "cell_type": "code",
     "collapsed": false,
     "input": [
      "a / 2"
     ],
     "language": "python",
     "metadata": {},
     "outputs": [
      {
       "html": [
        "[1.0, 1.5]"
       ],
       "latex": [
        "$[1.0, 1.5]$"
       ],
       "metadata": {},
       "output_type": "pyout",
       "prompt_number": 96,
       "text": [
        "Intervalo [mpf('1.0'),mpf('1.5')]"
       ]
      }
     ],
     "prompt_number": 96
    },
    {
     "cell_type": "code",
     "collapsed": false,
     "input": [
      "2 / a"
     ],
     "language": "python",
     "metadata": {},
     "outputs": [
      {
       "html": [
        "[0.666666666666667, 1.0]"
       ],
       "latex": [
        "$[0.666666666666667, 1.0]$"
       ],
       "metadata": {},
       "output_type": "pyout",
       "prompt_number": 97,
       "text": [
        "Intervalo [mpf('0.66666666666666663'),mpf('1.0')]"
       ]
      }
     ],
     "prompt_number": 97
    },
    {
     "cell_type": "code",
     "collapsed": false,
     "input": [
      "a"
     ],
     "language": "python",
     "metadata": {},
     "outputs": [
      {
       "html": [
        "[2.0, 3.0]"
       ],
       "latex": [
        "$[2.0, 3.0]$"
       ],
       "metadata": {},
       "output_type": "pyout",
       "prompt_number": 98,
       "text": [
        "Intervalo [mpf('2.0'),mpf('3.0')]"
       ]
      }
     ],
     "prompt_number": 98
    },
    {
     "cell_type": "code",
     "collapsed": false,
     "input": [
      "b"
     ],
     "language": "python",
     "metadata": {},
     "outputs": [
      {
       "html": [
        "[0.0, 5.0]"
       ],
       "latex": [
        "$[0.0, 5.0]$"
       ],
       "metadata": {},
       "output_type": "pyout",
       "prompt_number": 99,
       "text": [
        "Intervalo [mpf('0.0'),mpf('5.0')]"
       ]
      }
     ],
     "prompt_number": 99
    },
    {
     "cell_type": "code",
     "collapsed": false,
     "input": [
      "a * b"
     ],
     "language": "python",
     "metadata": {},
     "outputs": [
      {
       "html": [
        "[0.0, 15.0]"
       ],
       "latex": [
        "$[0.0, 15.0]$"
       ],
       "metadata": {},
       "output_type": "pyout",
       "prompt_number": 100,
       "text": [
        "Intervalo [mpf('0.0'),mpf('15.0')]"
       ]
      }
     ],
     "prompt_number": 100
    },
    {
     "cell_type": "code",
     "collapsed": false,
     "input": [
      "a / b"
     ],
     "language": "python",
     "metadata": {},
     "outputs": [
      {
       "output_type": "stream",
       "stream": "stdout",
       "text": [
        "To divide by an interval containining 0, we need to implement extended intervals!\n"
       ]
      }
     ],
     "prompt_number": 101
    },
    {
     "cell_type": "code",
     "collapsed": false,
     "input": [
      "a / 1"
     ],
     "language": "python",
     "metadata": {},
     "outputs": [
      {
       "html": [
        "[2.0, 3.0]"
       ],
       "latex": [
        "$[2.0, 3.0]$"
       ],
       "metadata": {},
       "output_type": "pyout",
       "prompt_number": 102,
       "text": [
        "Intervalo [mpf('2.0'),mpf('3.0')]"
       ]
      }
     ],
     "prompt_number": 102
    },
    {
     "cell_type": "code",
     "collapsed": false,
     "input": [
      "a / 2"
     ],
     "language": "python",
     "metadata": {},
     "outputs": [
      {
       "html": [
        "[1.0, 1.5]"
       ],
       "latex": [
        "$[1.0, 1.5]$"
       ],
       "metadata": {},
       "output_type": "pyout",
       "prompt_number": 103,
       "text": [
        "Intervalo [mpf('1.0'),mpf('1.5')]"
       ]
      }
     ],
     "prompt_number": 103
    },
    {
     "cell_type": "code",
     "collapsed": false,
     "input": [
      "a"
     ],
     "language": "python",
     "metadata": {},
     "outputs": [
      {
       "html": [
        "[2.0, 3.0]"
       ],
       "latex": [
        "$[2.0, 3.0]$"
       ],
       "metadata": {},
       "output_type": "pyout",
       "prompt_number": 104,
       "text": [
        "Intervalo [mpf('2.0'),mpf('3.0')]"
       ]
      }
     ],
     "prompt_number": 104
    },
    {
     "cell_type": "code",
     "collapsed": false,
     "input": [
      "2"
     ],
     "language": "python",
     "metadata": {},
     "outputs": [
      {
       "metadata": {},
       "output_type": "pyout",
       "prompt_number": 105,
       "text": [
        "2"
       ]
      }
     ],
     "prompt_number": 105
    },
    {
     "cell_type": "code",
     "collapsed": false,
     "input": [
      "2"
     ],
     "language": "python",
     "metadata": {},
     "outputs": [
      {
       "metadata": {},
       "output_type": "pyout",
       "prompt_number": 106,
       "text": [
        "2"
       ]
      }
     ],
     "prompt_number": 106
    },
    {
     "cell_type": "code",
     "collapsed": false,
     "input": [
      "a / 2"
     ],
     "language": "python",
     "metadata": {},
     "outputs": [
      {
       "html": [
        "[1.0, 1.5]"
       ],
       "latex": [
        "$[1.0, 1.5]$"
       ],
       "metadata": {},
       "output_type": "pyout",
       "prompt_number": 107,
       "text": [
        "Intervalo [mpf('1.0'),mpf('1.5')]"
       ]
      }
     ],
     "prompt_number": 107
    },
    {
     "cell_type": "code",
     "collapsed": false,
     "input": [
      "a / 5"
     ],
     "language": "python",
     "metadata": {},
     "outputs": [
      {
       "html": [
        "[0.4, 0.6]"
       ],
       "latex": [
        "$[0.4, 0.6]$"
       ],
       "metadata": {},
       "output_type": "pyout",
       "prompt_number": 108,
       "text": [
        "Intervalo [mpf('0.40000000000000002'),mpf('0.60000000000000009')]"
       ]
      }
     ],
     "prompt_number": 108
    },
    {
     "cell_type": "code",
     "collapsed": false,
     "input": [
      "a / (1/5.)"
     ],
     "language": "python",
     "metadata": {},
     "outputs": [
      {
       "html": [
        "[10.0, 15.0]"
       ],
       "latex": [
        "$[10.0, 15.0]$"
       ],
       "metadata": {},
       "output_type": "pyout",
       "prompt_number": 109,
       "text": [
        "Intervalo [mpf('10.0'),mpf('15.0')]"
       ]
      }
     ],
     "prompt_number": 109
    },
    {
     "cell_type": "code",
     "collapsed": false,
     "input": [
      "a * 5"
     ],
     "language": "python",
     "metadata": {},
     "outputs": [
      {
       "html": [
        "[10.0, 15.0]"
       ],
       "latex": [
        "$[10.0, 15.0]$"
       ],
       "metadata": {},
       "output_type": "pyout",
       "prompt_number": 110,
       "text": [
        "Intervalo [mpf('10.0'),mpf('15.0')]"
       ]
      }
     ],
     "prompt_number": 110
    },
    {
     "cell_type": "code",
     "collapsed": false,
     "input": [
      "a"
     ],
     "language": "python",
     "metadata": {},
     "outputs": [
      {
       "html": [
        "[2.0, 3.0]"
       ],
       "latex": [
        "$[2.0, 3.0]$"
       ],
       "metadata": {},
       "output_type": "pyout",
       "prompt_number": 111,
       "text": [
        "Intervalo [mpf('2.0'),mpf('3.0')]"
       ]
      }
     ],
     "prompt_number": 111
    },
    {
     "cell_type": "code",
     "collapsed": false,
     "input": [
      "a = Intervalo(2, \"inf\")\n",
      "a"
     ],
     "language": "python",
     "metadata": {},
     "outputs": [
      {
       "html": [
        "[2.0, +&infin;]"
       ],
       "latex": [
        "$[2.0, +inf]$"
       ],
       "metadata": {},
       "output_type": "pyout",
       "prompt_number": 112,
       "text": [
        "Intervalo [mpf('2.0'),mpf('+inf')]"
       ]
      }
     ],
     "prompt_number": 112
    },
    {
     "cell_type": "code",
     "collapsed": false,
     "input": [
      "a * 5"
     ],
     "language": "python",
     "metadata": {},
     "outputs": [
      {
       "html": [
        "[10.0, +&infin;]"
       ],
       "latex": [
        "$[10.0, +inf]$"
       ],
       "metadata": {},
       "output_type": "pyout",
       "prompt_number": 113,
       "text": [
        "Intervalo [mpf('10.0'),mpf('+inf')]"
       ]
      }
     ],
     "prompt_number": 113
    },
    {
     "cell_type": "code",
     "collapsed": false,
     "input": [
      "a / 5"
     ],
     "language": "python",
     "metadata": {},
     "outputs": [
      {
       "html": [
        "[0.4, +&infin;]"
       ],
       "latex": [
        "$[0.4, +inf]$"
       ],
       "metadata": {},
       "output_type": "pyout",
       "prompt_number": 114,
       "text": [
        "Intervalo [mpf('0.40000000000000002'),mpf('+inf')]"
       ]
      }
     ],
     "prompt_number": 114
    },
    {
     "cell_type": "code",
     "collapsed": false,
     "input": [
      "1 / a"
     ],
     "language": "python",
     "metadata": {},
     "outputs": [
      {
       "html": [
        "[0.0, 0.5]"
       ],
       "latex": [
        "$[0.0, 0.5]$"
       ],
       "metadata": {},
       "output_type": "pyout",
       "prompt_number": 115,
       "text": [
        "Intervalo [mpf('0.0'),mpf('0.5')]"
       ]
      }
     ],
     "prompt_number": 115
    },
    {
     "cell_type": "code",
     "collapsed": false,
     "input": [
      "a.reciprocal()"
     ],
     "language": "python",
     "metadata": {},
     "outputs": [
      {
       "html": [
        "[0.0, 0.5]"
       ],
       "latex": [
        "$[0.0, 0.5]$"
       ],
       "metadata": {},
       "output_type": "pyout",
       "prompt_number": 116,
       "text": [
        "Intervalo [mpf('0.0'),mpf('0.5')]"
       ]
      }
     ],
     "prompt_number": 116
    },
    {
     "cell_type": "code",
     "collapsed": false,
     "input": [
      "b"
     ],
     "language": "python",
     "metadata": {},
     "outputs": [
      {
       "html": [
        "[0.0, 5.0]"
       ],
       "latex": [
        "$[0.0, 5.0]$"
       ],
       "metadata": {},
       "output_type": "pyout",
       "prompt_number": 117,
       "text": [
        "Intervalo [mpf('0.0'),mpf('5.0')]"
       ]
      }
     ],
     "prompt_number": 117
    },
    {
     "cell_type": "code",
     "collapsed": false,
     "input": [
      "b = Intervalo(0, 3)\n",
      "b"
     ],
     "language": "python",
     "metadata": {},
     "outputs": [
      {
       "html": [
        "[0.0, 3.0]"
       ],
       "latex": [
        "$[0.0, 3.0]$"
       ],
       "metadata": {},
       "output_type": "pyout",
       "prompt_number": 118,
       "text": [
        "Intervalo [mpf('0.0'),mpf('3.0')]"
       ]
      }
     ],
     "prompt_number": 118
    },
    {
     "cell_type": "code",
     "collapsed": false,
     "input": [
      "a / b"
     ],
     "language": "python",
     "metadata": {},
     "outputs": [
      {
       "output_type": "stream",
       "stream": "stdout",
       "text": [
        "To divide by an interval containining 0, we need to implement extended intervals!\n"
       ]
      }
     ],
     "prompt_number": 119
    },
    {
     "cell_type": "code",
     "collapsed": false,
     "input": [
      "exp(a)"
     ],
     "language": "python",
     "metadata": {},
     "outputs": [
      {
       "html": [
        "[7.38905609893065, +&infin;]"
       ],
       "latex": [
        "$[7.38905609893065, +inf]$"
       ],
       "metadata": {},
       "output_type": "pyout",
       "prompt_number": 120,
       "text": [
        "Intervalo [mpf('7.3890560989306504'),mpf('+inf')]"
       ]
      }
     ],
     "prompt_number": 120
    },
    {
     "cell_type": "code",
     "collapsed": false,
     "input": [
      "a"
     ],
     "language": "python",
     "metadata": {},
     "outputs": [
      {
       "html": [
        "[2.0, +&infin;]"
       ],
       "latex": [
        "$[2.0, +inf]$"
       ],
       "metadata": {},
       "output_type": "pyout",
       "prompt_number": 121,
       "text": [
        "Intervalo [mpf('2.0'),mpf('+inf')]"
       ]
      }
     ],
     "prompt_number": 121
    },
    {
     "cell_type": "code",
     "collapsed": false,
     "input": [
      "a.log()"
     ],
     "language": "python",
     "metadata": {},
     "outputs": [
      {
       "html": [
        "[0.693147180559945, +&infin;]"
       ],
       "latex": [
        "$[0.693147180559945, +inf]$"
       ],
       "metadata": {},
       "output_type": "pyout",
       "prompt_number": 122,
       "text": [
        "Intervalo [mpf('0.69314718055994529'),mpf('+inf')]"
       ]
      }
     ],
     "prompt_number": 122
    },
    {
     "cell_type": "code",
     "collapsed": false,
     "input": [
      "exp(1/a)"
     ],
     "language": "python",
     "metadata": {},
     "outputs": [
      {
       "html": [
        "[1.0, 1.64872127070013]"
       ],
       "latex": [
        "$[1.0, 1.64872127070013]$"
       ],
       "metadata": {},
       "output_type": "pyout",
       "prompt_number": 123,
       "text": [
        "Intervalo [mpf('1.0'),mpf('1.6487212707001282')]"
       ]
      }
     ],
     "prompt_number": 123
    },
    {
     "cell_type": "code",
     "collapsed": false,
     "input": [
      "1/a"
     ],
     "language": "python",
     "metadata": {},
     "outputs": [
      {
       "html": [
        "[0.0, 0.5]"
       ],
       "latex": [
        "$[0.0, 0.5]$"
       ],
       "metadata": {},
       "output_type": "pyout",
       "prompt_number": 124,
       "text": [
        "Intervalo [mpf('0.0'),mpf('0.5')]"
       ]
      }
     ],
     "prompt_number": 124
    },
    {
     "cell_type": "code",
     "collapsed": false,
     "input": [
      "exp(-a)"
     ],
     "language": "python",
     "metadata": {},
     "outputs": [
      {
       "html": [
        "[0.0, 0.135335283236613]"
       ],
       "latex": [
        "$[0.0, 0.135335283236613]$"
       ],
       "metadata": {},
       "output_type": "pyout",
       "prompt_number": 125,
       "text": [
        "Intervalo [mpf('0.0'),mpf('0.1353352832366127')]"
       ]
      }
     ],
     "prompt_number": 125
    },
    {
     "cell_type": "code",
     "collapsed": false,
     "input": [
      "1/exp(a)"
     ],
     "language": "python",
     "metadata": {},
     "outputs": [
      {
       "html": [
        "[0.0, 0.135335283236613]"
       ],
       "latex": [
        "$[0.0, 0.135335283236613]$"
       ],
       "metadata": {},
       "output_type": "pyout",
       "prompt_number": 126,
       "text": [
        "Intervalo [mpf('0.0'),mpf('0.1353352832366127')]"
       ]
      }
     ],
     "prompt_number": 126
    },
    {
     "cell_type": "code",
     "collapsed": false,
     "input": [
      "a.exp()"
     ],
     "language": "python",
     "metadata": {},
     "outputs": [
      {
       "html": [
        "[7.38905609893065, +&infin;]"
       ],
       "latex": [
        "$[7.38905609893065, +inf]$"
       ],
       "metadata": {},
       "output_type": "pyout",
       "prompt_number": 127,
       "text": [
        "Intervalo [mpf('7.3890560989306504'),mpf('+inf')]"
       ]
      }
     ],
     "prompt_number": 127
    },
    {
     "cell_type": "code",
     "collapsed": false,
     "input": [
      "print a,b"
     ],
     "language": "python",
     "metadata": {},
     "outputs": [
      {
       "output_type": "stream",
       "stream": "stdout",
       "text": [
        "[2.0,+inf] [0.0,3.0]\n"
       ]
      }
     ],
     "prompt_number": 133
    },
    {
     "cell_type": "code",
     "collapsed": false,
     "input": [
      "b.exp()"
     ],
     "language": "python",
     "metadata": {},
     "outputs": [
      {
       "html": [
        "[1.0, 20.0855369231877]"
       ],
       "latex": [
        "$[1.0, 20.0855369231877]$"
       ],
       "metadata": {},
       "output_type": "pyout",
       "prompt_number": 134,
       "text": [
        "Intervalo [mpf('1.0'),mpf('20.085536923187668')]"
       ]
      }
     ],
     "prompt_number": 134
    },
    {
     "cell_type": "code",
     "collapsed": false,
     "input": [
      "exp(a*b)"
     ],
     "language": "python",
     "metadata": {},
     "outputs": [
      {
       "html": [
        "[1.0, +&infin;]"
       ],
       "latex": [
        "$[1.0, +inf]$"
       ],
       "metadata": {},
       "output_type": "pyout",
       "prompt_number": 135,
       "text": [
        "Intervalo [mpf('1.0'),mpf('+inf')]"
       ]
      }
     ],
     "prompt_number": 135
    },
    {
     "cell_type": "code",
     "collapsed": false,
     "input": [
      "exp(a/b)"
     ],
     "language": "python",
     "metadata": {},
     "outputs": [
      {
       "ename": "AttributeError",
       "evalue": "'NoneType' object has no attribute 'exp'",
       "output_type": "pyerr",
       "traceback": [
        "\u001b[0;31m---------------------------------------------------------------------------\u001b[0m\n\u001b[0;31mAttributeError\u001b[0m                            Traceback (most recent call last)",
        "\u001b[0;32m<ipython-input-136-fe90c0d10f21>\u001b[0m in \u001b[0;36m<module>\u001b[0;34m()\u001b[0m\n\u001b[0;32m----> 1\u001b[0;31m \u001b[0mexp\u001b[0m\u001b[0;34m(\u001b[0m\u001b[0ma\u001b[0m\u001b[0;34m/\u001b[0m\u001b[0mb\u001b[0m\u001b[0;34m)\u001b[0m\u001b[0;34m\u001b[0m\u001b[0m\n\u001b[0m",
        "\u001b[0;32m/Users/benet/Documents/4-Clases/43-ComputationalPhysics/2014-1/interval_arithmetic/intervalo.pyc\u001b[0m in \u001b[0;36mexp\u001b[0;34m(a)\u001b[0m\n\u001b[1;32m    422\u001b[0m \u001b[0;34m\u001b[0m\u001b[0m\n\u001b[1;32m    423\u001b[0m \u001b[0;32mdef\u001b[0m \u001b[0mexp\u001b[0m\u001b[0;34m(\u001b[0m\u001b[0ma\u001b[0m\u001b[0;34m)\u001b[0m\u001b[0;34m:\u001b[0m\u001b[0;34m\u001b[0m\u001b[0m\n\u001b[0;32m--> 424\u001b[0;31m     \u001b[0;32mreturn\u001b[0m \u001b[0ma\u001b[0m\u001b[0;34m.\u001b[0m\u001b[0mexp\u001b[0m\u001b[0;34m(\u001b[0m\u001b[0;34m)\u001b[0m\u001b[0;34m\u001b[0m\u001b[0m\n\u001b[0m\u001b[1;32m    425\u001b[0m \u001b[0;34m\u001b[0m\u001b[0m\n\u001b[1;32m    426\u001b[0m \u001b[0;34m\u001b[0m\u001b[0m\n",
        "\u001b[0;31mAttributeError\u001b[0m: 'NoneType' object has no attribute 'exp'"
       ]
      },
      {
       "output_type": "stream",
       "stream": "stdout",
       "text": [
        "To divide by an interval containining 0, we need to implement extended intervals!\n"
       ]
      }
     ],
     "prompt_number": 136
    },
    {
     "cell_type": "code",
     "collapsed": false,
     "input": [
      "exp(a)/exp(b)"
     ],
     "language": "python",
     "metadata": {},
     "outputs": [
      {
       "html": [
        "[0.367879441171442, +&infin;]"
       ],
       "latex": [
        "$[0.367879441171442, +inf]$"
       ],
       "metadata": {},
       "output_type": "pyout",
       "prompt_number": 137,
       "text": [
        "Intervalo [mpf('0.36787944117144233'),mpf('+inf')]"
       ]
      }
     ],
     "prompt_number": 137
    },
    {
     "cell_type": "code",
     "collapsed": false,
     "input": [
      "a"
     ],
     "language": "python",
     "metadata": {},
     "outputs": [
      {
       "html": [
        "[2.0, +&infin;]"
       ],
       "latex": [
        "$[2.0, +inf]$"
       ],
       "metadata": {},
       "output_type": "pyout",
       "prompt_number": 138,
       "text": [
        "Intervalo [mpf('2.0'),mpf('+inf')]"
       ]
      }
     ],
     "prompt_number": 138
    },
    {
     "cell_type": "code",
     "collapsed": false,
     "input": [
      "\"inf\" in a"
     ],
     "language": "python",
     "metadata": {},
     "outputs": [
      {
       "metadata": {},
       "output_type": "pyout",
       "prompt_number": 139,
       "text": [
        "False"
       ]
      }
     ],
     "prompt_number": 139
    },
    {
     "cell_type": "code",
     "collapsed": false,
     "input": [
      "inf = float(\"inf\")\n",
      "inf in a"
     ],
     "language": "python",
     "metadata": {},
     "outputs": [
      {
       "metadata": {},
       "output_type": "pyout",
       "prompt_number": 140,
       "text": [
        "True"
       ]
      }
     ],
     "prompt_number": 140
    },
    {
     "cell_type": "code",
     "collapsed": false,
     "input": [
      "inf <= inf"
     ],
     "language": "python",
     "metadata": {},
     "outputs": [
      {
       "metadata": {},
       "output_type": "pyout",
       "prompt_number": 141,
       "text": [
        "True"
       ]
      }
     ],
     "prompt_number": 141
    },
    {
     "cell_type": "code",
     "collapsed": false,
     "input": [
      "inf < inf"
     ],
     "language": "python",
     "metadata": {},
     "outputs": [
      {
       "metadata": {},
       "output_type": "pyout",
       "prompt_number": 142,
       "text": [
        "False"
       ]
      }
     ],
     "prompt_number": 142
    },
    {
     "cell_type": "code",
     "collapsed": false,
     "input": [
      "mpf(inf)"
     ],
     "language": "python",
     "metadata": {},
     "outputs": [
      {
       "metadata": {},
       "output_type": "pyout",
       "prompt_number": 143,
       "text": [
        "mpf('+inf')"
       ]
      }
     ],
     "prompt_number": 143
    },
    {
     "cell_type": "code",
     "collapsed": false,
     "input": [],
     "language": "python",
     "metadata": {},
     "outputs": [],
     "prompt_number": 143
    },
    {
     "cell_type": "code",
     "collapsed": false,
     "input": [
      "mp.pretty = False"
     ],
     "language": "python",
     "metadata": {},
     "outputs": [],
     "prompt_number": 144
    },
    {
     "cell_type": "code",
     "collapsed": false,
     "input": [
      "mpf(0.1, rounding='f')"
     ],
     "language": "python",
     "metadata": {},
     "outputs": [
      {
       "metadata": {},
       "output_type": "pyout",
       "prompt_number": 145,
       "text": [
        "mpf('0.10000000000000001')"
       ]
      }
     ],
     "prompt_number": 145
    },
    {
     "cell_type": "code",
     "collapsed": false,
     "input": [],
     "language": "python",
     "metadata": {},
     "outputs": [],
     "prompt_number": 145
    },
    {
     "cell_type": "code",
     "collapsed": false,
     "input": [
      "from sympy import mpmath"
     ],
     "language": "python",
     "metadata": {},
     "outputs": [],
     "prompt_number": 146
    },
    {
     "cell_type": "code",
     "collapsed": false,
     "input": [
      "mpmath.mp._prec_rounding"
     ],
     "language": "python",
     "metadata": {},
     "outputs": [
      {
       "metadata": {},
       "output_type": "pyout",
       "prompt_number": 147,
       "text": [
        "[53, 'n']"
       ]
      }
     ],
     "prompt_number": 147
    },
    {
     "cell_type": "code",
     "collapsed": false,
     "input": [
      "mpf(\"0.1\", rounding=\"c\")"
     ],
     "language": "python",
     "metadata": {},
     "outputs": [
      {
       "metadata": {},
       "output_type": "pyout",
       "prompt_number": 148,
       "text": [
        "mpf('0.10000000000000001')"
       ]
      }
     ],
     "prompt_number": 148
    },
    {
     "cell_type": "code",
     "collapsed": false,
     "input": [
      "mpmath.mp._prec_rounding"
     ],
     "language": "python",
     "metadata": {},
     "outputs": [
      {
       "metadata": {},
       "output_type": "pyout",
       "prompt_number": 149,
       "text": [
        "[53, 'n']"
       ]
      }
     ],
     "prompt_number": 149
    },
    {
     "cell_type": "code",
     "collapsed": false,
     "input": [
      "mp.dps = 15"
     ],
     "language": "python",
     "metadata": {},
     "outputs": [],
     "prompt_number": 150
    },
    {
     "cell_type": "code",
     "collapsed": false,
     "input": [
      "mp.pretty = False\n",
      "a = mpf(\"0.1\", rounding=\"f\")\n",
      "b = mpf(\"0.1\", rounding=\"c\")\n",
      "i = Intervalo(a, b)\n",
      "i.lo, i.hi"
     ],
     "language": "python",
     "metadata": {},
     "outputs": [
      {
       "metadata": {},
       "output_type": "pyout",
       "prompt_number": 151,
       "text": [
        "(mpf('0.099999999999999992'), mpf('0.10000000000000001'))"
       ]
      }
     ],
     "prompt_number": 151
    },
    {
     "cell_type": "code",
     "collapsed": false,
     "input": [
      "Intervalo(mpf(\"0.1\"))"
     ],
     "language": "python",
     "metadata": {},
     "outputs": [
      {
       "html": [
        "[0.1, 0.1]"
       ],
       "latex": [
        "$[0.1, 0.1]$"
       ],
       "metadata": {},
       "output_type": "pyout",
       "prompt_number": 152,
       "text": [
        "Intervalo [mpf('0.10000000000000001'),mpf('0.10000000000000001')]"
       ]
      }
     ],
     "prompt_number": 152
    },
    {
     "cell_type": "code",
     "collapsed": false,
     "input": [
      "# Pero:\n",
      "i"
     ],
     "language": "python",
     "metadata": {},
     "outputs": [
      {
       "html": [
        "[0.1, 0.1]"
       ],
       "latex": [
        "$[0.1, 0.1]$"
       ],
       "metadata": {},
       "output_type": "pyout",
       "prompt_number": 153,
       "text": [
        "Intervalo [mpf('0.099999999999999992'),mpf('0.10000000000000001')]"
       ]
      }
     ],
     "prompt_number": 153
    },
    {
     "cell_type": "code",
     "collapsed": false,
     "input": [
      "Intervalo"
     ],
     "language": "python",
     "metadata": {},
     "outputs": [
      {
       "metadata": {},
       "output_type": "pyout",
       "prompt_number": 154,
       "text": [
        "intervalo.Intervalo"
       ]
      }
     ],
     "prompt_number": 154
    },
    {
     "cell_type": "code",
     "collapsed": false,
     "input": [
      "def add(a, b):\n",
      "    return a+b"
     ],
     "language": "python",
     "metadata": {},
     "outputs": [],
     "prompt_number": 155
    },
    {
     "cell_type": "markdown",
     "metadata": {},
     "source": [
      "Se pueden agregar nuevos *m\u00e9todos* to a class as follows.\n",
      "This can be used to divide up a large class definition into several files (?)"
     ]
    },
    {
     "cell_type": "code",
     "collapsed": false,
     "input": [
      "Intervalo.add = add"
     ],
     "language": "python",
     "metadata": {},
     "outputs": [],
     "prompt_number": 156
    },
    {
     "cell_type": "code",
     "collapsed": false,
     "input": [
      "def add(s, o):\n",
      "    return s + o"
     ],
     "language": "python",
     "metadata": {},
     "outputs": [],
     "prompt_number": 157
    },
    {
     "cell_type": "code",
     "collapsed": false,
     "input": [
      "Intervalo.add = add\n"
     ],
     "language": "python",
     "metadata": {},
     "outputs": [],
     "prompt_number": 158
    },
    {
     "cell_type": "code",
     "collapsed": false,
     "input": [
      "i"
     ],
     "language": "python",
     "metadata": {},
     "outputs": [
      {
       "html": [
        "[0.1, 0.1]"
       ],
       "latex": [
        "$[0.1, 0.1]$"
       ],
       "metadata": {},
       "output_type": "pyout",
       "prompt_number": 159,
       "text": [
        "Intervalo [mpf('0.099999999999999992'),mpf('0.10000000000000001')]"
       ]
      }
     ],
     "prompt_number": 159
    },
    {
     "cell_type": "code",
     "collapsed": false,
     "input": [
      "i.add(3)"
     ],
     "language": "python",
     "metadata": {},
     "outputs": [
      {
       "html": [
        "[3.1, 3.1]"
       ],
       "latex": [
        "$[3.1, 3.1]$"
       ],
       "metadata": {},
       "output_type": "pyout",
       "prompt_number": 160,
       "text": [
        "Intervalo [mpf('3.1000000000000001'),mpf('3.1000000000000001')]"
       ]
      }
     ],
     "prompt_number": 160
    },
    {
     "cell_type": "code",
     "collapsed": false,
     "input": [
      "x = Intervalo(-1, 1)"
     ],
     "language": "python",
     "metadata": {},
     "outputs": [],
     "prompt_number": 29
    },
    {
     "cell_type": "code",
     "collapsed": false,
     "input": [
      "x * (x-1)"
     ],
     "language": "python",
     "metadata": {},
     "outputs": [
      {
       "html": [
        "[-2.0, 2.0]"
       ],
       "latex": [
        "$[-2.0, 2.0]$"
       ],
       "metadata": {},
       "output_type": "pyout",
       "prompt_number": 32,
       "text": [
        "Intervalo [mpf('-2.0'),mpf('2.0')]"
       ]
      }
     ],
     "prompt_number": 32
    },
    {
     "cell_type": "code",
     "collapsed": false,
     "input": [
      "x**2 - x"
     ],
     "language": "python",
     "metadata": {},
     "outputs": [
      {
       "html": [
        "[-1.0, 2.0]"
       ],
       "latex": [
        "$[-1.0, 2.0]$"
       ],
       "metadata": {},
       "output_type": "pyout",
       "prompt_number": 33,
       "text": [
        "Intervalo [mpf('-1.0'),mpf('2.0')]"
       ]
      }
     ],
     "prompt_number": 33
    },
    {
     "cell_type": "code",
     "collapsed": false,
     "input": [
      "(x-0.5)**2 - 0.25"
     ],
     "language": "python",
     "metadata": {},
     "outputs": [
      {
       "html": [
        "[-0.25, 2.0]"
       ],
       "latex": [
        "$[-0.25, 2.0]$"
       ],
       "metadata": {},
       "output_type": "pyout",
       "prompt_number": 34,
       "text": [
        "Intervalo [mpf('-0.25'),mpf('2.0')]"
       ]
      }
     ],
     "prompt_number": 34
    },
    {
     "cell_type": "code",
     "collapsed": false,
     "input": [
      "x-0.5"
     ],
     "language": "python",
     "metadata": {},
     "outputs": [
      {
       "html": [
        "[-1.5, 0.5]"
       ],
       "latex": [
        "$[-1.5, 0.5]$"
       ],
       "metadata": {},
       "output_type": "pyout",
       "prompt_number": 35,
       "text": [
        "Intervalo [mpf('-1.5'),mpf('0.5')]"
       ]
      }
     ],
     "prompt_number": 35
    },
    {
     "cell_type": "code",
     "collapsed": false,
     "input": [
      "(x-0.5)**2"
     ],
     "language": "python",
     "metadata": {},
     "outputs": [
      {
       "html": [
        "[0.0, 2.25]"
       ],
       "latex": [
        "$[0.0, 2.25]$"
       ],
       "metadata": {},
       "output_type": "pyout",
       "prompt_number": 36,
       "text": [
        "Intervalo [mpf('0.0'),mpf('2.25')]"
       ]
      }
     ],
     "prompt_number": 36
    },
    {
     "cell_type": "code",
     "collapsed": false,
     "input": [
      "from sympy import Rational"
     ],
     "language": "python",
     "metadata": {},
     "outputs": [],
     "prompt_number": 37
    },
    {
     "cell_type": "code",
     "collapsed": false,
     "input": [
      "(x - Rational(1, 2))"
     ],
     "language": "python",
     "metadata": {},
     "outputs": [
      {
       "html": [
        "[-1.5, 0.5]"
       ],
       "latex": [
        "$[-1.5, 0.5]$"
       ],
       "metadata": {},
       "output_type": "pyout",
       "prompt_number": 40,
       "text": [
        "Intervalo [mpf('-1.5'),mpf('0.5')]"
       ]
      }
     ],
     "prompt_number": 40
    },
    {
     "cell_type": "code",
     "collapsed": false,
     "input": [
      "2 == int(2)"
     ],
     "language": "python",
     "metadata": {},
     "outputs": [
      {
       "metadata": {},
       "output_type": "pyout",
       "prompt_number": 41,
       "text": [
        "True"
       ]
      }
     ],
     "prompt_number": 41
    },
    {
     "cell_type": "code",
     "collapsed": false,
     "input": [
      "2.0 == int(2)"
     ],
     "language": "python",
     "metadata": {},
     "outputs": [
      {
       "metadata": {},
       "output_type": "pyout",
       "prompt_number": 42,
       "text": [
        "True"
       ]
      }
     ],
     "prompt_number": 42
    },
    {
     "cell_type": "code",
     "collapsed": false,
     "input": [
      "2.00001 == int(2)"
     ],
     "language": "python",
     "metadata": {},
     "outputs": [
      {
       "metadata": {},
       "output_type": "pyout",
       "prompt_number": 43,
       "text": [
        "False"
       ]
      }
     ],
     "prompt_number": 43
    },
    {
     "cell_type": "code",
     "collapsed": false,
     "input": [
      "x**6"
     ],
     "language": "python",
     "metadata": {},
     "outputs": [
      {
       "html": [
        "[0.0, 1.0]"
       ],
       "latex": [
        "$[0.0, 1.0]$"
       ],
       "metadata": {},
       "output_type": "pyout",
       "prompt_number": 44,
       "text": [
        "Intervalo [mpf('0.0'),mpf('1.0')]"
       ]
      }
     ],
     "prompt_number": 44
    },
    {
     "cell_type": "code",
     "collapsed": false,
     "input": [
      "x"
     ],
     "language": "python",
     "metadata": {},
     "outputs": [
      {
       "html": [
        "[-1.0, 1.0]"
       ],
       "latex": [
        "$[-1.0, 1.0]$"
       ],
       "metadata": {},
       "output_type": "pyout",
       "prompt_number": 45,
       "text": [
        "Intervalo [mpf('-1.0'),mpf('1.0')]"
       ]
      }
     ],
     "prompt_number": 45
    },
    {
     "cell_type": "code",
     "collapsed": false,
     "input": [
      "x"
     ],
     "language": "python",
     "metadata": {},
     "outputs": [
      {
       "html": [
        "[-1.0, 1.0]"
       ],
       "latex": [
        "$[-1.0, 1.0]$"
       ],
       "metadata": {},
       "output_type": "pyout",
       "prompt_number": 46,
       "text": [
        "Intervalo [mpf('-1.0'),mpf('1.0')]"
       ]
      }
     ],
     "prompt_number": 46
    },
    {
     "cell_type": "code",
     "collapsed": false,
     "input": [
      "x = Intervalo(-1, 4)"
     ],
     "language": "python",
     "metadata": {},
     "outputs": [],
     "prompt_number": 5
    },
    {
     "cell_type": "code",
     "collapsed": false,
     "input": [
      "x**0.5"
     ],
     "language": "python",
     "metadata": {},
     "outputs": [
      {
       "output_type": "stream",
       "stream": "stdout",
       "text": [
        "\n",
        "WARNING: Interval [-1.0,4.0] contains 0.\n",
        "\n",
        "The interval will be restricted to its intersection with the natural domain\n",
        "of x**exponent, i.e. [0.0,4.0]\n",
        "\n"
       ]
      },
      {
       "html": [
        "[0.0, 2.0]"
       ],
       "latex": [
        "$[0.0, 2.0]$"
       ],
       "metadata": {},
       "output_type": "pyout",
       "prompt_number": 6,
       "text": [
        "Intervalo [mpf('0.0'),mpf('2.0')]"
       ]
      }
     ],
     "prompt_number": 6
    },
    {
     "cell_type": "code",
     "collapsed": false,
     "input": [
      "x**-0.5"
     ],
     "language": "python",
     "metadata": {},
     "outputs": [
      {
       "ename": "ZeroDivisionError",
       "evalue": "Interval [-1.0,4.0] in denominator contains 0.",
       "output_type": "pyerr",
       "traceback": [
        "\u001b[0;31m---------------------------------------------------------------------------\u001b[0m\n\u001b[0;31mZeroDivisionError\u001b[0m                         Traceback (most recent call last)",
        "\u001b[0;32m<ipython-input-7-5e5f5cbd5b62>\u001b[0m in \u001b[0;36m<module>\u001b[0;34m()\u001b[0m\n\u001b[0;32m----> 1\u001b[0;31m \u001b[0mx\u001b[0m\u001b[0;34m**\u001b[0m\u001b[0;34m-\u001b[0m\u001b[0;36m0.5\u001b[0m\u001b[0;34m\u001b[0m\u001b[0m\n\u001b[0m",
        "\u001b[0;32m/Users/dsanders/Dropbox/docencia/validated_numerics/interval_arithmetic/intervalo.py\u001b[0m in \u001b[0;36m__pow__\u001b[0;34m(self, exponent)\u001b[0m\n\u001b[1;32m    266\u001b[0m \u001b[0;34m\u001b[0m\u001b[0m\n\u001b[1;32m    267\u001b[0m                     \u001b[0;31m#try:\u001b[0m\u001b[0;34m\u001b[0m\u001b[0;34m\u001b[0m\u001b[0m\n\u001b[0;32m--> 268\u001b[0;31m                         \u001b[0;32mreturn\u001b[0m \u001b[0mself\u001b[0m\u001b[0;34m.\u001b[0m\u001b[0mreciprocal\u001b[0m\u001b[0;34m(\u001b[0m\u001b[0;34m)\u001b[0m\u001b[0;34m**\u001b[0m\u001b[0;34m(\u001b[0m\u001b[0;34m-\u001b[0m\u001b[0mexponent\u001b[0m\u001b[0;34m)\u001b[0m\u001b[0;34m\u001b[0m\u001b[0m\n\u001b[0m\u001b[1;32m    269\u001b[0m \u001b[0;34m\u001b[0m\u001b[0m\n\u001b[1;32m    270\u001b[0m                     \u001b[0;31m#except:\u001b[0m\u001b[0;34m\u001b[0m\u001b[0;34m\u001b[0m\u001b[0m\n",
        "\u001b[0;32m/Users/dsanders/Dropbox/docencia/validated_numerics/interval_arithmetic/intervalo.py\u001b[0m in \u001b[0;36mreciprocal\u001b[0;34m(self)\u001b[0m\n\u001b[1;32m    168\u001b[0m         \u001b[0;32mif\u001b[0m \u001b[0;36m0\u001b[0m \u001b[0;32min\u001b[0m \u001b[0mself\u001b[0m\u001b[0;34m:\u001b[0m\u001b[0;34m\u001b[0m\u001b[0m\n\u001b[1;32m    169\u001b[0m             \u001b[0mtxt_error\u001b[0m \u001b[0;34m=\u001b[0m \u001b[0;34m\"Interval {} in denominator contains 0.\"\u001b[0m\u001b[0;34m.\u001b[0m\u001b[0mformat\u001b[0m\u001b[0;34m(\u001b[0m\u001b[0mself\u001b[0m\u001b[0;34m)\u001b[0m\u001b[0;34m\u001b[0m\u001b[0m\n\u001b[0;32m--> 170\u001b[0;31m             \u001b[0;32mraise\u001b[0m \u001b[0mZeroDivisionError\u001b[0m\u001b[0;34m(\u001b[0m \u001b[0mtxt_error\u001b[0m \u001b[0;34m)\u001b[0m\u001b[0;34m\u001b[0m\u001b[0m\n\u001b[0m\u001b[1;32m    171\u001b[0m \u001b[0;34m\u001b[0m\u001b[0m\n\u001b[1;32m    172\u001b[0m         \u001b[0;32mreturn\u001b[0m \u001b[0mIntervalo\u001b[0m\u001b[0;34m(\u001b[0m \u001b[0;36m1.0\u001b[0m\u001b[0;34m/\u001b[0m\u001b[0mself\u001b[0m\u001b[0;34m.\u001b[0m\u001b[0mhi\u001b[0m\u001b[0;34m,\u001b[0m \u001b[0;36m1.0\u001b[0m\u001b[0;34m/\u001b[0m\u001b[0mself\u001b[0m\u001b[0;34m.\u001b[0m\u001b[0mlo\u001b[0m \u001b[0;34m)\u001b[0m\u001b[0;34m\u001b[0m\u001b[0m\n",
        "\u001b[0;31mZeroDivisionError\u001b[0m: Interval [-1.0,4.0] in denominator contains 0."
       ]
      }
     ],
     "prompt_number": 7
    },
    {
     "cell_type": "code",
     "collapsed": false,
     "input": [
      "from intervalo import *"
     ],
     "language": "python",
     "metadata": {},
     "outputs": [],
     "prompt_number": 1
    },
    {
     "cell_type": "code",
     "collapsed": false,
     "input": [
      "x = Intervalo(-1, 4)"
     ],
     "language": "python",
     "metadata": {},
     "outputs": [],
     "prompt_number": 2
    },
    {
     "cell_type": "code",
     "collapsed": false,
     "input": [
      "x**0.5"
     ],
     "language": "python",
     "metadata": {},
     "outputs": [
      {
       "output_type": "stream",
       "stream": "stdout",
       "text": [
        "\n",
        "WARNING: Interval [-1.0,4.0] contains 0.\n",
        "\n",
        "Restricting to the intersection with the natural domain of **, i.e. [0.0,4.0]\n",
        "\n"
       ]
      },
      {
       "html": [
        "[0.0, 2.0]"
       ],
       "latex": [
        "$[0.0, 2.0]$"
       ],
       "metadata": {},
       "output_type": "pyout",
       "prompt_number": 3,
       "text": [
        "Intervalo [mpf('0.0'),mpf('2.0')]"
       ]
      }
     ],
     "prompt_number": 3
    },
    {
     "cell_type": "code",
     "collapsed": false,
     "input": [
      "x**-0.5"
     ],
     "language": "python",
     "metadata": {},
     "outputs": [
      {
       "output_type": "stream",
       "stream": "stdout",
       "text": [
        "\n",
        "WARNING: Interval [-1.0,4.0] contains 0.\n",
        "\n",
        "Restricting to the intersection with the natural domain of **, i.e. [0.0,4.0]\n",
        "\n"
       ]
      },
      {
       "html": [
        "[0.5, +&infin;]"
       ],
       "latex": [
        "$[0.5, +inf]$"
       ],
       "metadata": {},
       "output_type": "pyout",
       "prompt_number": 4,
       "text": [
        "Intervalo [mpf('0.5'),mpf('+inf')]"
       ]
      }
     ],
     "prompt_number": 4
    },
    {
     "cell_type": "code",
     "collapsed": false,
     "input": [
      "Intervalo(0, 0).reciprocal()"
     ],
     "language": "python",
     "metadata": {},
     "outputs": [
      {
       "html": [
        "[-&infin;, +&infin;]"
       ],
       "latex": [
        "$[-inf, +inf]$"
       ],
       "metadata": {},
       "output_type": "pyout",
       "prompt_number": 7,
       "text": [
        "Intervalo [mpf('-inf'),mpf('+inf')]"
       ]
      }
     ],
     "prompt_number": 7
    },
    {
     "cell_type": "code",
     "collapsed": false,
     "input": [
      "x"
     ],
     "language": "python",
     "metadata": {},
     "outputs": [
      {
       "html": [
        "[-1.0, 4.0]"
       ],
       "latex": [
        "$[-1.0, 4.0]$"
       ],
       "metadata": {},
       "output_type": "pyout",
       "prompt_number": 8,
       "text": [
        "Intervalo [mpf('-1.0'),mpf('4.0')]"
       ]
      }
     ],
     "prompt_number": 8
    },
    {
     "cell_type": "code",
     "collapsed": false,
     "input": [
      "log(x)"
     ],
     "language": "python",
     "metadata": {},
     "outputs": [
      {
       "output_type": "stream",
       "stream": "stdout",
       "text": [
        "\n",
        "WARNING: Interval [-1.0,4.0] contains 0.\n",
        "\n",
        "Restricting to the intersection with the natural domain of log, i.e. [0.0,4.0]\n",
        "\n"
       ]
      },
      {
       "html": [
        "[-&infin;, 1.38629436111989]"
       ],
       "latex": [
        "$[-inf, 1.38629436111989]$"
       ],
       "metadata": {},
       "output_type": "pyout",
       "prompt_number": 9,
       "text": [
        "Intervalo [mpf('-inf'),mpf('1.3862943611198906')]"
       ]
      }
     ],
     "prompt_number": 9
    },
    {
     "cell_type": "code",
     "collapsed": false,
     "input": [
      "log(Intervalo(-3, -4))"
     ],
     "language": "python",
     "metadata": {},
     "outputs": [
      {
       "ename": "ValueError",
       "evalue": "Interval [-4.0,-3.0] < 0\nlog cannot be computed for negative numbers.",
       "output_type": "pyerr",
       "traceback": [
        "\u001b[0;31m---------------------------------------------------------------------------\u001b[0m\n\u001b[0;31mValueError\u001b[0m                                Traceback (most recent call last)",
        "\u001b[0;32m<ipython-input-10-f4850c577bb1>\u001b[0m in \u001b[0;36m<module>\u001b[0;34m()\u001b[0m\n\u001b[0;32m----> 1\u001b[0;31m \u001b[0mlog\u001b[0m\u001b[0;34m(\u001b[0m\u001b[0mIntervalo\u001b[0m\u001b[0;34m(\u001b[0m\u001b[0;34m-\u001b[0m\u001b[0;36m3\u001b[0m\u001b[0;34m,\u001b[0m \u001b[0;34m-\u001b[0m\u001b[0;36m4\u001b[0m\u001b[0;34m)\u001b[0m\u001b[0;34m)\u001b[0m\u001b[0;34m\u001b[0m\u001b[0m\n\u001b[0m",
        "\u001b[0;32m/Users/dsanders/Dropbox/docencia/validated_numerics/interval_arithmetic/intervalo.py\u001b[0m in \u001b[0;36mlog\u001b[0;34m(a)\u001b[0m\n\u001b[1;32m    457\u001b[0m \u001b[0;34m\u001b[0m\u001b[0m\n\u001b[1;32m    458\u001b[0m \u001b[0;32mdef\u001b[0m \u001b[0mlog\u001b[0m\u001b[0;34m(\u001b[0m\u001b[0ma\u001b[0m\u001b[0;34m)\u001b[0m\u001b[0;34m:\u001b[0m\u001b[0;34m\u001b[0m\u001b[0m\n\u001b[0;32m--> 459\u001b[0;31m     \u001b[0;32mreturn\u001b[0m \u001b[0ma\u001b[0m\u001b[0;34m.\u001b[0m\u001b[0mlog\u001b[0m\u001b[0;34m(\u001b[0m\u001b[0;34m)\u001b[0m\u001b[0;34m\u001b[0m\u001b[0m\n\u001b[0m\u001b[1;32m    460\u001b[0m \u001b[0;34m\u001b[0m\u001b[0m\n\u001b[1;32m    461\u001b[0m \u001b[0;34m\u001b[0m\u001b[0m\n",
        "\u001b[0;32m/Users/dsanders/Dropbox/docencia/validated_numerics/interval_arithmetic/intervalo.py\u001b[0m in \u001b[0;36mlog\u001b[0;34m(self)\u001b[0m\n\u001b[1;32m    222\u001b[0m             \u001b[0mtxt_error\u001b[0m \u001b[0;34m=\u001b[0m \u001b[0;34m'Interval {} < 0\\nlog cannot be computed '\u001b[0m\u001b[0;31m\\\u001b[0m\u001b[0;34m\u001b[0m\u001b[0m\n\u001b[1;32m    223\u001b[0m                 \u001b[0;34m'for negative numbers.'\u001b[0m\u001b[0;34m.\u001b[0m\u001b[0mformat\u001b[0m\u001b[0;34m(\u001b[0m\u001b[0mself\u001b[0m\u001b[0;34m)\u001b[0m\u001b[0;34m\u001b[0m\u001b[0m\n\u001b[0;32m--> 224\u001b[0;31m             \u001b[0;32mraise\u001b[0m \u001b[0mValueError\u001b[0m\u001b[0;34m(\u001b[0m \u001b[0mtxt_error\u001b[0m \u001b[0;34m)\u001b[0m\u001b[0;34m\u001b[0m\u001b[0m\n\u001b[0m\u001b[1;32m    225\u001b[0m \u001b[0;34m\u001b[0m\u001b[0m\n\u001b[1;32m    226\u001b[0m         \u001b[0;32melse\u001b[0m\u001b[0;34m:\u001b[0m\u001b[0;34m\u001b[0m\u001b[0m\n",
        "\u001b[0;31mValueError\u001b[0m: Interval [-4.0,-3.0] < 0\nlog cannot be computed for negative numbers."
       ]
      }
     ],
     "prompt_number": 10
    },
    {
     "cell_type": "code",
     "collapsed": false,
     "input": [
      "x"
     ],
     "language": "python",
     "metadata": {},
     "outputs": [
      {
       "html": [
        "[-1.0, 4.0]"
       ],
       "latex": [
        "$[-1.0, 4.0]$"
       ],
       "metadata": {},
       "output_type": "pyout",
       "prompt_number": 11,
       "text": [
        "Intervalo [mpf('-1.0'),mpf('4.0')]"
       ]
      }
     ],
     "prompt_number": 11
    },
    {
     "cell_type": "code",
     "collapsed": false,
     "input": [
      "x = Intervalo(-3, 4)"
     ],
     "language": "python",
     "metadata": {},
     "outputs": [],
     "prompt_number": 15
    },
    {
     "cell_type": "code",
     "collapsed": false,
     "input": [
      "x**Intervalo(-1, 2)"
     ],
     "language": "python",
     "metadata": {},
     "outputs": [
      {
       "output_type": "stream",
       "stream": "stdout",
       "text": [
        "\n",
        "WARNING: Interval [-3.0,4.0] contains 0.\n",
        "\n",
        "Restricting to the intersection with the natural domain of log, i.e. [0.0,4.0]\n",
        "\n"
       ]
      },
      {
       "html": [
        "[0.0, +&infin;]"
       ],
       "latex": [
        "$[0.0, +inf]$"
       ],
       "metadata": {},
       "output_type": "pyout",
       "prompt_number": 16,
       "text": [
        "Intervalo [mpf('0.0'),mpf('+inf')]"
       ]
      }
     ],
     "prompt_number": 16
    },
    {
     "cell_type": "code",
     "collapsed": false,
     "input": [
      "log(x)"
     ],
     "language": "python",
     "metadata": {},
     "outputs": [
      {
       "output_type": "stream",
       "stream": "stdout",
       "text": [
        "\n",
        "WARNING: Interval [-3.0,4.0] contains 0.\n",
        "\n",
        "Restricting to the intersection with the natural domain of log, i.e. [0.0,4.0]\n",
        "\n"
       ]
      },
      {
       "html": [
        "[-&infin;, 1.38629436111989]"
       ],
       "latex": [
        "$[-inf, 1.38629436111989]$"
       ],
       "metadata": {},
       "output_type": "pyout",
       "prompt_number": 17,
       "text": [
        "Intervalo [mpf('-inf'),mpf('1.3862943611198906')]"
       ]
      }
     ],
     "prompt_number": 17
    },
    {
     "cell_type": "code",
     "collapsed": false,
     "input": [
      "_*Intervalo(-1, 2)"
     ],
     "language": "python",
     "metadata": {},
     "outputs": [
      {
       "html": [
        "[-&infin;, +&infin;]"
       ],
       "latex": [
        "$[-inf, +inf]$"
       ],
       "metadata": {},
       "output_type": "pyout",
       "prompt_number": 18,
       "text": [
        "Intervalo [mpf('-inf'),mpf('+inf')]"
       ]
      }
     ],
     "prompt_number": 18
    },
    {
     "cell_type": "code",
     "collapsed": false,
     "input": [
      "mp.sin(10**22)"
     ],
     "language": "python",
     "metadata": {},
     "outputs": [
      {
       "metadata": {},
       "output_type": "pyout",
       "prompt_number": 19,
       "text": [
        "mpf('-0.85220084976718879')"
       ]
      }
     ],
     "prompt_number": 19
    },
    {
     "cell_type": "code",
     "collapsed": false,
     "input": [
      "mp.sin??"
     ],
     "language": "python",
     "metadata": {},
     "outputs": [],
     "prompt_number": 20
    },
    {
     "cell_type": "code",
     "collapsed": false,
     "input": [
      "import intervalo"
     ],
     "language": "python",
     "metadata": {},
     "outputs": [],
     "prompt_number": 21
    },
    {
     "cell_type": "code",
     "collapsed": false,
     "input": [
      "intervalo.exp(x)"
     ],
     "language": "python",
     "metadata": {},
     "outputs": [
      {
       "html": [
        "[0.0497870683678639, 54.5981500331442]"
       ],
       "latex": [
        "$[0.0497870683678639, 54.5981500331442]$"
       ],
       "metadata": {},
       "output_type": "pyout",
       "prompt_number": 22,
       "text": [
        "Intervalo [mpf('0.049787068367863944'),mpf('54.598150033144236')]"
       ]
      }
     ],
     "prompt_number": 22
    },
    {
     "cell_type": "code",
     "collapsed": false,
     "input": [],
     "language": "python",
     "metadata": {},
     "outputs": []
    }
   ],
   "metadata": {}
  }
 ]
}