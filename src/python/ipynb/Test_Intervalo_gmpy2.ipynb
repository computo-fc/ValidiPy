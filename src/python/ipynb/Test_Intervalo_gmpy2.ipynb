{
 "metadata": {
  "name": ""
 },
 "nbformat": 3,
 "nbformat_minor": 0,
 "worksheets": [
  {
   "cells": [
    {
     "cell_type": "code",
     "collapsed": false,
     "input": [
      "import gmpy2\n",
      "from gmpy2 import mpz, mpq, mpfr, mpc"
     ],
     "language": "python",
     "metadata": {},
     "outputs": [],
     "prompt_number": 1
    },
    {
     "cell_type": "code",
     "collapsed": false,
     "input": [
      "from intervalo_gmpy2 import *"
     ],
     "language": "python",
     "metadata": {},
     "outputs": [
      {
       "ename": "ImportError",
       "evalue": "No module named intervalo_gmpy2",
       "output_type": "pyerr",
       "traceback": [
        "\u001b[0;31m---------------------------------------------------------------------------\u001b[0m\n\u001b[0;31mImportError\u001b[0m                               Traceback (most recent call last)",
        "\u001b[0;32m<ipython-input-2-2df368ec2718>\u001b[0m in \u001b[0;36m<module>\u001b[0;34m()\u001b[0m\n\u001b[0;32m----> 1\u001b[0;31m \u001b[0;32mfrom\u001b[0m \u001b[0mintervalo_gmpy2\u001b[0m \u001b[0;32mimport\u001b[0m \u001b[0;34m*\u001b[0m\u001b[0;34m\u001b[0m\u001b[0m\n\u001b[0m",
        "\u001b[0;31mImportError\u001b[0m: No module named intervalo_gmpy2"
       ]
      }
     ],
     "prompt_number": 2
    },
    {
     "cell_type": "code",
     "collapsed": false,
     "input": [
      "gmpy2.set_context( gmpy2.context() )\n",
      "gmpy2.get_context()"
     ],
     "language": "python",
     "metadata": {},
     "outputs": [
      {
       "metadata": {},
       "output_type": "pyout",
       "prompt_number": 3,
       "text": [
        "context(precision=53, real_prec=Default, imag_prec=Default,\n",
        "        round=RoundToNearest, real_round=Default, imag_round=Default,\n",
        "        emax=1073741823, emin=-1073741823,\n",
        "        subnormalize=False,\n",
        "        trap_underflow=False, underflow=False,\n",
        "        trap_overflow=False, overflow=False,\n",
        "        trap_inexact=False, inexact=False,\n",
        "        trap_invalid=False, invalid=False,\n",
        "        trap_erange=False, erange=False,\n",
        "        trap_divzero=False, divzero=False,\n",
        "        trap_expbound=False,\n",
        "        allow_complex=False)"
       ]
      }
     ],
     "prompt_number": 3
    },
    {
     "cell_type": "code",
     "collapsed": false,
     "input": [
      "gmpy2.set_context( gmpy2.ieee(64) )\n",
      "gmpy2.get_context()"
     ],
     "language": "python",
     "metadata": {},
     "outputs": [
      {
       "metadata": {},
       "output_type": "pyout",
       "prompt_number": 4,
       "text": [
        "context(precision=53, real_prec=Default, imag_prec=Default,\n",
        "        round=RoundToNearest, real_round=Default, imag_round=Default,\n",
        "        emax=1024, emin=-1073,\n",
        "        subnormalize=True,\n",
        "        trap_underflow=False, underflow=False,\n",
        "        trap_overflow=False, overflow=False,\n",
        "        trap_inexact=False, inexact=False,\n",
        "        trap_invalid=False, invalid=False,\n",
        "        trap_erange=False, erange=False,\n",
        "        trap_divzero=False, divzero=False,\n",
        "        trap_expbound=False,\n",
        "        allow_complex=False)"
       ]
      }
     ],
     "prompt_number": 4
    },
    {
     "cell_type": "code",
     "collapsed": false,
     "input": [
      "gmpy2.get_context().precision=113"
     ],
     "language": "python",
     "metadata": {},
     "outputs": [],
     "prompt_number": 5
    },
    {
     "cell_type": "code",
     "collapsed": false,
     "input": [
      "a = Intervalo(0.1)\n",
      "b = Intervalo(a.lo,a.hi)\n",
      "a, b, Intervalo(b.lo,b.hi), \\\n",
      "Intervalo((Intervalo(b.lo,b.hi)).lo,(Intervalo(b.lo,b.hi)).hi), a is b"
     ],
     "language": "python",
     "metadata": {},
     "outputs": [
      {
       "metadata": {},
       "output_type": "pyout",
       "prompt_number": 6,
       "text": [
        "(Intervalo[mpfr('0.0999999999999999999999999999999999928',113), mpfr('0.100000000000000000000000000000000005',113)],\n",
        " Intervalo[mpfr('0.0999999999999999999999999999999999928',113), mpfr('0.100000000000000000000000000000000005',113)],\n",
        " Intervalo[mpfr('0.0999999999999999999999999999999999928',113), mpfr('0.100000000000000000000000000000000005',113)],\n",
        " Intervalo[mpfr('0.0999999999999999999999999999999999928',113), mpfr('0.100000000000000000000000000000000005',113)],\n",
        " False)"
       ]
      }
     ],
     "prompt_number": 6
    },
    {
     "cell_type": "code",
     "collapsed": false,
     "input": [
      "a, a*Intervalo(1), Intervalo('0.1')"
     ],
     "language": "python",
     "metadata": {},
     "outputs": [
      {
       "metadata": {},
       "output_type": "pyout",
       "prompt_number": 7,
       "text": [
        "(Intervalo[mpfr('0.0999999999999999999999999999999999928',113), mpfr('0.100000000000000000000000000000000005',113)],\n",
        " Intervalo[mpfr('0.0999999999999999999999999999999999928',113), mpfr('0.100000000000000000000000000000000005',113)],\n",
        " Intervalo[mpfr('0.0999999999999999999999999999999999928',113), mpfr('0.100000000000000000000000000000000005',113)])"
       ]
      }
     ],
     "prompt_number": 7
    },
    {
     "cell_type": "code",
     "collapsed": false,
     "input": [
      "type_mpfr = type(mpfr(\"0\"))"
     ],
     "language": "python",
     "metadata": {},
     "outputs": [],
     "prompt_number": 8
    },
    {
     "cell_type": "code",
     "collapsed": false,
     "input": [
      "+a"
     ],
     "language": "python",
     "metadata": {},
     "outputs": [
      {
       "html": [
        "Intervalo[mpfr('0.0999999999999999999999999999999999928',113), mpfr('0.100000000000000000000000000000000005',113)]"
       ],
       "latex": [
        "$[mpfr('0.0999999999999999999999999999999999928',113), mpfr('0.100000000000000000000000000000000005',113)]$"
       ],
       "metadata": {},
       "output_type": "pyout",
       "prompt_number": 9,
       "text": [
        "Intervalo[mpfr('0.0999999999999999999999999999999999928',113), mpfr('0.100000000000000000000000000000000005',113)]"
       ]
      }
     ],
     "prompt_number": 9
    },
    {
     "cell_type": "code",
     "collapsed": false,
     "input": [
      "Intervalo(1)**1"
     ],
     "language": "python",
     "metadata": {},
     "outputs": [
      {
       "html": [
        "Intervalo[mpfr('1.0',113), mpfr('1.0',113)]"
       ],
       "latex": [
        "$[mpfr('1.0',113), mpfr('1.0',113)]$"
       ],
       "metadata": {},
       "output_type": "pyout",
       "prompt_number": 10,
       "text": [
        "Intervalo[mpfr('1.0',113), mpfr('1.0',113)]"
       ]
      }
     ],
     "prompt_number": 10
    },
    {
     "cell_type": "code",
     "collapsed": false,
     "input": [
      "1 == int(mpfr('1.0')), 1 is int(mpfr('1.0'))"
     ],
     "language": "python",
     "metadata": {},
     "outputs": [
      {
       "metadata": {},
       "output_type": "pyout",
       "prompt_number": 11,
       "text": [
        "(True, True)"
       ]
      }
     ],
     "prompt_number": 11
    },
    {
     "cell_type": "code",
     "collapsed": false,
     "input": [
      "0.1 in a"
     ],
     "language": "python",
     "metadata": {},
     "outputs": [
      {
       "metadata": {},
       "output_type": "pyout",
       "prompt_number": 12,
       "text": [
        "False"
       ]
      }
     ],
     "prompt_number": 12
    },
    {
     "cell_type": "code",
     "collapsed": false,
     "input": [
      "a.lo.digits(2), a.hi.digits(2)"
     ],
     "language": "python",
     "metadata": {},
     "outputs": [
      {
       "metadata": {},
       "output_type": "pyout",
       "prompt_number": 13,
       "text": [
        "(('11001100110011001100110011001100110011001100110011001100110011001100110011001100110011001100110011001100110011001',\n",
        "  -3,\n",
        "  113),\n",
        " ('11001100110011001100110011001100110011001100110011001100110011001100110011001100110011001100110011001100110011010',\n",
        "  -3,\n",
        "  113))"
       ]
      }
     ],
     "prompt_number": 13
    },
    {
     "cell_type": "code",
     "collapsed": false,
     "input": [
      "gmpy2.get_context().round=2\n",
      "print \"2:\", mpfr('0.1')\n",
      "\n",
      "gmpy2.get_context().round=3\n",
      "print \"3:\", mpfr('0.1')\n",
      "\n",
      "gmpy2.get_context().round=0\n",
      "print \"0:\", mpfr('0.1'), make_mpfr('0.1',rounding=\"RoundUp\"), \\\n",
      "make_mpfr('0.1',rounding=\"RoundDown\")"
     ],
     "language": "python",
     "metadata": {},
     "outputs": [
      {
       "output_type": "stream",
       "stream": "stdout",
       "text": [
        "2: 0.100000000000000000000000000000000005\n",
        "3: 0.0999999999999999999999999999999999928\n",
        "0: 0.100000000000000000000000000000000005 0.100000000000000000000000000000000005 0.0999999999999999999999999999999999928\n"
       ]
      }
     ],
     "prompt_number": 14
    },
    {
     "cell_type": "code",
     "collapsed": false,
     "input": [
      "Intervalo('0.1')"
     ],
     "language": "python",
     "metadata": {},
     "outputs": [
      {
       "html": [
        "Intervalo[mpfr('0.0999999999999999999999999999999999928',113), mpfr('0.100000000000000000000000000000000005',113)]"
       ],
       "latex": [
        "$[mpfr('0.0999999999999999999999999999999999928',113), mpfr('0.100000000000000000000000000000000005',113)]$"
       ],
       "metadata": {},
       "output_type": "pyout",
       "prompt_number": 15,
       "text": [
        "Intervalo[mpfr('0.0999999999999999999999999999999999928',113), mpfr('0.100000000000000000000000000000000005',113)]"
       ]
      }
     ],
     "prompt_number": 15
    },
    {
     "cell_type": "code",
     "collapsed": false,
     "input": [
      "a.lo.precision"
     ],
     "language": "python",
     "metadata": {},
     "outputs": [
      {
       "metadata": {},
       "output_type": "pyout",
       "prompt_number": 16,
       "text": [
        "113"
       ]
      }
     ],
     "prompt_number": 16
    },
    {
     "cell_type": "code",
     "collapsed": false,
     "input": [
      "a"
     ],
     "language": "python",
     "metadata": {},
     "outputs": [
      {
       "html": [
        "Intervalo[mpfr('0.0999999999999999999999999999999999928',113), mpfr('0.100000000000000000000000000000000005',113)]"
       ],
       "latex": [
        "$[mpfr('0.0999999999999999999999999999999999928',113), mpfr('0.100000000000000000000000000000000005',113)]$"
       ],
       "metadata": {},
       "output_type": "pyout",
       "prompt_number": 17,
       "text": [
        "Intervalo[mpfr('0.0999999999999999999999999999999999928',113), mpfr('0.100000000000000000000000000000000005',113)]"
       ]
      }
     ],
     "prompt_number": 17
    },
    {
     "cell_type": "code",
     "collapsed": false,
     "input": [
      "x = 0.1*5.0/3\n",
      "a = Intervalo(x)\n",
      "print a, 1./6 in a\n",
      "a = Intervalo(0.1)*Intervalo(5)/Intervalo(3)\n",
      "print a, 1./6 in a\n",
      "a = Intervalo(6).reciprocal()\n",
      "print a, 1./6 in a\n",
      "a = Intervalo(1.)/6\n",
      "print a, 1./6 in a\n",
      "a = Intervalo(1.0/6)\n",
      "print a, 1./6 in a\n"
     ],
     "language": "python",
     "metadata": {},
     "outputs": [
      {
       "output_type": "stream",
       "stream": "stdout",
       "text": [
        "[mpfr('0.166666666666999999999999999999999984',113),mpfr('0.166666666667000000000000000000000008',113)] False\n",
        "[mpfr('0.166666666666666666666666666666666635',113),mpfr('0.166666666666666666666666666666666731',113)] False\n",
        "[mpfr('0.166666666666666666666666666666666659',113),mpfr('0.166666666666666666666666666666666683',113)] False\n",
        "[mpfr('0.166666666666666666666666666666666659',113),mpfr('0.166666666666666666666666666666666683',113)] False\n",
        "[mpfr('0.166666666666999999999999999999999984',113),mpfr('0.166666666667000000000000000000000008',113)] False\n"
       ]
      }
     ],
     "prompt_number": 18
    },
    {
     "cell_type": "code",
     "collapsed": false,
     "input": [
      "a = Intervalo(0.1)\n",
      "a, 0.1 in a"
     ],
     "language": "python",
     "metadata": {},
     "outputs": [
      {
       "metadata": {},
       "output_type": "pyout",
       "prompt_number": 19,
       "text": [
        "(Intervalo[mpfr('0.0999999999999999999999999999999999928',113), mpfr('0.100000000000000000000000000000000005',113)],\n",
        " False)"
       ]
      }
     ],
     "prompt_number": 19
    },
    {
     "cell_type": "code",
     "collapsed": false,
     "input": [
      "with gmpy2.local_context(gmpy2.get_context(), round=3, precision=113) as ctx:\n",
      "    a = mpfr(0.1)\n",
      "    b = mpfr('0.1')\n",
      "a.digits(2), b.digits(2)"
     ],
     "language": "python",
     "metadata": {},
     "outputs": [
      {
       "metadata": {},
       "output_type": "pyout",
       "prompt_number": 20,
       "text": [
        "(('11001100110011001100110011001100110011001100110011010000000000000000000000000000000000000000000000000000000000000',\n",
        "  -3,\n",
        "  113),\n",
        " ('11001100110011001100110011001100110011001100110011001100110011001100110011001100110011001100110011001100110011001',\n",
        "  -3,\n",
        "  113))"
       ]
      }
     ],
     "prompt_number": 20
    },
    {
     "cell_type": "code",
     "collapsed": false,
     "input": [
      "a, b"
     ],
     "language": "python",
     "metadata": {},
     "outputs": [
      {
       "metadata": {},
       "output_type": "pyout",
       "prompt_number": 21,
       "text": [
        "(mpfr('0.100000000000000005551115123125782702',113),\n",
        " mpfr('0.0999999999999999999999999999999999928',113))"
       ]
      }
     ],
     "prompt_number": 21
    },
    {
     "cell_type": "code",
     "collapsed": false,
     "input": [
      "0.1*5.0/3, mpfr('1.0')/6"
     ],
     "language": "python",
     "metadata": {},
     "outputs": [
      {
       "metadata": {},
       "output_type": "pyout",
       "prompt_number": 22,
       "text": [
        "(0.16666666666666666, mpfr('0.166666666666666666666666666666666659',113))"
       ]
      }
     ],
     "prompt_number": 22
    },
    {
     "cell_type": "code",
     "collapsed": false,
     "input": [
      "with gmpy2.local_context(gmpy2.get_context(), precision=113) as ctx:\n",
      "    a = Intervalo(0.1)\n",
      "    b = Intervalo(a.lo,a.hi)\n",
      "    c = Intervalo('0.1')\n",
      "    d = Intervalo(1.0)/10\n",
      "    e = Intervalo(1.0/10)\n",
      "    \n",
      "a, b, c, d, e"
     ],
     "language": "python",
     "metadata": {},
     "outputs": [
      {
       "metadata": {},
       "output_type": "pyout",
       "prompt_number": 23,
       "text": [
        "(Intervalo[mpfr('0.0999999999999999999999999999999999928',113), mpfr('0.100000000000000000000000000000000005',113)],\n",
        " Intervalo[mpfr('0.0999999999999999999999999999999999928',113), mpfr('0.100000000000000000000000000000000005',113)],\n",
        " Intervalo[mpfr('0.0999999999999999999999999999999999928',113), mpfr('0.100000000000000000000000000000000005',113)],\n",
        " Intervalo[mpfr('0.0999999999999999999999999999999999928',113), mpfr('0.100000000000000000000000000000000005',113)],\n",
        " Intervalo[mpfr('0.0999999999999999999999999999999999928',113), mpfr('0.100000000000000000000000000000000005',113)])"
       ]
      }
     ],
     "prompt_number": 23
    },
    {
     "cell_type": "code",
     "collapsed": false,
     "input": [
      "gmpy2.get_context().precision=53\n",
      "a+a, 2*a, Intervalo(0.2)"
     ],
     "language": "python",
     "metadata": {},
     "outputs": [
      {
       "metadata": {},
       "output_type": "pyout",
       "prompt_number": 24,
       "text": [
        "(Intervalo[mpfr('0.19999999999999998'), mpfr('0.20000000000000001')],\n",
        " Intervalo[mpfr('0.19999999999999998'), mpfr('0.20000000000000001')],\n",
        " Intervalo[mpfr('0.19999999999999998'), mpfr('0.20000000000000001')])"
       ]
      }
     ],
     "prompt_number": 24
    },
    {
     "cell_type": "code",
     "collapsed": false,
     "input": [
      "a.hi-a.lo == a.diam()"
     ],
     "language": "python",
     "metadata": {},
     "outputs": [
      {
       "metadata": {},
       "output_type": "pyout",
       "prompt_number": 25,
       "text": [
        "True"
       ]
      }
     ],
     "prompt_number": 25
    },
    {
     "cell_type": "code",
     "collapsed": false,
     "input": [
      "(Intervalo(0.1)).mig()**2, (Intervalo(0.1)).mag()**2, Intervalo(0.1)**2, Intervalo(0.01)"
     ],
     "language": "python",
     "metadata": {},
     "outputs": [
      {
       "metadata": {},
       "output_type": "pyout",
       "prompt_number": 26,
       "text": [
        "(mpfr('0.0099999999999999985'),\n",
        " mpfr('0.010000000000000002'),\n",
        " Intervalo[mpfr('0.0099999999999999967'), mpfr('0.010000000000000002')],\n",
        " Intervalo[mpfr('0.0099999999999999985'), mpfr('0.01')])"
       ]
      }
     ],
     "prompt_number": 26
    },
    {
     "cell_type": "code",
     "collapsed": false,
     "input": [
      "a**2, a*a, Intervalo(0.01)"
     ],
     "language": "python",
     "metadata": {},
     "outputs": [
      {
       "metadata": {},
       "output_type": "pyout",
       "prompt_number": 27,
       "text": [
        "(Intervalo[mpfr('0.0099999999999999967'), mpfr('0.010000000000000002')],\n",
        " Intervalo[mpfr('0.0099999999999999985'), mpfr('0.01')],\n",
        " Intervalo[mpfr('0.0099999999999999985'), mpfr('0.01')])"
       ]
      }
     ],
     "prompt_number": 27
    },
    {
     "cell_type": "code",
     "collapsed": false,
     "input": [
      "mpfr('0.01').digits(2), (a**2).hi.digits(2), (a**2).lo.digits(2)"
     ],
     "language": "python",
     "metadata": {},
     "outputs": [
      {
       "metadata": {},
       "output_type": "pyout",
       "prompt_number": 28,
       "text": [
        "(('10100011110101110000101000111101011100001010001111011', -6, 53),\n",
        " ('10100011110101110000101000111101011100001010001111100', -6, 53),\n",
        " ('10100011110101110000101000111101011100001010001111001', -6, 53))"
       ]
      }
     ],
     "prompt_number": 28
    },
    {
     "cell_type": "code",
     "collapsed": false,
     "input": [
      "b = Intervalo(0.5)\n",
      "b"
     ],
     "language": "python",
     "metadata": {},
     "outputs": [
      {
       "html": [
        "Intervalo[mpfr('0.5'), mpfr('0.5')]"
       ],
       "latex": [
        "$[mpfr('0.5'), mpfr('0.5')]$"
       ],
       "metadata": {},
       "output_type": "pyout",
       "prompt_number": 29,
       "text": [
        "Intervalo[mpfr('0.5'), mpfr('0.5')]"
       ]
      }
     ],
     "prompt_number": 29
    },
    {
     "cell_type": "code",
     "collapsed": false,
     "input": [
      "abs(Intervalo(-0.2, 0.1))"
     ],
     "language": "python",
     "metadata": {},
     "outputs": [
      {
       "html": [
        "Intervalo[mpfr('0.0'), mpfr('0.20000000000000001')]"
       ],
       "latex": [
        "$[mpfr('0.0'), mpfr('0.20000000000000001')]$"
       ],
       "metadata": {},
       "output_type": "pyout",
       "prompt_number": 30,
       "text": [
        "Intervalo[mpfr('0.0'), mpfr('0.20000000000000001')]"
       ]
      }
     ],
     "prompt_number": 30
    },
    {
     "cell_type": "code",
     "collapsed": false,
     "input": [
      "a*b"
     ],
     "language": "python",
     "metadata": {},
     "outputs": [
      {
       "html": [
        "Intervalo[mpfr('0.049999999999999996'), mpfr('0.050000000000000003')]"
       ],
       "latex": [
        "$[mpfr('0.049999999999999996'), mpfr('0.050000000000000003')]$"
       ],
       "metadata": {},
       "output_type": "pyout",
       "prompt_number": 31,
       "text": [
        "Intervalo[mpfr('0.049999999999999996'), mpfr('0.050000000000000003')]"
       ]
      }
     ],
     "prompt_number": 31
    },
    {
     "cell_type": "code",
     "collapsed": false,
     "input": [
      "b*4"
     ],
     "language": "python",
     "metadata": {},
     "outputs": [
      {
       "html": [
        "Intervalo[mpfr('2.0'), mpfr('2.0')]"
       ],
       "latex": [
        "$[mpfr('2.0'), mpfr('2.0')]$"
       ],
       "metadata": {},
       "output_type": "pyout",
       "prompt_number": 32,
       "text": [
        "Intervalo[mpfr('2.0'), mpfr('2.0')]"
       ]
      }
     ],
     "prompt_number": 32
    },
    {
     "cell_type": "code",
     "collapsed": false,
     "input": [
      "b-b, (b-b).diam()"
     ],
     "language": "python",
     "metadata": {},
     "outputs": [
      {
       "metadata": {},
       "output_type": "pyout",
       "prompt_number": 33,
       "text": [
        "(Intervalo[mpfr('-0.0'), mpfr('0.0')], mpfr('0.0'))"
       ]
      }
     ],
     "prompt_number": 33
    },
    {
     "cell_type": "code",
     "collapsed": false,
     "input": [
      "b**(-1) == b.reciprocal()"
     ],
     "language": "python",
     "metadata": {},
     "outputs": [
      {
       "metadata": {},
       "output_type": "pyout",
       "prompt_number": 34,
       "text": [
        "True"
       ]
      }
     ],
     "prompt_number": 34
    },
    {
     "cell_type": "code",
     "collapsed": false,
     "input": [
      "b**16"
     ],
     "language": "python",
     "metadata": {},
     "outputs": [
      {
       "html": [
        "Intervalo[mpfr('1.52587890625e-05'), mpfr('1.52587890625e-05')]"
       ],
       "latex": [
        "$[mpfr('1.52587890625e-05'), mpfr('1.52587890625e-05')]$"
       ],
       "metadata": {},
       "output_type": "pyout",
       "prompt_number": 35,
       "text": [
        "Intervalo[mpfr('1.52587890625e-05'), mpfr('1.52587890625e-05')]"
       ]
      }
     ],
     "prompt_number": 35
    },
    {
     "cell_type": "code",
     "collapsed": false,
     "input": [
      "a**(-1) == a.reciprocal()"
     ],
     "language": "python",
     "metadata": {},
     "outputs": [
      {
       "metadata": {},
       "output_type": "pyout",
       "prompt_number": 36,
       "text": [
        "True"
       ]
      }
     ],
     "prompt_number": 36
    },
    {
     "cell_type": "code",
     "collapsed": false,
     "input": [
      "a**(-1), a.reciprocal()"
     ],
     "language": "python",
     "metadata": {},
     "outputs": [
      {
       "metadata": {},
       "output_type": "pyout",
       "prompt_number": 37,
       "text": [
        "(Intervalo[mpfr('9.9999999999999982'), mpfr('10.000000000000002')],\n",
        " Intervalo[mpfr('9.9999999999999982'), mpfr('10.000000000000002')])"
       ]
      }
     ],
     "prompt_number": 37
    },
    {
     "cell_type": "code",
     "collapsed": false,
     "input": [
      "b**17-(b**16)/(2)"
     ],
     "language": "python",
     "metadata": {},
     "outputs": [
      {
       "html": [
        "Intervalo[mpfr('-0.0'), mpfr('0.0')]"
       ],
       "latex": [
        "$[mpfr('-0.0'), mpfr('0.0')]$"
       ],
       "metadata": {},
       "output_type": "pyout",
       "prompt_number": 38,
       "text": [
        "Intervalo[mpfr('-0.0'), mpfr('0.0')]"
       ]
      }
     ],
     "prompt_number": 38
    },
    {
     "cell_type": "code",
     "collapsed": false,
     "input": [
      "a = Intervalo(-0.1,0.1)"
     ],
     "language": "python",
     "metadata": {},
     "outputs": [],
     "prompt_number": 39
    },
    {
     "cell_type": "code",
     "collapsed": false,
     "input": [
      "a, Intervalo(0.1)"
     ],
     "language": "python",
     "metadata": {},
     "outputs": [
      {
       "metadata": {},
       "output_type": "pyout",
       "prompt_number": 40,
       "text": [
        "(Intervalo[mpfr('-0.10000000000000001'), mpfr('0.10000000000000001')],\n",
        " Intervalo[mpfr('0.099999999999999992'), mpfr('0.10000000000000001')])"
       ]
      }
     ],
     "prompt_number": 40
    },
    {
     "cell_type": "code",
     "collapsed": false,
     "input": [
      "a, b"
     ],
     "language": "python",
     "metadata": {},
     "outputs": [
      {
       "metadata": {},
       "output_type": "pyout",
       "prompt_number": 41,
       "text": [
        "(Intervalo[mpfr('-0.10000000000000001'), mpfr('0.10000000000000001')],\n",
        " Intervalo[mpfr('0.5'), mpfr('0.5')])"
       ]
      }
     ],
     "prompt_number": 41
    },
    {
     "cell_type": "code",
     "collapsed": false,
     "input": [
      "b/a"
     ],
     "language": "python",
     "metadata": {},
     "outputs": [
      {
       "output_type": "stream",
       "stream": "stdout",
       "text": [
        "\n",
        "Interval [mpfr('-0.10000000000000001'),mpfr('0.10000000000000001')] in denominator contains 0.\n"
       ]
      },
      {
       "html": [
        "Intervalo[mpfr('-&infin;'), mpfr('&infin;')]"
       ],
       "latex": [
        "$[mpfr('-inf'), mpfr('inf')]$"
       ],
       "metadata": {},
       "output_type": "pyout",
       "prompt_number": 42,
       "text": [
        "Intervalo[mpfr('-inf'), mpfr('inf')]"
       ]
      }
     ],
     "prompt_number": 42
    },
    {
     "cell_type": "code",
     "collapsed": false,
     "input": [
      "a.reciprocal()"
     ],
     "language": "python",
     "metadata": {},
     "outputs": [
      {
       "output_type": "stream",
       "stream": "stdout",
       "text": [
        "\n",
        "Interval [mpfr('-0.10000000000000001'),mpfr('0.10000000000000001')] in denominator contains 0.\n"
       ]
      },
      {
       "html": [
        "Intervalo[mpfr('-&infin;'), mpfr('&infin;')]"
       ],
       "latex": [
        "$[mpfr('-inf'), mpfr('inf')]$"
       ],
       "metadata": {},
       "output_type": "pyout",
       "prompt_number": 43,
       "text": [
        "Intervalo[mpfr('-inf'), mpfr('inf')]"
       ]
      }
     ],
     "prompt_number": 43
    },
    {
     "cell_type": "code",
     "collapsed": false,
     "input": [
      "a/b"
     ],
     "language": "python",
     "metadata": {},
     "outputs": [
      {
       "html": [
        "Intervalo[mpfr('-0.20000000000000001'), mpfr('0.20000000000000001')]"
       ],
       "latex": [
        "$[mpfr('-0.20000000000000001'), mpfr('0.20000000000000001')]$"
       ],
       "metadata": {},
       "output_type": "pyout",
       "prompt_number": 44,
       "text": [
        "Intervalo[mpfr('-0.20000000000000001'), mpfr('0.20000000000000001')]"
       ]
      }
     ],
     "prompt_number": 44
    },
    {
     "cell_type": "code",
     "collapsed": false,
     "input": [
      "Intervalo(0.1)/b"
     ],
     "language": "python",
     "metadata": {},
     "outputs": [
      {
       "html": [
        "Intervalo[mpfr('0.19999999999999998'), mpfr('0.20000000000000001')]"
       ],
       "latex": [
        "$[mpfr('0.19999999999999998'), mpfr('0.20000000000000001')]$"
       ],
       "metadata": {},
       "output_type": "pyout",
       "prompt_number": 45,
       "text": [
        "Intervalo[mpfr('0.19999999999999998'), mpfr('0.20000000000000001')]"
       ]
      }
     ],
     "prompt_number": 45
    },
    {
     "cell_type": "code",
     "collapsed": false,
     "input": [
      "exp(a)"
     ],
     "language": "python",
     "metadata": {},
     "outputs": [
      {
       "html": [
        "Intervalo[mpfr('0.90483741803595952'), mpfr('1.1051709180756477')]"
       ],
       "latex": [
        "$[mpfr('0.90483741803595952'), mpfr('1.1051709180756477')]$"
       ],
       "metadata": {},
       "output_type": "pyout",
       "prompt_number": 46,
       "text": [
        "Intervalo[mpfr('0.90483741803595952'), mpfr('1.1051709180756477')]"
       ]
      }
     ],
     "prompt_number": 46
    },
    {
     "cell_type": "code",
     "collapsed": false,
     "input": [
      "exp( Intervalo(0,1) ), exp(Intervalo(0.0,1.0)), exp(1.0) in exp(Intervalo(0,1))"
     ],
     "language": "python",
     "metadata": {},
     "outputs": [
      {
       "metadata": {},
       "output_type": "pyout",
       "prompt_number": 47,
       "text": [
        "(Intervalo[mpfr('1.0'), mpfr('2.7182818284590455')],\n",
        " Intervalo[mpfr('1.0'), mpfr('2.7182818284590455')],\n",
        " True)"
       ]
      }
     ],
     "prompt_number": 47
    },
    {
     "cell_type": "code",
     "collapsed": false,
     "input": [
      "log(exp(Intervalo(1.0))),exp(log(Intervalo(1.0)))"
     ],
     "language": "python",
     "metadata": {},
     "outputs": [
      {
       "metadata": {},
       "output_type": "pyout",
       "prompt_number": 48,
       "text": [
        "(Intervalo[mpfr('0.99999999999999989'), mpfr('1.0000000000000002')],\n",
        " Intervalo[mpfr('1.0'), mpfr('1.0')])"
       ]
      }
     ],
     "prompt_number": 48
    },
    {
     "cell_type": "code",
     "collapsed": false,
     "input": [
      "Intervalo(0.1)**1.5"
     ],
     "language": "python",
     "metadata": {},
     "outputs": [
      {
       "html": [
        "Intervalo[mpfr('0.031622776601683784'), mpfr('0.031622776601683798')]"
       ],
       "latex": [
        "$[mpfr('0.031622776601683784'), mpfr('0.031622776601683798')]$"
       ],
       "metadata": {},
       "output_type": "pyout",
       "prompt_number": 49,
       "text": [
        "Intervalo[mpfr('0.031622776601683784'), mpfr('0.031622776601683798')]"
       ]
      }
     ],
     "prompt_number": 49
    },
    {
     "cell_type": "code",
     "collapsed": false,
     "input": [
      "b"
     ],
     "language": "python",
     "metadata": {},
     "outputs": [
      {
       "html": [
        "Intervalo[mpfr('0.5'), mpfr('0.5')]"
       ],
       "latex": [
        "$[mpfr('0.5'), mpfr('0.5')]$"
       ],
       "metadata": {},
       "output_type": "pyout",
       "prompt_number": 50,
       "text": [
        "Intervalo[mpfr('0.5'), mpfr('0.5')]"
       ]
      }
     ],
     "prompt_number": 50
    },
    {
     "cell_type": "code",
     "collapsed": false,
     "input": [
      "b/2"
     ],
     "language": "python",
     "metadata": {},
     "outputs": [
      {
       "html": [
        "Intervalo[mpfr('0.25'), mpfr('0.25')]"
       ],
       "latex": [
        "$[mpfr('0.25'), mpfr('0.25')]$"
       ],
       "metadata": {},
       "output_type": "pyout",
       "prompt_number": 51,
       "text": [
        "Intervalo[mpfr('0.25'), mpfr('0.25')]"
       ]
      }
     ],
     "prompt_number": 51
    },
    {
     "cell_type": "code",
     "collapsed": false,
     "input": [
      "2/b"
     ],
     "language": "python",
     "metadata": {},
     "outputs": [
      {
       "html": [
        "Intervalo[mpfr('4.0'), mpfr('4.0')]"
       ],
       "latex": [
        "$[mpfr('4.0'), mpfr('4.0')]$"
       ],
       "metadata": {},
       "output_type": "pyout",
       "prompt_number": 52,
       "text": [
        "Intervalo[mpfr('4.0'), mpfr('4.0')]"
       ]
      }
     ],
     "prompt_number": 52
    },
    {
     "cell_type": "code",
     "collapsed": false,
     "input": [
      "print Intervalo(0.1)\n",
      "a*Intervalo('0.1')"
     ],
     "language": "python",
     "metadata": {},
     "outputs": [
      {
       "output_type": "stream",
       "stream": "stdout",
       "text": [
        "[mpfr('0.099999999999999992'),mpfr('0.10000000000000001')]\n"
       ]
      },
      {
       "html": [
        "Intervalo[mpfr('-0.010000000000000002'), mpfr('0.010000000000000002')]"
       ],
       "latex": [
        "$[mpfr('-0.010000000000000002'), mpfr('0.010000000000000002')]$"
       ],
       "metadata": {},
       "output_type": "pyout",
       "prompt_number": 53,
       "text": [
        "Intervalo[mpfr('-0.010000000000000002'), mpfr('0.010000000000000002')]"
       ]
      }
     ],
     "prompt_number": 53
    },
    {
     "cell_type": "code",
     "collapsed": false,
     "input": [
      "a = Intervalo(1,2)\n",
      "b = Intervalo(3,4)\n",
      "a,b"
     ],
     "language": "python",
     "metadata": {},
     "outputs": [
      {
       "metadata": {},
       "output_type": "pyout",
       "prompt_number": 54,
       "text": [
        "(Intervalo[mpfr('1.0'), mpfr('2.0')], Intervalo[mpfr('3.0'), mpfr('4.0')])"
       ]
      }
     ],
     "prompt_number": 54
    },
    {
     "cell_type": "code",
     "collapsed": false,
     "input": [
      "a*b"
     ],
     "language": "python",
     "metadata": {},
     "outputs": [
      {
       "html": [
        "Intervalo[mpfr('3.0'), mpfr('8.0')]"
       ],
       "latex": [
        "$[mpfr('3.0'), mpfr('8.0')]$"
       ],
       "metadata": {},
       "output_type": "pyout",
       "prompt_number": 55,
       "text": [
        "Intervalo[mpfr('3.0'), mpfr('8.0')]"
       ]
      }
     ],
     "prompt_number": 55
    },
    {
     "cell_type": "code",
     "collapsed": false,
     "input": [
      "a/b"
     ],
     "language": "python",
     "metadata": {},
     "outputs": [
      {
       "html": [
        "Intervalo[mpfr('0.25'), mpfr('0.66666666666666674')]"
       ],
       "latex": [
        "$[mpfr('0.25'), mpfr('0.66666666666666674')]$"
       ],
       "metadata": {},
       "output_type": "pyout",
       "prompt_number": 56,
       "text": [
        "Intervalo[mpfr('0.25'), mpfr('0.66666666666666674')]"
       ]
      }
     ],
     "prompt_number": 56
    },
    {
     "cell_type": "code",
     "collapsed": false,
     "input": [
      "2*b.reciprocal()"
     ],
     "language": "python",
     "metadata": {},
     "outputs": [
      {
       "html": [
        "Intervalo[mpfr('0.5'), mpfr('0.66666666666666674')]"
       ],
       "latex": [
        "$[mpfr('0.5'), mpfr('0.66666666666666674')]$"
       ],
       "metadata": {},
       "output_type": "pyout",
       "prompt_number": 57,
       "text": [
        "Intervalo[mpfr('0.5'), mpfr('0.66666666666666674')]"
       ]
      }
     ],
     "prompt_number": 57
    },
    {
     "cell_type": "code",
     "collapsed": false,
     "input": [
      "a*b.reciprocal()"
     ],
     "language": "python",
     "metadata": {},
     "outputs": [
      {
       "html": [
        "Intervalo[mpfr('0.25'), mpfr('0.66666666666666674')]"
       ],
       "latex": [
        "$[mpfr('0.25'), mpfr('0.66666666666666674')]$"
       ],
       "metadata": {},
       "output_type": "pyout",
       "prompt_number": 58,
       "text": [
        "Intervalo[mpfr('0.25'), mpfr('0.66666666666666674')]"
       ]
      }
     ],
     "prompt_number": 58
    },
    {
     "cell_type": "code",
     "collapsed": false,
     "input": [
      "c = Intervalo(-gmpy2.inf(),-gmpy2.inf())\n",
      "c"
     ],
     "language": "python",
     "metadata": {},
     "outputs": [
      {
       "html": [
        "Intervalo[mpfr('-&infin;'), mpfr('-&infin;')]"
       ],
       "latex": [
        "$[mpfr('-inf'), mpfr('-inf')]$"
       ],
       "metadata": {},
       "output_type": "pyout",
       "prompt_number": 59,
       "text": [
        "Intervalo[mpfr('-inf'), mpfr('-inf')]"
       ]
      }
     ],
     "prompt_number": 59
    },
    {
     "cell_type": "code",
     "collapsed": false,
     "input": [
      "a, log(a), exp(c), exp(c*log(a)), a**c"
     ],
     "language": "python",
     "metadata": {},
     "outputs": [
      {
       "metadata": {},
       "output_type": "pyout",
       "prompt_number": 60,
       "text": [
        "(Intervalo[mpfr('1.0'), mpfr('2.0')],\n",
        " Intervalo[mpfr('0.0'), mpfr('0.6931471805599454')],\n",
        " Intervalo[mpfr('0.0'), mpfr('0.0')],\n",
        " Intervalo[mpfr('nan'), mpfr('nan')],\n",
        " Intervalo[mpfr('nan'), mpfr('nan')])"
       ]
      }
     ],
     "prompt_number": 60
    },
    {
     "cell_type": "code",
     "collapsed": false,
     "input": [
      "with gmpy2.local_context(gmpy2.ieee(64)) as ctx:\n",
      "    print a, log(a), exp(c), exp(c*log(a)), a**c"
     ],
     "language": "python",
     "metadata": {},
     "outputs": [
      {
       "output_type": "stream",
       "stream": "stdout",
       "text": [
        "[mpfr('1.0'),mpfr('2.0')] [mpfr('0.0'),mpfr('0.6931471805599454')] [mpfr('0.0'),mpfr('0.0')] [mpfr('nan'),mpfr('nan')] [mpfr('nan'),mpfr('nan')]\n"
       ]
      }
     ],
     "prompt_number": 61
    },
    {
     "cell_type": "code",
     "collapsed": false,
     "input": [
      "a,b,a.reciprocal()"
     ],
     "language": "python",
     "metadata": {},
     "outputs": [
      {
       "metadata": {},
       "output_type": "pyout",
       "prompt_number": 62,
       "text": [
        "(Intervalo[mpfr('1.0'), mpfr('2.0')],\n",
        " Intervalo[mpfr('3.0'), mpfr('4.0')],\n",
        " Intervalo[mpfr('0.5'), mpfr('1.0')])"
       ]
      }
     ],
     "prompt_number": 62
    },
    {
     "cell_type": "code",
     "collapsed": false,
     "input": [
      "-(a/b),(-a)/b, a/(-b)"
     ],
     "language": "python",
     "metadata": {},
     "outputs": [
      {
       "metadata": {},
       "output_type": "pyout",
       "prompt_number": 63,
       "text": [
        "(Intervalo[mpfr('-0.66666666666666674'), mpfr('-0.25')],\n",
        " Intervalo[mpfr('-0.66666666666666674'), mpfr('-0.25')],\n",
        " Intervalo[mpfr('-0.66666666666666674'), mpfr('-0.25')])"
       ]
      }
     ],
     "prompt_number": 63
    },
    {
     "cell_type": "code",
     "collapsed": false,
     "input": [
      "2/mpfr('3.0'), Intervalo(2)/Intervalo(3)"
     ],
     "language": "python",
     "metadata": {},
     "outputs": [
      {
       "metadata": {},
       "output_type": "pyout",
       "prompt_number": 64,
       "text": [
        "(mpfr('0.66666666666666663'),\n",
        " Intervalo[mpfr('0.66666666666666663'), mpfr('0.66666666666666674')])"
       ]
      }
     ],
     "prompt_number": 64
    },
    {
     "cell_type": "code",
     "collapsed": false,
     "input": [
      "0 in a"
     ],
     "language": "python",
     "metadata": {},
     "outputs": [
      {
       "metadata": {},
       "output_type": "pyout",
       "prompt_number": 65,
       "text": [
        "False"
       ]
      }
     ],
     "prompt_number": 65
    },
    {
     "cell_type": "code",
     "collapsed": false,
     "input": [
      "log(a)"
     ],
     "language": "python",
     "metadata": {},
     "outputs": [
      {
       "html": [
        "Intervalo[mpfr('0.0'), mpfr('0.6931471805599454')]"
       ],
       "latex": [
        "$[mpfr('0.0'), mpfr('0.6931471805599454')]$"
       ],
       "metadata": {},
       "output_type": "pyout",
       "prompt_number": 66,
       "text": [
        "Intervalo[mpfr('0.0'), mpfr('0.6931471805599454')]"
       ]
      }
     ],
     "prompt_number": 66
    },
    {
     "cell_type": "code",
     "collapsed": false,
     "input": [
      "0 in b"
     ],
     "language": "python",
     "metadata": {},
     "outputs": [
      {
       "metadata": {},
       "output_type": "pyout",
       "prompt_number": 67,
       "text": [
        "False"
       ]
      }
     ],
     "prompt_number": 67
    },
    {
     "cell_type": "code",
     "collapsed": false,
     "input": [
      "-b"
     ],
     "language": "python",
     "metadata": {},
     "outputs": [
      {
       "html": [
        "Intervalo[mpfr('-4.0'), mpfr('-3.0')]"
       ],
       "latex": [
        "$[mpfr('-4.0'), mpfr('-3.0')]$"
       ],
       "metadata": {},
       "output_type": "pyout",
       "prompt_number": 68,
       "text": [
        "Intervalo[mpfr('-4.0'), mpfr('-3.0')]"
       ]
      }
     ],
     "prompt_number": 68
    },
    {
     "cell_type": "code",
     "collapsed": false,
     "input": [
      "x=1.0/3\n",
      "Intervalo(1.0)/3.0, Intervalo(1.0)/Intervalo(3.0), 1.0/Intervalo(3.0), \\\n",
      "Intervalo(1.0/3.0), Intervalo(x)"
     ],
     "language": "python",
     "metadata": {},
     "outputs": [
      {
       "metadata": {},
       "output_type": "pyout",
       "prompt_number": 69,
       "text": [
        "(Intervalo[mpfr('0.33333333333333331'), mpfr('0.33333333333333337')],\n",
        " Intervalo[mpfr('0.33333333333333331'), mpfr('0.33333333333333337')],\n",
        " Intervalo[mpfr('0.33333333333333331'), mpfr('0.33333333333333337')],\n",
        " Intervalo[mpfr('0.33333333333299997'), mpfr('0.33333333333300003')],\n",
        " Intervalo[mpfr('0.33333333333299997'), mpfr('0.33333333333300003')])"
       ]
      }
     ],
     "prompt_number": 69
    },
    {
     "cell_type": "code",
     "collapsed": false,
     "input": [
      "c = (Intervalo(3.0)).reciprocal()\n",
      "print c\n",
      "c.lo.digits(2), c.hi.digits(2)"
     ],
     "language": "python",
     "metadata": {},
     "outputs": [
      {
       "output_type": "stream",
       "stream": "stdout",
       "text": [
        "[mpfr('0.33333333333333331'),mpfr('0.33333333333333337')]\n"
       ]
      },
      {
       "metadata": {},
       "output_type": "pyout",
       "prompt_number": 70,
       "text": [
        "(('10101010101010101010101010101010101010101010101010101', -1, 53),\n",
        " ('10101010101010101010101010101010101010101010101010110', -1, 53))"
       ]
      }
     ],
     "prompt_number": 70
    },
    {
     "cell_type": "code",
     "collapsed": false,
     "input": [
      "def pow_test(interv, exponent):\n",
      "    with gmpy2.local_context(gmpy2.get_context(), round=3) as ctx:\n",
      "        lower = (interv.mig())**exponent\n",
      "    with gmpy2.local_context(gmpy2.get_context(), round=2) as ctx:\n",
      "        upper = (interv.mag())**exponent\n",
      "    print lower, upper, (interv.mig())**exponent, (interv.mag())**exponent\n",
      "    \n",
      "pow_test( Intervalo(0.1), 2)"
     ],
     "language": "python",
     "metadata": {},
     "outputs": [
      {
       "output_type": "stream",
       "stream": "stdout",
       "text": [
        "0.0099999999999999967 0.010000000000000002 0.0099999999999999985 0.010000000000000002\n"
       ]
      }
     ],
     "prompt_number": 71
    },
    {
     "cell_type": "code",
     "collapsed": false,
     "input": [
      "Intervalo(0.1).mig() == Intervalo(0.1).lo"
     ],
     "language": "python",
     "metadata": {},
     "outputs": [
      {
       "metadata": {},
       "output_type": "pyout",
       "prompt_number": 72,
       "text": [
        "True"
       ]
      }
     ],
     "prompt_number": 72
    },
    {
     "cell_type": "code",
     "collapsed": false,
     "input": [
      "Intervalo(2.1)**1.1"
     ],
     "language": "python",
     "metadata": {},
     "outputs": [
      {
       "html": [
        "Intervalo[mpfr('2.2617324246391624'), mpfr('2.2617324246391632')]"
       ],
       "latex": [
        "$[mpfr('2.2617324246391624'), mpfr('2.2617324246391632')]$"
       ],
       "metadata": {},
       "output_type": "pyout",
       "prompt_number": 73,
       "text": [
        "Intervalo[mpfr('2.2617324246391624'), mpfr('2.2617324246391632')]"
       ]
      }
     ],
     "prompt_number": 73
    },
    {
     "cell_type": "code",
     "collapsed": false,
     "input": [
      "Intervalo(2.1), Intervalo(1.1)"
     ],
     "language": "python",
     "metadata": {},
     "outputs": [
      {
       "metadata": {},
       "output_type": "pyout",
       "prompt_number": 74,
       "text": [
        "(Intervalo[mpfr('2.0999999999999996'), mpfr('2.1000000000000001')],\n",
        " Intervalo[mpfr('1.0999999999999999'), mpfr('1.1000000000000001')])"
       ]
      }
     ],
     "prompt_number": 74
    },
    {
     "cell_type": "code",
     "collapsed": false,
     "input": [
      "mpfr('2.0999999999999996')**3, \\\n",
      "2.0999999999999996**mpfr('3.0'), \\\n",
      "pow(mpfr('2.0999999999999996'),3),\\\n",
      "mpfr('2.1000000000000001')**3"
     ],
     "language": "python",
     "metadata": {},
     "outputs": [
      {
       "metadata": {},
       "output_type": "pyout",
       "prompt_number": 75,
       "text": [
        "(mpfr('9.2609999999999957'),\n",
        " mpfr('9.2609999999999957'),\n",
        " mpfr('9.2609999999999957'),\n",
        " mpfr('9.261000000000001'))"
       ]
      }
     ],
     "prompt_number": 75
    },
    {
     "cell_type": "code",
     "collapsed": false,
     "input": [
      "Intervalo(2.1)**Intervalo(3)"
     ],
     "language": "python",
     "metadata": {},
     "outputs": [
      {
       "html": [
        "Intervalo[mpfr('9.2609999999999939'), mpfr('9.2610000000000081')]"
       ],
       "latex": [
        "$[mpfr('9.2609999999999939'), mpfr('9.2610000000000081')]$"
       ],
       "metadata": {},
       "output_type": "pyout",
       "prompt_number": 76,
       "text": [
        "Intervalo[mpfr('9.2609999999999939'), mpfr('9.2610000000000081')]"
       ]
      }
     ],
     "prompt_number": 76
    },
    {
     "cell_type": "code",
     "collapsed": false,
     "input": [
      "mpfr('3.0')==int(mpfr('3.0'))"
     ],
     "language": "python",
     "metadata": {},
     "outputs": [
      {
       "metadata": {},
       "output_type": "pyout",
       "prompt_number": 77,
       "text": [
        "True"
       ]
      }
     ],
     "prompt_number": 77
    },
    {
     "cell_type": "code",
     "collapsed": false,
     "input": [
      "mpfr('3.0')%2"
     ],
     "language": "python",
     "metadata": {},
     "outputs": [
      {
       "metadata": {},
       "output_type": "pyout",
       "prompt_number": 78,
       "text": [
        "mpfr('1.0')"
       ]
      }
     ],
     "prompt_number": 78
    },
    {
     "cell_type": "code",
     "collapsed": false,
     "input": [
      "Intervalo(-1.0,1.0)"
     ],
     "language": "python",
     "metadata": {},
     "outputs": [
      {
       "html": [
        "Intervalo[mpfr('-1.0'), mpfr('1.0')]"
       ],
       "latex": [
        "$[mpfr('-1.0'), mpfr('1.0')]$"
       ],
       "metadata": {},
       "output_type": "pyout",
       "prompt_number": 79,
       "text": [
        "Intervalo[mpfr('-1.0'), mpfr('1.0')]"
       ]
      }
     ],
     "prompt_number": 79
    },
    {
     "cell_type": "code",
     "collapsed": false,
     "input": [
      "a"
     ],
     "language": "python",
     "metadata": {},
     "outputs": [
      {
       "html": [
        "Intervalo[mpfr('1.0'), mpfr('2.0')]"
       ],
       "latex": [
        "$[mpfr('1.0'), mpfr('2.0')]$"
       ],
       "metadata": {},
       "output_type": "pyout",
       "prompt_number": 80,
       "text": [
        "Intervalo[mpfr('1.0'), mpfr('2.0')]"
       ]
      }
     ],
     "prompt_number": 80
    },
    {
     "cell_type": "code",
     "collapsed": false,
     "input": [
      "sin(a)"
     ],
     "language": "python",
     "metadata": {},
     "outputs": [
      {
       "html": [
        "Intervalo[mpfr('0.8414709848078965'), mpfr('1.0')]"
       ],
       "latex": [
        "$[mpfr('0.8414709848078965'), mpfr('1.0')]$"
       ],
       "metadata": {},
       "output_type": "pyout",
       "prompt_number": 81,
       "text": [
        "Intervalo[mpfr('0.8414709848078965'), mpfr('1.0')]"
       ]
      }
     ],
     "prompt_number": 81
    },
    {
     "cell_type": "code",
     "collapsed": false,
     "input": [
      "#print pi\n",
      "gmpy2.get_context().precision=123\n",
      "pi = gmpy2.const_pi()\n",
      "pihalf=make_mpfr(0.5*pi, rounding=3)\n",
      "print pi, pihalf"
     ],
     "language": "python",
     "metadata": {},
     "outputs": [
      {
       "output_type": "stream",
       "stream": "stdout",
       "text": [
        "3.14159265358979323846264338327950288437 1.57079632679489661923132169163975144219\n"
       ]
      }
     ],
     "prompt_number": 93
    },
    {
     "cell_type": "code",
     "collapsed": false,
     "input": [
      "a=Intervalo(0,pihalf)\n",
      "a, sin(a), cos(a)"
     ],
     "language": "python",
     "metadata": {},
     "outputs": [
      {
       "metadata": {},
       "output_type": "pyout",
       "prompt_number": 94,
       "text": [
        "(Intervalo[mpfr('0.0',123), mpfr('1.57079632679489661923132169163975144219',123)],\n",
        " Intervalo[mpfr('0.0',123), mpfr('1.0',123)],\n",
        " Intervalo[mpfr('-8.72205557728411705392822855174404083713e-38',123), mpfr('1.0',123)])"
       ]
      }
     ],
     "prompt_number": 94
    },
    {
     "cell_type": "code",
     "collapsed": false,
     "input": [
      "pi, pihalf"
     ],
     "language": "python",
     "metadata": {},
     "outputs": [
      {
       "metadata": {},
       "output_type": "pyout",
       "prompt_number": 95,
       "text": [
        "(mpfr('3.14159265358979323846264338327950288437',123),\n",
        " mpfr('1.57079632679489661923132169163975144219',123))"
       ]
      }
     ],
     "prompt_number": 95
    },
    {
     "cell_type": "code",
     "collapsed": false,
     "input": [
      "cos(pihalf-a)"
     ],
     "language": "python",
     "metadata": {},
     "outputs": [
      {
       "html": [
        "Intervalo[mpfr('-8.72205557728411705392822855174404083713e-38',123), mpfr('1.0',123)]"
       ],
       "latex": [
        "$[mpfr('-8.72205557728411705392822855174404083713e-38',123), mpfr('1.0',123)]$"
       ],
       "metadata": {},
       "output_type": "pyout",
       "prompt_number": 96,
       "text": [
        "Intervalo[mpfr('-8.72205557728411705392822855174404083713e-38',123), mpfr('1.0',123)]"
       ]
      }
     ],
     "prompt_number": 96
    },
    {
     "cell_type": "code",
     "collapsed": false,
     "input": [
      "with gmpy2.local_context(gmpy2.get_context(), precision=113) as ctx:\n",
      "    pihalf=make_mpfr(0.5*pi, rounding=3)\n",
      "    a=Intervalo(0,pihalf)\n",
      "    print a, sin(a), cos(a), pihalf"
     ],
     "language": "python",
     "metadata": {},
     "outputs": [
      {
       "output_type": "stream",
       "stream": "stdout",
       "text": [
        "[mpfr('0.0',113),mpfr('1.57079632679489655799898173427209239',113)] [mpfr('0.0',113),mpfr('0.99999999999999999999999999999999817',113)] [mpfr('6.12323399573676590538962910524735933e-17',113),mpfr('1.0',113)] 1.57079632679489655799898173427209239\n"
       ]
      }
     ],
     "prompt_number": 98
    },
    {
     "cell_type": "code",
     "collapsed": false,
     "input": [
      "pi"
     ],
     "language": "python",
     "metadata": {},
     "outputs": [
      {
       "metadata": {},
       "output_type": "pyout",
       "prompt_number": 97,
       "text": [
        "mpfr('3.14159265358979323846264338327950288437',123)"
       ]
      }
     ],
     "prompt_number": 97
    },
    {
     "cell_type": "code",
     "collapsed": false,
     "input": [
      "pihalf.digits(2), gmpy2.floor((pihalf % (2*pi) )/pihalf), pihalf"
     ],
     "language": "python",
     "metadata": {},
     "outputs": [
      {
       "metadata": {},
       "output_type": "pyout",
       "prompt_number": 98,
       "text": [
        "(('110010010000111111011010101000100010000101101000110000100011010011000100110001100110001010001011100000001101110000011100111',\n",
        "  1,\n",
        "  123),\n",
        " mpfr('1.0',123),\n",
        " mpfr('1.57079632679489661923132169163975144219',123))"
       ]
      }
     ],
     "prompt_number": 98
    },
    {
     "cell_type": "code",
     "collapsed": false,
     "input": [
      "pihalf_lo = make_mpfr(pihalf,rounding=3)\n",
      "pihalf_hi = make_mpfr(pihalf,rounding=2)\n",
      "b = Intervalo(pihalf_lo,pihalf_hi)\n",
      "pihalf in b, b.diam()"
     ],
     "language": "python",
     "metadata": {},
     "outputs": [
      {
       "metadata": {},
       "output_type": "pyout",
       "prompt_number": 99,
       "text": [
        "(True, mpfr('1.88079096131566001274997845955559308451e-37',123))"
       ]
      }
     ],
     "prompt_number": 99
    },
    {
     "cell_type": "code",
     "collapsed": false,
     "input": [
      "b"
     ],
     "language": "python",
     "metadata": {},
     "outputs": [
      {
       "html": [
        "Intervalo[mpfr('1.57079632679489661923132169163975144219',123), mpfr('1.57079632679489661923132169163975144237',123)]"
       ],
       "latex": [
        "$[mpfr('1.57079632679489661923132169163975144219',123), mpfr('1.57079632679489661923132169163975144237',123)]$"
       ],
       "metadata": {},
       "output_type": "pyout",
       "prompt_number": 100,
       "text": [
        "Intervalo[mpfr('1.57079632679489661923132169163975144219',123), mpfr('1.57079632679489661923132169163975144237',123)]"
       ]
      }
     ],
     "prompt_number": 100
    },
    {
     "cell_type": "code",
     "collapsed": false,
     "input": [
      "cos(b)"
     ],
     "language": "python",
     "metadata": {},
     "outputs": [
      {
       "html": [
        "Intervalo[mpfr('-2.75299651904407171814280131472999716831e-37',123), mpfr('-8.72205557728411705392822855174404083624e-38',123)]"
       ],
       "latex": [
        "$[mpfr('-2.75299651904407171814280131472999716831e-37',123), mpfr('-8.72205557728411705392822855174404083624e-38',123)]$"
       ],
       "metadata": {},
       "output_type": "pyout",
       "prompt_number": 101,
       "text": [
        "Intervalo[mpfr('-2.75299651904407171814280131472999716831e-37',123), mpfr('-8.72205557728411705392822855174404083624e-38',123)]"
       ]
      }
     ],
     "prompt_number": 101
    },
    {
     "cell_type": "code",
     "collapsed": false,
     "input": [
      "gmpy2.get_context().precision=53\n",
      "x= Intervalo(mpfr(1.0)-(mpfr(1.0)-mpfr(1.0e-15)))\n",
      "x.diam(), x"
     ],
     "language": "python",
     "metadata": {},
     "outputs": [
      {
       "metadata": {},
       "output_type": "pyout",
       "prompt_number": 103,
       "text": [
        "(mpfr('0.0'),\n",
        " Intervalo[mpfr('9.9920072216264089e-16'), mpfr('9.9920072216264089e-16')])"
       ]
      }
     ],
     "prompt_number": 103
    },
    {
     "cell_type": "code",
     "collapsed": false,
     "input": [
      "0**0.0"
     ],
     "language": "python",
     "metadata": {},
     "outputs": [
      {
       "metadata": {},
       "output_type": "pyout",
       "prompt_number": 104,
       "text": [
        "1.0"
       ]
      }
     ],
     "prompt_number": 104
    },
    {
     "cell_type": "code",
     "collapsed": false,
     "input": [
      "a,b"
     ],
     "language": "python",
     "metadata": {},
     "outputs": [
      {
       "metadata": {},
       "output_type": "pyout",
       "prompt_number": 105,
       "text": [
        "(Intervalo[mpfr('0.0',123), mpfr('1.57079632679489661923132169163975144219',123)],\n",
        " Intervalo[mpfr('1.57079632679489661923132169163975144219',123), mpfr('1.57079632679489661923132169163975144237',123)])"
       ]
      }
     ],
     "prompt_number": 105
    },
    {
     "cell_type": "code",
     "collapsed": false,
     "input": [
      "x=Intervalo(1,3)\n",
      "y=Intervalo(2,4)\n",
      "x==x, x<y, y>x"
     ],
     "language": "python",
     "metadata": {},
     "outputs": [
      {
       "metadata": {},
       "output_type": "pyout",
       "prompt_number": 106,
       "text": [
        "(True, True, True)"
       ]
      }
     ],
     "prompt_number": 106
    },
    {
     "cell_type": "code",
     "collapsed": false,
     "input": [
      "gmpy2.set_context(gmpy2.ieee(128))\n",
      "gmpy2.get_context()"
     ],
     "language": "python",
     "metadata": {},
     "outputs": [
      {
       "metadata": {},
       "output_type": "pyout",
       "prompt_number": 107,
       "text": [
        "context(precision=113, real_prec=Default, imag_prec=Default,\n",
        "        round=RoundToNearest, real_round=Default, imag_round=Default,\n",
        "        emax=16384, emin=-16493,\n",
        "        subnormalize=True,\n",
        "        trap_underflow=False, underflow=False,\n",
        "        trap_overflow=False, overflow=False,\n",
        "        trap_inexact=False, inexact=False,\n",
        "        trap_invalid=False, invalid=False,\n",
        "        trap_erange=False, erange=False,\n",
        "        trap_divzero=False, divzero=False,\n",
        "        trap_expbound=False,\n",
        "        allow_complex=False)"
       ]
      }
     ],
     "prompt_number": 107
    },
    {
     "cell_type": "code",
     "collapsed": false,
     "input": [
      "a = Intervalo(0.1)\n",
      "a"
     ],
     "language": "python",
     "metadata": {},
     "outputs": [
      {
       "html": [
        "Intervalo[mpfr('0.0999999999999999999999999999999999928',113), mpfr('0.100000000000000000000000000000000005',113)]"
       ],
       "latex": [
        "$[mpfr('0.0999999999999999999999999999999999928',113), mpfr('0.100000000000000000000000000000000005',113)]$"
       ],
       "metadata": {},
       "output_type": "pyout",
       "prompt_number": 108,
       "text": [
        "Intervalo[mpfr('0.0999999999999999999999999999999999928',113), mpfr('0.100000000000000000000000000000000005',113)]"
       ]
      }
     ],
     "prompt_number": 108
    },
    {
     "cell_type": "code",
     "collapsed": false,
     "input": [
      "a = Intervalo(make_mpfr(0.1))\n",
      "a"
     ],
     "language": "python",
     "metadata": {},
     "outputs": [
      {
       "html": [
        "Intervalo[mpfr('0.100000000000000000000000000000000005',113), mpfr('0.100000000000000000000000000000000005',113)]"
       ],
       "latex": [
        "$[mpfr('0.100000000000000000000000000000000005',113), mpfr('0.100000000000000000000000000000000005',113)]$"
       ],
       "metadata": {},
       "output_type": "pyout",
       "prompt_number": 109,
       "text": [
        "Intervalo[mpfr('0.100000000000000000000000000000000005',113), mpfr('0.100000000000000000000000000000000005',113)]"
       ]
      }
     ],
     "prompt_number": 109
    },
    {
     "cell_type": "code",
     "collapsed": false,
     "input": [
      "gmpy2.set_context(gmpy2.context())\n",
      "gmpy2.get_context()"
     ],
     "language": "python",
     "metadata": {},
     "outputs": [
      {
       "metadata": {},
       "output_type": "pyout",
       "prompt_number": 110,
       "text": [
        "context(precision=53, real_prec=Default, imag_prec=Default,\n",
        "        round=RoundToNearest, real_round=Default, imag_round=Default,\n",
        "        emax=1073741823, emin=-1073741823,\n",
        "        subnormalize=False,\n",
        "        trap_underflow=False, underflow=False,\n",
        "        trap_overflow=False, overflow=False,\n",
        "        trap_inexact=False, inexact=False,\n",
        "        trap_invalid=False, invalid=False,\n",
        "        trap_erange=False, erange=False,\n",
        "        trap_divzero=False, divzero=False,\n",
        "        trap_expbound=False,\n",
        "        allow_complex=False)"
       ]
      }
     ],
     "prompt_number": 110
    },
    {
     "cell_type": "code",
     "collapsed": false,
     "input": [
      "a = Intervalo(0.1)\n",
      "a"
     ],
     "language": "python",
     "metadata": {},
     "outputs": [
      {
       "html": [
        "Intervalo[mpfr('0.099999999999999992'), mpfr('0.10000000000000001')]"
       ],
       "latex": [
        "$[mpfr('0.099999999999999992'), mpfr('0.10000000000000001')]$"
       ],
       "metadata": {},
       "output_type": "pyout",
       "prompt_number": 111,
       "text": [
        "Intervalo[mpfr('0.099999999999999992'), mpfr('0.10000000000000001')]"
       ]
      }
     ],
     "prompt_number": 111
    },
    {
     "cell_type": "code",
     "collapsed": false,
     "input": [
      "Intervalo(gmpy2.next_below(0.1), gmpy2.next_above(0.1))"
     ],
     "language": "python",
     "metadata": {},
     "outputs": [
      {
       "html": [
        "Intervalo[mpfr('0.099999999999999992'), mpfr('0.10000000000000002')]"
       ],
       "latex": [
        "$[mpfr('0.099999999999999992'), mpfr('0.10000000000000002')]$"
       ],
       "metadata": {},
       "output_type": "pyout",
       "prompt_number": 112,
       "text": [
        "Intervalo[mpfr('0.099999999999999992'), mpfr('0.10000000000000002')]"
       ]
      }
     ],
     "prompt_number": 112
    },
    {
     "cell_type": "code",
     "collapsed": false,
     "input": [
      "gmpy2.next_below(0.5), gmpy2.next_above(0.5)"
     ],
     "language": "python",
     "metadata": {},
     "outputs": [
      {
       "metadata": {},
       "output_type": "pyout",
       "prompt_number": 113,
       "text": [
        "(mpfr('0.49999999999999994'), mpfr('0.50000000000000011'))"
       ]
      }
     ],
     "prompt_number": 113
    },
    {
     "cell_type": "code",
     "collapsed": false,
     "input": [
      "make_mpfr(0.5,rounding=\"RoundUp\")"
     ],
     "language": "python",
     "metadata": {},
     "outputs": [
      {
       "metadata": {},
       "output_type": "pyout",
       "prompt_number": 114,
       "text": [
        "mpfr('0.5')"
       ]
      }
     ],
     "prompt_number": 114
    },
    {
     "cell_type": "code",
     "collapsed": false,
     "input": [
      "gmpy2.next_below(mpfr('0.1')), gmpy2.next_above(mpfr('0.1')), Intervalo(0.1)"
     ],
     "language": "python",
     "metadata": {},
     "outputs": [
      {
       "metadata": {},
       "output_type": "pyout",
       "prompt_number": 115,
       "text": [
        "(mpfr('0.099999999999999992'),\n",
        " mpfr('0.10000000000000002'),\n",
        " Intervalo[mpfr('0.099999999999999992'), mpfr('0.10000000000000001')])"
       ]
      }
     ],
     "prompt_number": 115
    },
    {
     "cell_type": "code",
     "collapsed": false,
     "input": [
      "gmpy2.next_below(gmpy2.next_below(mpfr('0.1')))"
     ],
     "language": "python",
     "metadata": {},
     "outputs": [
      {
       "metadata": {},
       "output_type": "pyout",
       "prompt_number": 116,
       "text": [
        "mpfr('0.099999999999999978')"
       ]
      }
     ],
     "prompt_number": 116
    },
    {
     "cell_type": "code",
     "collapsed": false,
     "input": [
      "gmpy2.get_context().precision=113\n",
      "make_mpfr(0.1*0.1), make_mpfr(0.1)*make_mpfr(0.1), make_mpfr(0.01\n",
      "                                                             )"
     ],
     "language": "python",
     "metadata": {},
     "outputs": [
      {
       "metadata": {},
       "output_type": "pyout",
       "prompt_number": 117,
       "text": [
        "(mpfr('0.0100000000000000000000000000000000002',113),\n",
        " mpfr('0.0100000000000000000000000000000000017',113),\n",
        " mpfr('0.0100000000000000000000000000000000002',113))"
       ]
      }
     ],
     "prompt_number": 117
    },
    {
     "cell_type": "code",
     "collapsed": false,
     "input": [
      "Intervalo(0.1*0.1), Intervalo(0.01)"
     ],
     "language": "python",
     "metadata": {},
     "outputs": [
      {
       "metadata": {},
       "output_type": "pyout",
       "prompt_number": 118,
       "text": [
        "(Intervalo[mpfr('0.00999999999999999999999999999999999868',113), mpfr('0.0100000000000000000000000000000000002',113)],\n",
        " Intervalo[mpfr('0.00999999999999999999999999999999999868',113), mpfr('0.0100000000000000000000000000000000002',113)])"
       ]
      }
     ],
     "prompt_number": 118
    },
    {
     "cell_type": "code",
     "collapsed": false,
     "input": [
      "x = 0.1\n",
      "print x\n",
      "print make_mpfr(x,rounding=\"RoundUp\")"
     ],
     "language": "python",
     "metadata": {},
     "outputs": [
      {
       "output_type": "stream",
       "stream": "stdout",
       "text": [
        "0.1\n",
        "0.100000000000000000000000000000000005\n"
       ]
      }
     ],
     "prompt_number": 121
    },
    {
     "cell_type": "code",
     "collapsed": false,
     "input": [
      "Intervalo(x), sin(mpfr('0.1')) in sin( Intervalo(x) )"
     ],
     "language": "python",
     "metadata": {},
     "outputs": [
      {
       "metadata": {},
       "output_type": "pyout",
       "prompt_number": 128,
       "text": [
        "(Intervalo[mpfr('0.0999999999999999999999999999999999928',113), mpfr('0.100000000000000000000000000000000005',113)],\n",
        " True)"
       ]
      }
     ],
     "prompt_number": 128
    },
    {
     "cell_type": "code",
     "collapsed": false,
     "input": [
      "gmpy2.get_context().round=3\n",
      "x = mpfr('0.1')\n",
      "y = mpfr('0.3')\n",
      "print x, y\n",
      "print x+y\n",
      "\n",
      "gmpy2.get_context().round=2\n",
      "x = mpfr('0.1')\n",
      "y = mpfr('0.3')\n",
      "print x, y\n",
      "print x+y\n",
      "\n",
      "gmpy2.get_context().round=0\n",
      "x = mpfr('0.1')\n",
      "y = mpfr('0.3')\n",
      "print x, y\n",
      "print x+y"
     ],
     "language": "python",
     "metadata": {},
     "outputs": [
      {
       "output_type": "stream",
       "stream": "stdout",
       "text": [
        "0.0999999999999999999999999999999999928 0.29999999999999999999999999999999999\n",
        "0.399999999999999999999999999999999971\n",
        "0.100000000000000000000000000000000005 0.300000000000000000000000000000000039\n",
        "0.400000000000000000000000000000000067\n",
        "0.100000000000000000000000000000000005 0.29999999999999999999999999999999999\n",
        "0.400000000000000000000000000000000019\n"
       ]
      }
     ],
     "prompt_number": 129
    },
    {
     "cell_type": "code",
     "collapsed": false,
     "input": [
      "print Intervalo(0.1)\n",
      "print Intervalo(make_mpfr(0.1))\n",
      "print Intervalo(mpfr('0.1'))"
     ],
     "language": "python",
     "metadata": {},
     "outputs": [
      {
       "output_type": "stream",
       "stream": "stdout",
       "text": [
        "[mpfr('0.0999999999999999999999999999999999928',113),mpfr('0.100000000000000000000000000000000005',113)]\n",
        "[mpfr('0.100000000000000000000000000000000005',113),mpfr('0.100000000000000000000000000000000005',113)]\n",
        "[mpfr('0.100000000000000000000000000000000005',113),mpfr('0.100000000000000000000000000000000005',113)]\n"
       ]
      }
     ],
     "prompt_number": 130
    },
    {
     "cell_type": "code",
     "collapsed": false,
     "input": [
      "print Intervalo(0.1)\n",
      "print Intervalo(0.3)\n",
      "print\n",
      "print Intervalo(0.1)+Intervalo(0.3)\n",
      "print Intervalo(mpfr('0.1'))+Intervalo(mpfr('0.3'))\n",
      "print Intervalo(0.1+0.3)\n",
      "print Intervalo(mpfr('0.1')+mpfr('0.3'))"
     ],
     "language": "python",
     "metadata": {},
     "outputs": [
      {
       "output_type": "stream",
       "stream": "stdout",
       "text": [
        "[mpfr('0.0999999999999999999999999999999999928',113),mpfr('0.100000000000000000000000000000000005',113)]\n",
        "[mpfr('0.29999999999999999999999999999999999',113),mpfr('0.300000000000000000000000000000000039',113)]\n",
        "\n",
        "[mpfr('0.399999999999999999999999999999999971',113),mpfr('0.400000000000000000000000000000000067',113)]\n",
        "[mpfr('0.399999999999999999999999999999999971',113),mpfr('0.400000000000000000000000000000000019',113)]\n",
        "[mpfr('0.399999999999999999999999999999999971',113),mpfr('0.400000000000000000000000000000000019',113)]\n",
        "[mpfr('0.400000000000000000000000000000000019',113),mpfr('0.400000000000000000000000000000000019',113)]\n"
       ]
      }
     ],
     "prompt_number": 131
    },
    {
     "cell_type": "code",
     "collapsed": false,
     "input": [
      "x=make_mpfr(0.1,rounding=\"RoundDown\")\n",
      "y=make_mpfr(0.3,rounding=\"RoundUp\")\n",
      "print x,y,x+y,make_mpfr(x+y,\"RoundDown\")\n",
      "print x,y,x+y,make_mpfr(x+y,\"RoundUp\")\n"
     ],
     "language": "python",
     "metadata": {},
     "outputs": [
      {
       "output_type": "stream",
       "stream": "stdout",
       "text": [
        "0.0999999999999999999999999999999999928 0.300000000000000000000000000000000039 0.400000000000000000000000000000000019 0.399999999999999999999999999999999971\n",
        "0.0999999999999999999999999999999999928 0.300000000000000000000000000000000039 0.400000000000000000000000000000000019 0.400000000000000000000000000000000019\n"
       ]
      }
     ],
     "prompt_number": 132
    },
    {
     "cell_type": "code",
     "collapsed": false,
     "input": [
      "Intervalo(x+y), Intervalo(x)+Intervalo(y)"
     ],
     "language": "python",
     "metadata": {},
     "outputs": [
      {
       "metadata": {},
       "output_type": "pyout",
       "prompt_number": 133,
       "text": [
        "(Intervalo[mpfr('0.400000000000000000000000000000000019',113), mpfr('0.400000000000000000000000000000000019',113)],\n",
        " Intervalo[mpfr('0.400000000000000000000000000000000019',113), mpfr('0.400000000000000000000000000000000067',113)])"
       ]
      }
     ],
     "prompt_number": 133
    },
    {
     "cell_type": "code",
     "collapsed": false,
     "input": [
      "print make_mpfr(0.1,rounding=\"RoundDown\"), make_mpfr('0.1',rounding=\"RoundDown\")"
     ],
     "language": "python",
     "metadata": {},
     "outputs": [
      {
       "output_type": "stream",
       "stream": "stdout",
       "text": [
        "0.0999999999999999999999999999999999928 0.0999999999999999999999999999999999928\n"
       ]
      }
     ],
     "prompt_number": 134
    },
    {
     "cell_type": "code",
     "collapsed": false,
     "input": [
      "exp(Intervalo(0.1)), exp(mpfr('0.1'))"
     ],
     "language": "python",
     "metadata": {},
     "outputs": [
      {
       "metadata": {},
       "output_type": "pyout",
       "prompt_number": 136,
       "text": [
        "(Intervalo[mpfr('1.10517091807564762481170782649024665',113), mpfr('1.10517091807564762481170782649024684',113)],\n",
        " mpfr('1.10517091807564762481170782649024665',113))"
       ]
      }
     ],
     "prompt_number": 136
    },
    {
     "cell_type": "code",
     "collapsed": false,
     "input": [],
     "language": "python",
     "metadata": {},
     "outputs": []
    }
   ],
   "metadata": {}
  }
 ]
}