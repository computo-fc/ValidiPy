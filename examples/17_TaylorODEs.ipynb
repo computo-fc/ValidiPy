{
 "metadata": {
  "name": ""
 },
 "nbformat": 3,
 "nbformat_minor": 0,
 "worksheets": [
  {
   "cells": [
    {
     "cell_type": "heading",
     "level": 2,
     "metadata": {},
     "source": [
      "M\u00e9todo de integraci\u00f3n de Taylor"
     ]
    },
    {
     "cell_type": "heading",
     "level": 3,
     "metadata": {},
     "source": [
      "I. Lo que antes hab\u00eda hecho..."
     ]
    },
    {
     "cell_type": "code",
     "collapsed": false,
     "input": [
      "from taylor_old import *"
     ],
     "language": "python",
     "metadata": {},
     "outputs": [],
     "prompt_number": 1
    },
    {
     "cell_type": "markdown",
     "metadata": {},
     "source": [
      "Usamos como ejemplo\n",
      "$$ \\dot{x} = f[ x(t) ] = -x$$\n",
      "cuya soluci\u00f3n ya conocemos: $x(t)=x(0) \\exp(-t)$"
     ]
    },
    {
     "cell_type": "code",
     "collapsed": false,
     "input": [
      "def f(x):\n",
      "    return -x"
     ],
     "language": "python",
     "metadata": {},
     "outputs": [],
     "prompt_number": 2
    },
    {
     "cell_type": "code",
     "collapsed": false,
     "input": [
      "# Esto sirve para hacer las sumas de los polinomios de manera eficiente\n",
      "def suma_horner_old( x, h):\n",
      "    orden = x.order\n",
      "    suma = x.coef[orden]\n",
      "    for k in range(orden-1, -1, -1):\n",
      "        suma = suma*h + x.coef[k]\n",
      "        \n",
      "    return suma"
     ],
     "language": "python",
     "metadata": {},
     "outputs": [],
     "prompt_number": 3
    },
    {
     "cell_type": "markdown",
     "metadata": {},
     "source": [
      "Implementamos un paso del integrador, en el que fijamos el paso de integraci\u00f3n `dt` y el orden de Taylor"
     ]
    },
    {
     "cell_type": "code",
     "collapsed": false,
     "input": [
      "x0 = 1\n",
      "orden = 20\n",
      "dt = 1.0/2**10\n",
      "\n",
      "xnext = Taylor( [x0], order = orden)\n",
      "for k in range(0, orden):\n",
      "    xnext.coef[k+1] = f( xnext ).coef[k]*1.0/(k+1)\n",
      "    \n",
      "print xnext\n",
      "xfin = suma_horner_old( xnext, dt)\n",
      "xfin, exp(-dt)"
     ],
     "language": "python",
     "metadata": {},
     "outputs": [
      {
       "output_type": "stream",
       "stream": "stdout",
       "text": [
        "([1.0, -1.0, 0.5, -0.16666666666666666, 0.041666666666666664, -0.0083333333333333332, 0.0013888888888888889, -0.00019841269841269841, 2.4801587301587302e-05, -2.7557319223985893e-06, 2.7557319223985894e-07, -2.505210838544172e-08, 2.08767569878681e-09, -1.6059043836821616e-10, 1.1470745597729726e-11, -7.6471637318198174e-13, 4.7794773323873859e-14, -2.811457254345521e-15, 1.5619206968586228e-16, -8.220635246624331e-18, 4.1103176233121653e-19])\n"
       ]
      },
      {
       "metadata": {},
       "output_type": "pyout",
       "prompt_number": 4,
       "text": [
        "(0.99902391418197567, 0.99902391418197567)"
       ]
      }
     ],
     "prompt_number": 4
    },
    {
     "cell_type": "markdown",
     "metadata": {},
     "source": [
      "Comparamos la serie de Taylor obtenida (`xnext`) y la de la soluci\u00f3n"
     ]
    },
    {
     "cell_type": "code",
     "collapsed": false,
     "input": [
      "exp(-Taylor([0,1],order=20)), xnext"
     ],
     "language": "python",
     "metadata": {},
     "outputs": [
      {
       "metadata": {},
       "output_type": "pyout",
       "prompt_number": 5,
       "text": [
        "(Taylor([1.0, -1.0, 0.5, -0.16666666666666666, 0.041666666666666664, -0.0083333333333333332, 0.0013888888888888889, -0.00019841269841269841, 2.4801587301587302e-05, -2.7557319223985893e-06, 2.7557319223985894e-07, -2.505210838544172e-08, 2.08767569878681e-09, -1.6059043836821616e-10, 1.1470745597729726e-11, -7.6471637318198174e-13, 4.7794773323873859e-14, -2.811457254345521e-15, 1.5619206968586228e-16, -8.220635246624331e-18, 4.1103176233121653e-19]),\n",
        " Taylor([1.0, -1.0, 0.5, -0.16666666666666666, 0.041666666666666664, -0.0083333333333333332, 0.0013888888888888889, -0.00019841269841269841, 2.4801587301587302e-05, -2.7557319223985893e-06, 2.7557319223985894e-07, -2.505210838544172e-08, 2.08767569878681e-09, -1.6059043836821616e-10, 1.1470745597729726e-11, -7.6471637318198174e-13, 4.7794773323873859e-14, -2.811457254345521e-15, 1.5619206968586228e-16, -8.220635246624331e-18, 4.1103176233121653e-19]))"
       ]
      }
     ],
     "prompt_number": 5
    },
    {
     "cell_type": "code",
     "collapsed": false,
     "input": [
      "def x_step_dt_old(f, x0, dt, orden=20):\n",
      "    \n",
      "    if orden is None:\n",
      "        orden = 20\n",
      "        \n",
      "    xnext = Taylor( [x0], order = orden)\n",
      "    for k in range(0, orden):\n",
      "        xnext.coef[k+1] = f( xnext ).coef[k]*1.0/(k+1)\n",
      "        \n",
      "    xfin = suma_horner_old( xnext, dt)\n",
      "    return xfin"
     ],
     "language": "python",
     "metadata": {},
     "outputs": [],
     "prompt_number": 6
    },
    {
     "cell_type": "code",
     "collapsed": false,
     "input": [
      "dt = 1.0/2**16\n",
      "x0=1.0\n",
      "\n",
      "x1 = x_step_dt_old(f, x0, dt)\n",
      "x1, exp(-dt)"
     ],
     "language": "python",
     "metadata": {},
     "outputs": [
      {
       "metadata": {},
       "output_type": "pyout",
       "prompt_number": 7,
       "text": [
        "(0.99998474132735227, 0.99998474132735227)"
       ]
      }
     ],
     "prompt_number": 7
    },
    {
     "cell_type": "code",
     "collapsed": false,
     "input": [
      "%timeit x_step_dt_old(f, x0, dt)"
     ],
     "language": "python",
     "metadata": {},
     "outputs": [
      {
       "output_type": "stream",
       "stream": "stdout",
       "text": [
        "1000 loops, best of 3: 1.03 ms per loop\n"
       ]
      }
     ],
     "prompt_number": 8
    },
    {
     "cell_type": "code",
     "collapsed": false,
     "input": [
      "x2 = x_step_dt_old(f, x1, dt)\n",
      "abs( x2 - x1*exp(-dt)), x2-x0*exp(-2*dt)"
     ],
     "language": "python",
     "metadata": {},
     "outputs": [
      {
       "metadata": {},
       "output_type": "pyout",
       "prompt_number": 9,
       "text": [
        "(0.0, 1.1102230246251565e-16)"
       ]
      }
     ],
     "prompt_number": 9
    },
    {
     "cell_type": "markdown",
     "metadata": {},
     "source": [
      "Lo siguiente hace la implementaci\u00f3n *adaptando* el paso de integraci\u00f3n a una estimaci\u00f3n\n",
      "del error ('epsilon'); el orden en Taylor se incluye como un par\u00e1metro"
     ]
    },
    {
     "cell_type": "code",
     "collapsed": false,
     "input": [
      "def x_step_eps_old(f, x0, epsilon, orden=None):\n",
      "    \n",
      "    if orden is None:\n",
      "        orden = 20\n",
      "        \n",
      "    xnext = Taylor( [x0], order = orden)\n",
      "    for k in range(0, orden):\n",
      "        xnext.coef[k+1] = f( xnext ).coef[k]*1.0/(k+1)\n",
      "        \n",
      "    for i in range(orden,0,-1):\n",
      "        if xnext.coef[i] != 0:\n",
      "            pot = 1.0/i\n",
      "            dt = ( epsilon/abs( xnext.coef[i] ) )**pot\n",
      "            break\n",
      "    \n",
      "    xfin = suma_horner_old( xnext, dt)\n",
      "    return xfin, dt\n"
     ],
     "language": "python",
     "metadata": {},
     "outputs": [],
     "prompt_number": 10
    },
    {
     "cell_type": "code",
     "collapsed": false,
     "input": [
      "x0 = 1.0\n",
      "epsilon = 1.0e-14\n",
      "x1, t = x_step_eps_old(f, x0, epsilon)\n",
      "x1, x0*exp(-t), t, abs(x1-x0*exp(-t))"
     ],
     "language": "python",
     "metadata": {},
     "outputs": [
      {
       "metadata": {},
       "output_type": "pyout",
       "prompt_number": 11,
       "text": [
        "(0.19072209776638938,\n",
        " 0.19072209776638865,\n",
        " 1.6569378959710714,\n",
        " 7.2164496600635175e-16)"
       ]
      }
     ],
     "prompt_number": 11
    },
    {
     "cell_type": "code",
     "collapsed": false,
     "input": [
      "%timeit x_step_eps_old(f, x0, epsilon)"
     ],
     "language": "python",
     "metadata": {},
     "outputs": [
      {
       "output_type": "stream",
       "stream": "stdout",
       "text": [
        "1000 loops, best of 3: 1.01 ms per loop\n"
       ]
      }
     ],
     "prompt_number": 12
    },
    {
     "cell_type": "code",
     "collapsed": false,
     "input": [
      "x0 = 1.0\n",
      "epsilon = 1.0e-14\n",
      "x1, t = x_step_eps_old(f, x0, epsilon, 10)\n",
      "x1, x0*exp(-t), t, abs(x1-x0*exp(-t))"
     ],
     "language": "python",
     "metadata": {},
     "outputs": [
      {
       "metadata": {},
       "output_type": "pyout",
       "prompt_number": 13,
       "text": [
        "(0.83502640120373439,\n",
        " 0.83502640120373417,\n",
        " 0.18029193642306166,\n",
        " 2.2204460492503131e-16)"
       ]
      }
     ],
     "prompt_number": 13
    },
    {
     "cell_type": "code",
     "collapsed": false,
     "input": [
      "x00 = 1.0\n",
      "x0 = x00\n",
      "epsilon = 1.0e-20\n",
      "t = 0\n",
      "for i in range(1,21):\n",
      "    x1, dt = x_step_eps_old(f, x0, epsilon, 20)\n",
      "    t += dt\n",
      "    print t, x1, x00*exp(-t), abs(x1-(x00*exp(-t)))\n",
      "    x0 = x1\n"
     ],
     "language": "python",
     "metadata": {},
     "outputs": [
      {
       "output_type": "stream",
       "stream": "stdout",
       "text": [
        "0.830436120374 0.435859157806 0.435859157806 5.55111512313e-17\n",
        "1.69607932091 0.183401173443 0.183401173443 8.32667268469e-17\n",
        "2.60001207908 0.0742726810632 0.0742726810632 4.16333634234e-17\n",
        "3.54573687467 0.0288473577885 0.0288473577885 1.38777878078e-17\n",
        "4.53725561896 0.0107027386789 0.0107027386789 1.73472347598e-18\n",
        "5.57916868609 0.00377570300893 0.00377570300893 8.67361737988e-19\n",
        "6.67679962387 0.00125980337237 0.00125980337237 2.16840434497e-19\n",
        "7.83635392862 0.000395107005948 0.000395107005948 1.08420217249e-19\n",
        "9.06512363054 0.00011562901591 0.00011562901591 1.35525271561e-20\n",
        "10.371754425 3.13043208053e-05 3.13043208053e-05 6.77626357803e-21\n",
        "11.7665996389 7.75944583847e-06 7.75944583847e-06 5.08219768353e-21\n",
        "13.2621970184 1.739005746e-06 1.739005746e-06 1.27054942088e-21\n",
        "14.8739229 3.47006300551e-07 3.47006300551e-07 1.5881867761e-22\n",
        "16.6209086513 6.04826886246e-08 6.04826886246e-08 8.33798057453e-22\n",
        "18.5273553888 8.98818060513e-09 8.98818060513e-09 9.69455677912e-22\n",
        "20.6244722947 1.10383838004e-09 1.10383838004e-09 1.03004665778e-21\n",
        "22.9534265393 1.07511151451e-10 1.0751115145e-10 1.10281270229e-21\n",
        "25.5700037538 7.85395606546e-12 7.85395606427e-12 1.19355376925e-21\n",
        "28.5523070428 3.98006905407e-13 3.98006904096e-13 1.31030518323e-21\n",
        "32.0141845776 1.24857992007e-14 1.24857977364e-14 1.46431227948e-21\n"
       ]
      }
     ],
     "prompt_number": 14
    },
    {
     "cell_type": "markdown",
     "metadata": {},
     "source": [
      "Ahora integramos\n",
      "$$ \\dot{x} = x^2, x(0)=1$$\n",
      "cuya soluci\u00f3n es $x(t) = \\frac{x_0}{1-t*x_0}$"
     ]
    },
    {
     "cell_type": "code",
     "collapsed": false,
     "input": [
      "def f(x):\n",
      "    return x**2\n"
     ],
     "language": "python",
     "metadata": {},
     "outputs": [],
     "prompt_number": 15
    },
    {
     "cell_type": "code",
     "collapsed": false,
     "input": [
      "x0 = 1.0\n",
      "epsilon = 1.0e-14\n",
      "x1, t = x_step_eps_old(f, x0, epsilon, 30)\n",
      "x1, 1.0/(1-x0*t), t, abs(x1-1.0/(1-x0*t))"
     ],
     "language": "python",
     "metadata": {},
     "outputs": [
      {
       "metadata": {},
       "output_type": "pyout",
       "prompt_number": 16,
       "text": [
        "(1.5184988557984007,\n",
        " 1.518498855798406,\n",
        " 0.34145488738336016,\n",
        " 5.3290705182007514e-15)"
       ]
      }
     ],
     "prompt_number": 16
    },
    {
     "cell_type": "code",
     "collapsed": false,
     "input": [
      "%timeit x_step_eps_old(f, x0, epsilon, 30)"
     ],
     "language": "python",
     "metadata": {},
     "outputs": [
      {
       "output_type": "stream",
       "stream": "stdout",
       "text": [
        "10 loops, best of 3: 20.1 ms per loop\n"
       ]
      }
     ],
     "prompt_number": 17
    },
    {
     "cell_type": "code",
     "collapsed": false,
     "input": [
      "x00 = 1.0\n",
      "x0 = x00\n",
      "epsilon = 1.0e-20\n",
      "t = 0\n",
      "for i in range(1,21):\n",
      "    x1, dt = x_step_eps_old(f, x0, epsilon, 30)\n",
      "    t += dt\n",
      "    print t, x1, 1.0/(1-x00*t), abs(x1-1.0/(1-x00*t))\n",
      "    x0 = x1\n"
     ],
     "language": "python",
     "metadata": {},
     "outputs": [
      {
       "output_type": "stream",
       "stream": "stdout",
       "text": [
        "0.215443469003 1.27460541145 1.27460541145 0.0\n",
        "0.383109486981 1.62103319616 1.62103319616 0.0\n",
        "0.513891603382"
       ]
      },
      {
       "output_type": "stream",
       "stream": "stdout",
       "text": [
        " 2.0571543445 2.0571543445 0.0\n",
        "0.616132400516 2.60506487483 2.60506487483 0.0\n",
        "0.696236394782"
       ]
      },
      {
       "output_type": "stream",
       "stream": "stdout",
       "text": [
        " 3.29203361701 3.29203361701 4.4408920985e-16\n",
        "0.759131994597 4.15165143386 4.15165143386 8.881784197e-16\n",
        "0.808620585342"
       ]
      },
      {
       "output_type": "stream",
       "stream": "stdout",
       "text": [
        " 5.22522237716 5.22522237716 1.7763568394e-15\n",
        "0.847640986446 6.56344496246 6.56344496246 1.7763568394e-15\n",
        "0.878470293072"
       ]
      },
      {
       "output_type": "stream",
       "stream": "stdout",
       "text": [
        " 8.22844080907 8.22844080907 1.7763568394e-15\n",
        "0.902876775921 10.296198561 10.296198561 0.0\n",
        "0.922236560793 12.8595135477 12.8595135477 0.0\n",
        "0.937622876582"
       ]
      },
      {
       "output_type": "stream",
       "stream": "stdout",
       "text": [
        " 16.0315183709 16.0315183709 1.42108547152e-14\n",
        "0.949874477858 19.949916874 19.949916874 0.0\n",
        "0.959648219915 24.7820541722 24.7820541722 7.1054273576e-15\n",
        "0.967459546361"
       ]
      },
      {
       "output_type": "stream",
       "stream": "stdout",
       "text": [
        " 30.7309790794 30.7309790794 1.42108547152e-14\n",
        "0.973713736155 38.0426828968 38.0426828968 9.94759830064e-14\n",
        "0.97873007069 47.0147307697 47.0147307697 2.13162820728e-13\n",
        "0.982760564403"
       ]
      },
      {
       "output_type": "stream",
       "stream": "stdout",
       "text": [
        " 58.0065393902 58.0065393902 4.76063632959e-13\n",
        "0.986004511862 71.4515985532 71.4515985532 6.11066752754e-13\n",
        "0.988619808681 87.8719849192 87.8719849192 6.67910171614e-13\n"
       ]
      }
     ],
     "prompt_number": 18
    },
    {
     "cell_type": "heading",
     "level": 3,
     "metadata": {},
     "source": [
      "II. Lo actual: evito las redundancias que ten\u00edamos por la sobrecarga de operadores"
     ]
    },
    {
     "cell_type": "code",
     "collapsed": false,
     "input": [
      "from taylor_luis import *"
     ],
     "language": "python",
     "metadata": {},
     "outputs": [],
     "prompt_number": 19
    },
    {
     "cell_type": "markdown",
     "metadata": {},
     "source": [
      "**OJO** Lo anterior sobreescribe todas las funciones y m\u00e9todos de la clase taylor_old; as\u00ed que hay que volver a definir algunas cosas..."
     ]
    },
    {
     "cell_type": "code",
     "collapsed": false,
     "input": [
      "# La ecuaci\u00f3n de movimiento la reescribo en t\u00e9rminos de los coeficientes de la serie de Taylor\n",
      "# En este caso es trivial; en otros casos habr\u00e1 que hacer las cosas de manera apropiada\n",
      "def f_coef_homog(x,k):\n",
      "    return -x.coeffs[k]\n",
      "\n",
      "# Esto sirve para hacer las sumas de los polinomios de manera eficiente\n",
      "# En mi nueva versi\u00f3n coef->coeffs (como en la clase que t\u00fa hiciste).\n",
      "def suma_horner( x, h):\n",
      "    orden = x.order\n",
      "    suma = x.coeffs[orden]\n",
      "    for k in range(orden-1, -1, -1):\n",
      "        suma = suma*h + x.coeffs[k]\n",
      "        \n",
      "    return suma"
     ],
     "language": "python",
     "metadata": {},
     "outputs": [],
     "prompt_number": 20
    },
    {
     "cell_type": "markdown",
     "metadata": {},
     "source": [
      "Implementamos un paso del integrador con paso fijo dt...\n",
      "\n",
      "Esto se hace *de la misma manera que antes*, s\u00f3lo que ahora usando la ecuaci\u00f3n de movimiento en t\u00e9rminos de los coeficientes (homog\u00e9neos) de la serie de Taylor."
     ]
    },
    {
     "cell_type": "code",
     "collapsed": false,
     "input": [
      "x0 = 1\n",
      "orden = 20\n",
      "dt = 1.0/2**10\n",
      "\n",
      "xnext = Taylor( [x0], order = orden)\n",
      "for k in range(0, orden):\n",
      "    ff = f_coef_homog( xnext, k)\n",
      "    xnext.coeffs[k+1] = ff*1.0/(k+1)\n",
      "    \n",
      "print xnext\n",
      "xfin = suma_horner( xnext, dt)\n",
      "xfin, exp(-dt)"
     ],
     "language": "python",
     "metadata": {},
     "outputs": [
      {
       "output_type": "stream",
       "stream": "stdout",
       "text": [
        "([1.0, -1.0, 0.5, -0.16666666666666666, 0.041666666666666664, -0.0083333333333333332, 0.0013888888888888889, -0.00019841269841269841, 2.4801587301587302e-05, -2.7557319223985893e-06, 2.7557319223985894e-07, -2.505210838544172e-08, 2.08767569878681e-09, -1.6059043836821616e-10, 1.1470745597729726e-11, -7.6471637318198174e-13, 4.7794773323873859e-14, -2.811457254345521e-15, 1.5619206968586228e-16, -8.220635246624331e-18, 4.1103176233121653e-19])\n"
       ]
      },
      {
       "metadata": {},
       "output_type": "pyout",
       "prompt_number": 21,
       "text": [
        "(0.99902391418197567, 0.99902391418197567)"
       ]
      }
     ],
     "prompt_number": 21
    },
    {
     "cell_type": "code",
     "collapsed": false,
     "input": [
      "exp(-Taylor([0,1],order=20)), xnext"
     ],
     "language": "python",
     "metadata": {},
     "outputs": [
      {
       "metadata": {},
       "output_type": "pyout",
       "prompt_number": 22,
       "text": [
        "(Taylor([1.0, -1.0, 0.5, -0.16666666666666666, 0.041666666666666664, -0.0083333333333333332, 0.0013888888888888889, -0.00019841269841269841, 2.4801587301587302e-05, -2.7557319223985893e-06, 2.7557319223985894e-07, -2.505210838544172e-08, 2.08767569878681e-09, -1.6059043836821616e-10, 1.1470745597729726e-11, -7.6471637318198174e-13, 4.7794773323873859e-14, -2.811457254345521e-15, 1.5619206968586228e-16, -8.220635246624331e-18, 4.1103176233121653e-19]),\n",
        " Taylor([1.0, -1.0, 0.5, -0.16666666666666666, 0.041666666666666664, -0.0083333333333333332, 0.0013888888888888889, -0.00019841269841269841, 2.4801587301587302e-05, -2.7557319223985893e-06, 2.7557319223985894e-07, -2.505210838544172e-08, 2.08767569878681e-09, -1.6059043836821616e-10, 1.1470745597729726e-11, -7.6471637318198174e-13, 4.7794773323873859e-14, -2.811457254345521e-15, 1.5619206968586228e-16, -8.220635246624331e-18, 4.1103176233121653e-19]))"
       ]
      }
     ],
     "prompt_number": 22
    },
    {
     "cell_type": "code",
     "collapsed": false,
     "input": [
      "def x_step_dt(f_coef_homog, x0, dt, orden=20):\n",
      "    \n",
      "    if orden is None:\n",
      "        orden = 20\n",
      "        \n",
      "    xnext = Taylor( [x0], order = orden)\n",
      "    for k in range(0, orden):\n",
      "        ff = f_coef_homog( xnext, k)\n",
      "        xnext.coeffs[k+1] = ff*1.0/(k+1)\n",
      "        \n",
      "    xfin = suma_horner( xnext, dt)\n",
      "    return xfin"
     ],
     "language": "python",
     "metadata": {},
     "outputs": [],
     "prompt_number": 23
    },
    {
     "cell_type": "code",
     "collapsed": false,
     "input": [
      "dt = 1.0/2**16\n",
      "x0=1.0\n",
      "\n",
      "x1 = x_step_dt(f_coef_homog, x0, dt)\n",
      "x1, exp(-dt)"
     ],
     "language": "python",
     "metadata": {},
     "outputs": [
      {
       "metadata": {},
       "output_type": "pyout",
       "prompt_number": 24,
       "text": [
        "(0.99998474132735227, 0.99998474132735227)"
       ]
      }
     ],
     "prompt_number": 24
    },
    {
     "cell_type": "code",
     "collapsed": false,
     "input": [
      "%timeit x_step_dt(f_coef_homog, x0, dt)"
     ],
     "language": "python",
     "metadata": {},
     "outputs": [
      {
       "output_type": "stream",
       "stream": "stdout",
       "text": [
        "1000 loops, best of 3: 164 \u00b5s per loop\n"
       ]
      }
     ],
     "prompt_number": 25
    },
    {
     "cell_type": "code",
     "collapsed": false,
     "input": [
      "def x_step_eps(f_coef_homog, x0, epsilon, orden=None):\n",
      "    \n",
      "    if orden is None:\n",
      "        orden = 20\n",
      "        \n",
      "    xnext = Taylor( [x0], order = orden)\n",
      "    for k in range(0, orden):\n",
      "        ff = f_coef_homog( xnext, k)\n",
      "        xnext.coeffs[k+1] = ff*1.0/(k+1)\n",
      "        \n",
      "    for i in range(orden,0,-1):\n",
      "        if xnext.coeffs[i] != 0:\n",
      "            pot = 1.0/i\n",
      "            dt = ( epsilon/abs( xnext.coeffs[i] ) )**pot\n",
      "            break\n",
      "    \n",
      "    xfin = suma_horner( xnext, dt)\n",
      "    return xfin, dt"
     ],
     "language": "python",
     "metadata": {},
     "outputs": [],
     "prompt_number": 26
    },
    {
     "cell_type": "code",
     "collapsed": false,
     "input": [
      "x0 = 1.0\n",
      "epsilon = 1.0e-14\n",
      "x1, t = x_step_eps(f_coef_homog, x0, epsilon)\n",
      "x1, x0*exp(-t), t, abs(x1-x0*exp(-t))"
     ],
     "language": "python",
     "metadata": {},
     "outputs": [
      {
       "metadata": {},
       "output_type": "pyout",
       "prompt_number": 27,
       "text": [
        "(0.19072209776638938,\n",
        " 0.19072209776638865,\n",
        " 1.6569378959710714,\n",
        " 7.2164496600635175e-16)"
       ]
      }
     ],
     "prompt_number": 27
    },
    {
     "cell_type": "code",
     "collapsed": false,
     "input": [
      "%timeit x_step_eps(f_coef_homog, x0, epsilon)"
     ],
     "language": "python",
     "metadata": {},
     "outputs": [
      {
       "output_type": "stream",
       "stream": "stdout",
       "text": [
        "1000 loops, best of 3: 152 \u00b5s per loop\n"
       ]
      }
     ],
     "prompt_number": 28
    },
    {
     "cell_type": "code",
     "collapsed": false,
     "input": [
      "x00 = 1.0\n",
      "x0 = x00\n",
      "epsilon = 1.0e-20\n",
      "t = 0\n",
      "for i in range(1,21):\n",
      "    x1, dt = x_step_eps(f_coef_homog, x0, epsilon, 20)\n",
      "    t += dt\n",
      "    print t, x1, x00*exp(-t), abs(x1-(x00*exp(-t)))\n",
      "    x0 = x1\n"
     ],
     "language": "python",
     "metadata": {},
     "outputs": [
      {
       "output_type": "stream",
       "stream": "stdout",
       "text": [
        "0.830436120374 0.435859157806 0.435859157806 5.55111512313e-17\n",
        "1.69607932091 0.183401173443 0.183401173443 8.32667268469e-17\n",
        "2.60001207908 0.0742726810632 0.0742726810632 4.16333634234e-17\n",
        "3.54573687467 0.0288473577885 0.0288473577885 1.38777878078e-17\n",
        "4.53725561896 0.0107027386789 0.0107027386789 1.73472347598e-18\n",
        "5.57916868609 0.00377570300893 0.00377570300893 8.67361737988e-19\n",
        "6.67679962387 0.00125980337237 0.00125980337237 2.16840434497e-19\n",
        "7.83635392862 0.000395107005948 0.000395107005948 1.08420217249e-19\n",
        "9.06512363054 0.00011562901591 0.00011562901591 1.35525271561e-20\n",
        "10.371754425 3.13043208053e-05 3.13043208053e-05 6.77626357803e-21\n",
        "11.7665996389 7.75944583847e-06 7.75944583847e-06 5.08219768353e-21\n",
        "13.2621970184 1.739005746e-06 1.739005746e-06 1.27054942088e-21\n",
        "14.8739229 3.47006300551e-07 3.47006300551e-07 1.5881867761e-22\n",
        "16.6209086513 6.04826886246e-08 6.04826886246e-08 8.33798057453e-22\n",
        "18.5273553888 8.98818060513e-09 8.98818060513e-09 9.69455677912e-22\n",
        "20.6244722947 1.10383838004e-09 1.10383838004e-09 1.03004665778e-21\n",
        "22.9534265393 1.07511151451e-10 1.0751115145e-10 1.10281270229e-21\n",
        "25.5700037538 7.85395606546e-12 7.85395606427e-12 1.19355376925e-21\n",
        "28.5523070428 3.98006905407e-13 3.98006904096e-13 1.31030518323e-21\n",
        "32.0141845776 1.24857992007e-14 1.24857977364e-14 1.46431227948e-21\n"
       ]
      }
     ],
     "prompt_number": 29
    },
    {
     "cell_type": "markdown",
     "metadata": {},
     "source": [
      "Otro ejemplo: $\\dot{x} = x^2$, igual que arriba. La idea es implementar de manera *m\u00e1s o menos autom\u00e1tica\" la funci\u00f3n `f_coef_homog` que se necesita para la integraci\u00f3n."
     ]
    },
    {
     "cell_type": "code",
     "collapsed": false,
     "input": [
      "def f(x):\n",
      "    return x**2\n",
      "\n",
      "def f_coef_homog(x,k):\n",
      "    return x.coef_homog_square(k)\n"
     ],
     "language": "python",
     "metadata": {},
     "outputs": [],
     "prompt_number": 30
    },
    {
     "cell_type": "code",
     "collapsed": false,
     "input": [
      "x0 = 1.0\n",
      "epsilon = 1.0e-14\n",
      "x1, t = x_step_eps(f_coef_homog, x0, epsilon, 30)\n",
      "x1, 1.0/(1-x0*t), t, abs(x1-1.0/(1-x0*t))"
     ],
     "language": "python",
     "metadata": {},
     "outputs": [
      {
       "metadata": {},
       "output_type": "pyout",
       "prompt_number": 31,
       "text": [
        "(1.5184988557984007,\n",
        " 1.518498855798406,\n",
        " 0.34145488738336016,\n",
        " 5.3290705182007514e-15)"
       ]
      }
     ],
     "prompt_number": 31
    },
    {
     "cell_type": "code",
     "collapsed": false,
     "input": [
      "%timeit x_step_eps(f_coef_homog, x0, epsilon, 30)"
     ],
     "language": "python",
     "metadata": {},
     "outputs": [
      {
       "output_type": "stream",
       "stream": "stdout",
       "text": [
        "1000 loops, best of 3: 807 \u00b5s per loop\n"
       ]
      }
     ],
     "prompt_number": 32
    },
    {
     "cell_type": "code",
     "collapsed": false,
     "input": [
      "x00 = 1.0\n",
      "x0 = x00\n",
      "epsilon = 1.0e-20\n",
      "t = 0\n",
      "for i in range(1,21):\n",
      "    x1, dt = x_step_eps(f_coef_homog, x0, epsilon, 30)\n",
      "    t += dt\n",
      "    print t, x1, 1.0/(1-x00*t), abs(x1-1.0/(1-x00*t))\n",
      "    x0 = x1\n"
     ],
     "language": "python",
     "metadata": {},
     "outputs": [
      {
       "output_type": "stream",
       "stream": "stdout",
       "text": [
        "0.215443469003 1.27460541145 1.27460541145 0.0\n",
        "0.383109486981 1.62103319616 1.62103319616 0.0\n",
        "0.513891603382 2.0571543445 2.0571543445 0.0\n",
        "0.616132400516 2.60506487483 2.60506487483 0.0\n",
        "0.696236394782 3.29203361701 3.29203361701 4.4408920985e-16\n",
        "0.759131994597 4.15165143386 4.15165143386 8.881784197e-16\n",
        "0.808620585342 5.22522237716 5.22522237716 1.7763568394e-15\n",
        "0.847640986446 6.56344496246 6.56344496246 1.7763568394e-15\n",
        "0.878470293072 8.22844080907 8.22844080907 1.7763568394e-15\n",
        "0.902876775921 10.296198561 10.296198561 0.0\n",
        "0.922236560793 12.8595135477 12.8595135477 0.0\n",
        "0.937622876582 16.0315183709 16.0315183709 1.42108547152e-14\n",
        "0.949874477858 19.949916874 19.949916874 0.0\n",
        "0.959648219915 24.7820541722 24.7820541722 7.1054273576e-15\n",
        "0.967459546361 30.7309790794 30.7309790794 1.42108547152e-14\n",
        "0.973713736155 38.0426828968 38.0426828968 9.94759830064e-14\n",
        "0.97873007069 47.0147307697 47.0147307697 2.13162820728e-13\n",
        "0.982760564403 58.0065393902 58.0065393902 4.76063632959e-13\n",
        "0.986004511862 71.4515985532 71.4515985532 6.11066752754e-13\n",
        "0.988619808681 87.8719849192 87.8719849192 6.67910171614e-13\n"
       ]
      }
     ],
     "prompt_number": 33
    },
    {
     "cell_type": "code",
     "collapsed": false,
     "input": [],
     "language": "python",
     "metadata": {},
     "outputs": []
    }
   ],
   "metadata": {}
  }
 ]
}