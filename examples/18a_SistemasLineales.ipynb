{
 "metadata": {
  "name": ""
 },
 "nbformat": 3,
 "nbformat_minor": 0,
 "worksheets": [
  {
   "cells": [
    {
     "cell_type": "markdown",
     "metadata": {},
     "source": [
      "Uno de los problemas centrales del \u00e1lgebra lineal es obtener la soluci\u00f3n de un sistema de ecuaciones lineales:\n",
      "$$\n",
      "A x = b\n",
      "$$\n",
      "donde $A$ es una matriz de $N\\times N$, $b$ es un vector en $\\mathbb{R}^n$, y $x$ es el vector que buscamos encontrar.\n",
      "\n",
      "Y, en este curso nos interesa el caso en que esto se extiende a intervalos. Un ejemplo de esto es:\n",
      "$$\n",
      "\\left( \\begin{array}{cc}\n",
      "[2,4] & [-2,1] \\\\\n",
      "[-1,2] & [2,4]\n",
      "\\end{array} \\right) \n",
      "\\left( \\begin{array}{c} x_1\\\\ x_2\\end{array} \\right) = \n",
      "\\left( \\begin{array}{c} [-2,2]\\\\ [-2,2]\\end{array} \\right)\n",
      "$$"
     ]
    },
    {
     "cell_type": "markdown",
     "metadata": {},
     "source": [
      "Una soluci\u00f3n $x^T=(x_1,x_2)^T$ del sistema lineal, entonces, es el conjunto de soluciones tales que *todas* las ecuaciones lineales se satisfacen, para todo valor $a_{11}$, $a_{12}$, etc, en los intervalos respectivos.\n",
      "\n",
      "Considerando el ejemplo anterior, y pensando que $x_1\\ge 0$ y $x_2 \\ge 0$, el supremo e \u00ednfimo de la ecuaci\u00f3n anterior imponen\n",
      "$$ 4 x_1 + x_2 \\le 2, 2 x_1 - 2x_2 \\ge -2 $$\n",
      "y de igual manera, para la segunda ecuaci\u00f3n, tenemos:\n",
      "$$ 2 x_1 + 4 x_2 \\le 2, - x_1 + 2 x_2 \\ge 2.$$\n",
      "De estas ecuaciones uno obtiene 4 regiones (para cada cuadrante) que deben satisfacerse; la intersecci\u00f3n de todo es el conjunto de las $(x_1,x_2)^T$ que satisfacen la ecuaci\u00f3n lineal. Eso est\u00e1 muy dif\u00edcil y, con intervalos, lo que podemos haces es simplemente definir una regi\u00f3n que incluya las soluciones, que quiz\u00e1s no es la m\u00e1s \u00f3ptima."
     ]
    },
    {
     "cell_type": "markdown",
     "metadata": {},
     "source": [
      "**Considerando** que los $a_{ij}$ son n\u00fameros, y las $b_j$ son intervalos\n",
      "$$\n",
      "\\begin{array}{c}\n",
      "a_{11} x_1 + a_{12} x_2 = b_1 \\\\\n",
      "a_{21} x_1 + a_{22} x_2 = b_2\n",
      "\\end{array}$$\n",
      "podemos intentar la eliminaci\u00f3n gaussiana:\n",
      "$$0 + (a_{22}-\\frac{a_{21}}{a_{11}}a_{12}) x_2 = b_2 -\\frac{a_{21}}{a_{11}}b_1.$$\n",
      "Hay varias sutilezas con esto, por ejemplo, si $a_{11}$ incluye al cero, o cero est\u00e1 en $(a_{22}-\\frac{a_{21}}{a_{11}}a_{12})$..."
     ]
    },
    {
     "cell_type": "heading",
     "level": 3,
     "metadata": {},
     "source": [
      "M\u00e9todos iterativos"
     ]
    },
    {
     "cell_type": "markdown",
     "metadata": {},
     "source": [
      "Hay m\u00e9todos iterativos para construir la soluci\u00f3n, en donde construimos una secuencia $[x^{(0)},x^{(1)},...]$ tal que en el l\u00edmite $k\\to \\infty$, $x^{(k)} \\to x^*$, tal que $A x= b$. \n",
      "\n",
      "Si $x^*$ satisface $A x^* = b$, queremos manipular la ecuaci\u00f3n para tener $x^*$ de los dos lados (ya que queremos escribir $x^{(k+1)}=f(x^{(k)})$), lo que da la pauta de una iteraci\u00f3n. O sea, queremos \"dise\u00f1ar\" $f(x)$."
     ]
    },
    {
     "cell_type": "markdown",
     "metadata": {},
     "source": [
      "Entonces, por ejemplo, escribimos:\n",
      "$x = x + b - A x = b + (I-A)x$, lo que da la idea de escribir:\n",
      "$$\n",
      "x^{(k+1)}= b + (I-A)x^{(k)}.$$\n",
      "\n",
      "Debemos *verificar* que la secuencia converja. Esto lo podemos analizar considerando:\n",
      "$$\n",
      "x^{(k+1)}-x^{(k)} = b+(I-A)x^{(k)}-(b+(I-A)x^{(k-1)})= (I-A)(x^{(k)}-x^{k-1}),\n",
      "$$\n",
      "por lo que, para que haya convergencia, requerimos $||I-A|| < 1$.\n",
      "\n",
      "Para saber qu\u00e9 tan r\u00e1podo converge la secuencia, escribimos:\n",
      "$$\n",
      "x^{(k+1)}-x^* = b+(I-A)x^{(k)}-(b+(I-A)x^*)= (I-A)(x^{(k)}-x^*),\n",
      "$$\n",
      "y haci\u00e9ndolo $k$ veces m\u00e1s\n",
      "$$\n",
      "x^{(k+1)}-x^* = (I-A)^{k+1}(x^{(0)}-x^*).\n",
      "$$"
     ]
    },
    {
     "cell_type": "markdown",
     "metadata": {},
     "source": [
      "Para que haya convergencia requerimos que se cumpla $ \\rho(I-aA) < 1$, donde $\\rho(M)$ es el radio espectral de M, i.e., $\\rho(M)= \\max_i {\\lambda_i}$, donde $\\lambda_i$ son los eigenvalores de $M=I-A$.\n",
      "\n",
      "Esto proviene de reescribir $(x^{(0)}-x^*)$ en t\u00e9rminos de la eigenbase de $I-A$."
     ]
    },
    {
     "cell_type": "markdown",
     "metadata": {},
     "source": [
      "Resulta que $\\rho(M)$ es una cantidad dif\u00edcil de calcular, pero $\\rho(M)\\le || M ||$. Esto se satisface pidiendo que la norma sea *submultiplicativa*.\n",
      "\n",
      "El resultado anterior viene de $|| M w || \\le ||M||\\, ||w||$ (esta es la propiedad de que la norma es submultiplicativa), al considerar el caso en que $w$ es eigenvector de M y su eigenvalor es el m\u00e1ximo en valor absoluto.\n",
      "\n",
      "Un ejemplo de la norma de una matriz es el mayor de los elementos de matriz: $|| M || = \\max_{i,j}\\,|M_{ij}| $."
     ]
    },
    {
     "cell_type": "markdown",
     "metadata": {},
     "source": [
      "Entonces, para responder qu\u00e9 tan r\u00e1pido converge, simplemente tomamos la distancia al l\u00edmite:\n",
      "$$\n",
      "|| x^{(k)} - x^* || \\sim \\lambda_1^k ||x^{(0)} - x^* ||,\n",
      "$$\n",
      "donde $\\lambda_1$ es el mayor de los eigenvectores, en valor absoluto."
     ]
    },
    {
     "cell_type": "markdown",
     "metadata": {},
     "source": [
      "**E.g.** $A x = b$, donde $A=\\left( \\begin{array}{cc}2&1\\\\1&1\\end{array}\\right)$ y $b=\\left( \\begin{array}{c}3\\\\2\\end{array}\\right )$. El resultado es $x^* = \\left( \\begin{array}{c}1\\\\1\\end{array}\\right )$.\n",
      "\n",
      "Siguiendo lo discutido antes: $I-A=\\left( \\begin{array}{cc}-1&1\\\\-1&0\\end{array}\\right)$, y tomando la norma como $|| M || = (\\sum_{i,j} M_{i,j})^{1/2}$, tenemos que $|| I - A|| = sqrt{3}$.\n",
      "\n",
      "Ahora calculamos los eigenvalores obteniendo la ecuaci\u00f3n: $\\lambda^2+\\lambda-1=0$, de donde tenemos: \n",
      "$\\lambda_{\\pm} = \\frac{-1\\pm \\sqrt{5}}{2}.$ Dado que $ | \\lambda_1 | \\sim 1.6$, el m\u00e9todo *no* debe converger para este caso.\n"
     ]
    },
    {
     "cell_type": "code",
     "collapsed": false,
     "input": [
      "import numpy as np"
     ],
     "language": "python",
     "metadata": {},
     "outputs": [],
     "prompt_number": 1
    },
    {
     "cell_type": "code",
     "collapsed": false,
     "input": [
      "A = np.array([2,1,1,1]).reshape(2,2)\n",
      "b = np.array([3,2])\n",
      "x0 = np.array([1.5,1.5])\n",
      "A,b,x0"
     ],
     "language": "python",
     "metadata": {},
     "outputs": [
      {
       "metadata": {},
       "output_type": "pyout",
       "prompt_number": 30,
       "text": [
        "(array([[2, 1],\n",
        "       [1, 1]]), array([3, 2]), array([ 1.5,  1.5]))"
       ]
      }
     ],
     "prompt_number": 30
    },
    {
     "cell_type": "code",
     "collapsed": false,
     "input": [
      "Id = np.identity(2)\n",
      "Id"
     ],
     "language": "python",
     "metadata": {},
     "outputs": [
      {
       "metadata": {},
       "output_type": "pyout",
       "prompt_number": 7,
       "text": [
        "array([[ 1.,  0.],\n",
        "       [ 0.,  1.]])"
       ]
      }
     ],
     "prompt_number": 7
    },
    {
     "cell_type": "code",
     "collapsed": false,
     "input": [
      "eigenvalores = np.linalg.eigvals(Id-A)\n",
      "eigenvalores"
     ],
     "language": "python",
     "metadata": {},
     "outputs": [
      {
       "metadata": {},
       "output_type": "pyout",
       "prompt_number": 32,
       "text": [
        "array([-1.61803399,  0.61803399])"
       ]
      }
     ],
     "prompt_number": 32
    },
    {
     "cell_type": "code",
     "collapsed": false,
     "input": [
      "def lin_iter(matriz,vect,guess):\n",
      "    return np.dot((Id-matriz),guess) + vect"
     ],
     "language": "python",
     "metadata": {},
     "outputs": [],
     "prompt_number": 33
    },
    {
     "cell_type": "code",
     "collapsed": false,
     "input": [
      "lin_iter(A,b,x0)"
     ],
     "language": "python",
     "metadata": {},
     "outputs": [
      {
       "metadata": {},
       "output_type": "pyout",
       "prompt_number": 34,
       "text": [
        "array([-14327.5,  -8854.5])"
       ]
      }
     ],
     "prompt_number": 34
    },
    {
     "cell_type": "code",
     "collapsed": false,
     "input": [
      "x0 = np.array([1.01,1.01])\n",
      "for i in range(20):\n",
      "    x0 = lin_iter(A,b,x0)\n",
      "    print x0"
     ],
     "language": "python",
     "metadata": {},
     "outputs": [
      {
       "output_type": "stream",
       "stream": "stdout",
       "text": [
        "[ 0.98  0.99]\n",
        "[ 1.03  1.02]\n",
        "[ 0.95  0.97]\n",
        "[ 1.08  1.05]\n",
        "[ 0.87  0.92]\n",
        "[ 1.21  1.13]\n",
        "[ 0.66  0.79]\n",
        "[ 1.55  1.34]\n",
        "[ 0.11  0.45]\n",
        "[ 2.44  1.89]\n",
        "[-1.33 -0.44]\n",
        "[ 4.77  3.33]\n",
        "[-5.1  -2.77]\n",
        "[ 10.87   7.1 ]\n",
        "[-14.97  -8.87]\n",
        "[ 26.84  16.97]\n",
        "[-40.81 -24.84]\n",
        "[ 68.65  42.81]\n",
        "[-108.46  -66.65]\n",
        "[ 178.11  110.46]\n"
       ]
      }
     ],
     "prompt_number": 47
    },
    {
     "cell_type": "markdown",
     "metadata": {},
     "source": [
      "Para evitar este tipo de divergencia, debemos modificar $A$ y $b$, por ejemplo, dividiendo por un factor suficientemente grande."
     ]
    },
    {
     "cell_type": "code",
     "collapsed": false,
     "input": [
      "Ap = A/1.5\n",
      "bp = b/1.5"
     ],
     "language": "python",
     "metadata": {},
     "outputs": [],
     "prompt_number": 54
    },
    {
     "cell_type": "code",
     "collapsed": false,
     "input": [
      "np.linalg.eigvals(Id-Ap)"
     ],
     "language": "python",
     "metadata": {},
     "outputs": [
      {
       "metadata": {},
       "output_type": "pyout",
       "prompt_number": 55,
       "text": [
        "array([-0.74535599,  0.74535599])"
       ]
      }
     ],
     "prompt_number": 55
    },
    {
     "cell_type": "code",
     "collapsed": false,
     "input": [
      "x0 = np.array([1.5,1.5])\n",
      "for i in range(50):\n",
      "    xn = lin_iter(Ap,bp,x0)\n",
      "    x0 = xn\n",
      "    print i, x0, np.linalg.norm(x0-np.array([1,1]))"
     ],
     "language": "python",
     "metadata": {},
     "outputs": [
      {
       "output_type": "stream",
       "stream": "stdout",
       "text": [
        "0 [ 0.5         0.83333333] 0.527046276695\n",
        "1 [ 1.27777778  1.27777778] 0.392837100659\n",
        "2 [ 0.72222222  0.90740741] 0.292803487053\n",
        "3 [ 1.15432099  1.15432099] 0.2182428337\n",
        "4 [ 0.84567901  0.94855967] 0.162668603918\n",
        "5 [ 1.08573388  1.08573388] 0.121246018722\n",
        "6 [ 0.91426612  0.97142204] 0.0903714466212\n",
        "7 [ 1.04762993  1.04762993] 0.06735889929\n",
        "8 [ 0.95237007  0.98412336] 0.050206359234\n",
        "9 [ 1.02646107  1.02646107] 0.0374216107167\n",
        "10 [ 0.97353893  0.99117964] 0.0278924217967\n",
        "11 [ 1.0147006  1.0147006] 0.0207897837315\n",
        "12 [ 0.9852994  0.9950998] 0.015495789887\n",
        "13 [ 1.008167  1.008167] 0.0115498798508\n",
        "14 [ 0.991833    0.99727767] 0.00860877215946\n",
        "15 [ 1.00453722  1.00453722] 0.00641659991712\n",
        "16 [ 0.99546278  0.99848759] 0.0047826511997\n",
        "17 [ 1.00252068  1.00252068] 0.00356477773173\n",
        "18 [ 0.99747932  0.99915977] 0.00265702844428\n",
        "19 [ 1.00140038  1.00140038] 0.00198043207319\n",
        "20 [ 0.99859962  0.99953321] 0.00147612691349\n",
        "21 [ 1.00077799  1.00077799] 0.00110024004066\n",
        "22 [ 0.99922201  0.99974067] 0.000820070507493\n",
        "23 [ 1.00043222  1.00043222] 0.000611244467033\n",
        "24 [ 0.99956778  0.99985593] 0.000455594726385\n",
        "25 [ 1.00024012  1.00024012] 0.000339580259463\n",
        "26 [ 0.99975988  0.99991996] 0.000253108181325\n",
        "27 [ 1.0001334  1.0001334] 0.000188655699701\n",
        "28 [ 0.9998666   0.99995553] 0.000140615656292\n",
        "29 [ 1.00007411  1.00007411] 0.000104808722056\n",
        "30 [ 0.99992589  0.9999753 ] 7.8119809051e-05\n",
        "31 [ 1.00004117  1.00004117] 5.82270678093e-05\n",
        "32 [ 0.99995883  0.99998628] 4.33998939173e-05\n",
        "33 [ 1.00002287  1.00002287] 3.23483710052e-05\n",
        "34 [ 0.99997713  0.99999238] 2.41110521762e-05\n",
        "35 [ 1.00001271  1.00001271] 1.79713172251e-05\n",
        "36 [ 0.99998729  0.99999576] 1.33950289867e-05\n",
        "37 [ 1.00000706  1.00000706] 9.98406512516e-06\n",
        "38 [ 0.99999294  0.99999765] 7.44168277041e-06\n",
        "39 [ 1.00000392  1.00000392] 5.54670284721e-06\n",
        "40 [ 0.99999608  0.99999869] 4.13426820564e-06\n",
        "41 [ 1.00000218  1.00000218] 3.08150158189e-06\n",
        "42 [ 0.99999782  0.99999927] 2.29681566983e-06\n",
        "43 [ 1.00000121  1.00000121] 1.7119453232e-06\n",
        "44 [ 0.99999879  0.9999996 ] 1.27600870534e-06\n",
        "45 [ 1.00000067  1.00000067] 9.51080735006e-07\n",
        "46 [ 0.99999933  0.99999978] 7.08893725048e-07\n",
        "47 [ 1.00000037  1.00000037] 5.28378186115e-07\n",
        "48 [ 0.99999963  0.99999988] 3.93829847186e-07\n",
        "49 [ 1.00000021  1.00000021] 2.93543436783e-07\n"
       ]
      }
     ],
     "prompt_number": 56
    },
    {
     "cell_type": "markdown",
     "metadata": {},
     "source": [
      "La idea de normalizar la ecuaci\u00f3n lineal, i.e., $A\\to A/\\alpha, b\\to b\\alpha$, se llama *precondicionar*.\n",
      "\n",
      "Otra idea es multiplicar todo por una matriz *no singular* $M^{-1}$, i.e., $M^{-1} A x = M^{-1} b$, tal que la matriz $M^{-1}$ es cercana a la inversa de $A$."
     ]
    },
    {
     "cell_type": "markdown",
     "metadata": {},
     "source": [
      "Para nosotros lo importante es que esto lo podemos llevar al caso de intervalo."
     ]
    },
    {
     "cell_type": "heading",
     "level": 3,
     "metadata": {},
     "source": [
      "M\u00e9todo de Krawzyk lineal"
     ]
    },
    {
     "cell_type": "markdown",
     "metadata": {},
     "source": [
      "Tenemos, entonces $A x = b$ con $A$ y $b$ son una matriz y un vector cuyos elementos son intervalos.\n",
      "\n",
      "Empezamos por definir una matriz $Y$ que sea cercana a la matriz inversa de $A$. En concreto, definimos $ Y = [mid(A)]^{-1}$, que es una matriz de valores reales. Entonces, queremos resolver el sistema $Y A x = Y b$, y esto lo resolvemos como antes, con $E=(I - Y A)$,\n",
      "$$\n",
      "x^{(k+1)} = E x^{(k)}+Y b.\n",
      "$$\n",
      "\n",
      "Para intervalos, $x^{(k+1)}$ es un intervalo, por lo que debemos considerar inicialmente un intervalo suficientemente grande que contenga a la soluci\u00f3n, y tomamos la intersecci\u00f3n, i.e.:\n",
      "$$\n",
      "x^{(k+1)} = (E x^{(k)}+Y b)\\cap x^{(k)},\n",
      "$$\n",
      "y para el *intervalo inicial* tomamos:\n",
      "$$\n",
      "x^{(0)} = [-1,1] \\frac{||Y b||}{1-||E||}.\n",
      "$$"
     ]
    },
    {
     "cell_type": "code",
     "collapsed": false,
     "input": [],
     "language": "python",
     "metadata": {},
     "outputs": []
    }
   ],
   "metadata": {}
  }
 ]
}